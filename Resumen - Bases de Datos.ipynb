{
 "cells": [
  {
   "cell_type": "markdown",
   "metadata": {},
   "source": [
    "ref > `https://www.w3schools.com/python/python_mysql_getstarted.asp`\n",
    "\n",
    "# 1.- Python y MySQL <a id='1.-'></a>\n",
    "\n",
    "Python se puede utilizar en aplicaciones de bases de datos. Una de las bases de datos más populares es MySQL."
   ]
  },
  {
   "cell_type": "markdown",
   "metadata": {},
   "source": [
    "## 1.1 Prueba del conector MySQL <a id='1.1'></a>\n",
    "\n",
    "Para probar si la instalación fue exitosa, o si ya tiene instalado \"MySQL Connector\", cree una página de Python con el siguiente contenido:"
   ]
  },
  {
   "cell_type": "code",
   "execution_count": 1,
   "metadata": {},
   "outputs": [],
   "source": [
    "import mysql.connector"
   ]
  },
  {
   "cell_type": "markdown",
   "metadata": {},
   "source": [
    "Si el código anterior se ejecutó sin errores, \"MySQL Connector\" está instalado y listo para usarse.\n",
    "\n",
    "## 1.2 Crear conexión <a id='1.2'></a>\n",
    "\n",
    "Comience por crear una conexión a la base de datos. Utilice el nombre de usuario y la contraseña de su base de datos MySQL:"
   ]
  },
  {
   "cell_type": "code",
   "execution_count": 10,
   "metadata": {},
   "outputs": [
    {
     "name": "stdout",
     "output_type": "stream",
     "text": [
      "<mysql.connector.connection_cext.CMySQLConnection object at 0x0000000008356B80>\n"
     ]
    }
   ],
   "source": [
    "mydb = mysql.connector.connect(\n",
    "  host='localhost',\n",
    "  user='root',\n",
    "  password=''\n",
    ")\n",
    "\n",
    "print(mydb)"
   ]
  },
  {
   "cell_type": "markdown",
   "metadata": {},
   "source": [
    "Para mayor facilidad, definamos una funcion de conexion:"
   ]
  },
  {
   "cell_type": "code",
   "execution_count": 7,
   "metadata": {},
   "outputs": [],
   "source": [
    "def conectar_db_0():\n",
    "        mydb = mysql.connector.connect(\n",
    "        host='localhost',\n",
    "        user='root',\n",
    "        password=''\n",
    "    )"
   ]
  },
  {
   "cell_type": "code",
   "execution_count": 9,
   "metadata": {},
   "outputs": [
    {
     "name": "stdout",
     "output_type": "stream",
     "text": [
      "None\n"
     ]
    }
   ],
   "source": [
    "print(conectar_db_0())"
   ]
  },
  {
   "cell_type": "markdown",
   "metadata": {},
   "source": [
    "# 2.- Crear base de datos <a id='2.-'></a>\n",
    "\n",
    "## 2.1 Crear una base de datos <a id='2.1'></a>\n",
    "\n",
    "Para crear una base de datos en MySQL, use la instrucción \"CREATE DATABASE\":"
   ]
  },
  {
   "cell_type": "code",
   "execution_count": 2,
   "metadata": {},
   "outputs": [],
   "source": [
    "sql = \"CREATE DATABASE \\\n",
    "  VRSS_Operation_and_Managment_Subsystem\"\n",
    "\n",
    "conectar_db_0()\n",
    "mycursor = mydb.cursor()\n",
    "mycursor.execute(sql)"
   ]
  },
  {
   "cell_type": "markdown",
   "metadata": {},
   "source": [
    "## 2.2 Comprobar si existe la base de datos <a id='2.2'></a>\n",
    "\n",
    "Puede verificar si existe una base de datos enumerando todas las bases de datos en su sistema usando la declaración \"MOSTRAR BASES DE DATOS\":"
   ]
  },
  {
   "cell_type": "code",
   "execution_count": 11,
   "metadata": {},
   "outputs": [
    {
     "name": "stdout",
     "output_type": "stream",
     "text": [
      "('formulario',)\n",
      "('information_schema',)\n",
      "('mydatabase',)\n",
      "('mysql',)\n",
      "('performance_schema',)\n",
      "('phpmyadmin',)\n",
      "('test',)\n",
      "('tiendaonline',)\n",
      "('vrss_operation_and_managment_subsystem',)\n",
      "('wordpress',)\n"
     ]
    }
   ],
   "source": [
    "sql = \"SHOW DATABASES\"\n",
    "\n",
    "conectar_db_0()\n",
    "mycursor = mydb.cursor()\n",
    "mycursor.execute(sql)\n",
    "\n",
    "for x in mycursor:\n",
    "    print(x)"
   ]
  },
  {
   "cell_type": "markdown",
   "metadata": {},
   "source": [
    "O puede intentar acceder a la base de datos al realizar la conexión:"
   ]
  },
  {
   "cell_type": "code",
   "execution_count": 19,
   "metadata": {},
   "outputs": [
    {
     "name": "stdout",
     "output_type": "stream",
     "text": [
      "<mysql.connector.connection_cext.CMySQLConnection object at 0x000000000635B7C0>\n"
     ]
    }
   ],
   "source": [
    "mydb = mysql.connector.connect(\n",
    "  host='localhost',\n",
    "  user='root',\n",
    "  password='',\n",
    "  database='VRSS_Operation_and_Managment_Subsystem'\n",
    ")\n",
    "\n",
    "print(mydb)"
   ]
  },
  {
   "cell_type": "markdown",
   "metadata": {},
   "source": [
    "# Inyección de sql\n",
    "\n",
    "En adelante definiremos la siguiente funcion para facilitar las conexiones que usaremos para practica"
   ]
  },
  {
   "cell_type": "code",
   "execution_count": 21,
   "metadata": {},
   "outputs": [],
   "source": [
    "def on_db(base_datos, sql):\n",
    "    mydb = mysql.connector.connect(\n",
    "    host='localhost',\n",
    "    user='root',\n",
    "    password='',\n",
    "    database=base_datos\n",
    "    )\n",
    "\n",
    "    mycursor = mydb.cursor()\n",
    "    mycursor.execute(sql)\n",
    "\n",
    "    if sql == \"SHOW TABLES\":\n",
    "        s = []\n",
    "        for x in mycursor:\n",
    "            s.append(x[0])\n",
    "        return s\n",
    "\n",
    "    if \"INSERT INTO\" in sql or \"DELETE FROM\" in sql:\n",
    "        mydb.commit()\n",
    "    \n",
    "    if \"SELECT\" in sql:\n",
    "        myresult = mycursor.fetchall()\n",
    "        return myresult\n",
    "\n",
    "    if \"UPDATE\" in sql:\n",
    "        mydb.commit()\n",
    "        print(mycursor.rowcount, \"record(s) affected\")\n"
   ]
  },
  {
   "cell_type": "markdown",
   "metadata": {},
   "source": [
    "# 3.- Crear tabla <a id='3.-'></a>\n",
    "\n",
    "## 3.1 Crear/Borrar una tabla <a id='3.1'></a>\n",
    "\n",
    "### Para crear una tabla en MySQL \n",
    "Use la instrucción \"CREATE TABLE\". Asegúrese de definir el nombre de la base de datos cuando cree la conexión"
   ]
  },
  {
   "cell_type": "code",
   "execution_count": 36,
   "metadata": {},
   "outputs": [],
   "source": [
    "sql = \"CREATE TABLE customers (\\\n",
    "  name VARCHAR(255), \\\n",
    "  address VARCHAR(255)\\\n",
    "  )\"\n",
    "on_db('test', sql)"
   ]
  },
  {
   "cell_type": "markdown",
   "metadata": {},
   "source": [
    "Si el código anterior se ejecutó sin errores, ahora ha creado una tabla con éxito.\n",
    "\n",
    "### Para borrar la tabla en MySQL \n",
    "\n",
    "Use la instrucción \"DROP TABLE\". Asegúrese de definir el nombre de la base de datos cuando cree la conexión"
   ]
  },
  {
   "cell_type": "code",
   "execution_count": 34,
   "metadata": {},
   "outputs": [],
   "source": [
    "sql = \"DROP TABLE customers\"\n",
    "on_db('test', sql)"
   ]
  },
  {
   "cell_type": "markdown",
   "metadata": {},
   "source": [
    "Si la tabla que desea eliminar ya se eliminó, o por cualquier otra razón no existe, puede usar la palabra clave IF EXISTS para evitar recibir un error."
   ]
  },
  {
   "cell_type": "code",
   "execution_count": 48,
   "metadata": {},
   "outputs": [],
   "source": [
    "sql = \"DROP TABLE IF EXISTS customers\"\n",
    "on_db('test', sql)"
   ]
  },
  {
   "cell_type": "markdown",
   "metadata": {},
   "source": [
    "## Alterar una tabla\n",
    "\n",
    "### Para añadir una columna\n",
    "\n",
    "Si la tabla ya existe, use la palabra clave ALTER TABLE:\n",
    "\n",
    "Para añadir una columna al final de la tabla"
   ]
  },
  {
   "cell_type": "code",
   "execution_count": 37,
   "metadata": {},
   "outputs": [],
   "source": [
    "sql = \"ALTER TABLE customers ADD COLUMN \\\n",
    "  id INT AUTO_INCREMENT PRIMARY KEY\"\n",
    "on_db('test', sql)"
   ]
  },
  {
   "cell_type": "markdown",
   "metadata": {},
   "source": [
    "Para Borrar la columna"
   ]
  },
  {
   "cell_type": "code",
   "execution_count": 42,
   "metadata": {},
   "outputs": [],
   "source": [
    "sql = \"ALTER TABLE customers DROP COLUMN id\"\n",
    "on_db('test', sql)"
   ]
  },
  {
   "cell_type": "markdown",
   "metadata": {},
   "source": [
    "Para añadirla al principio"
   ]
  },
  {
   "cell_type": "code",
   "execution_count": 39,
   "metadata": {},
   "outputs": [],
   "source": [
    "sql = \"ALTER TABLE `customers` ADD \\\n",
    "  `Id` INT NOT NULL AUTO_INCREMENT FIRST, \\\n",
    "    ADD PRIMARY KEY (`Id`);\"\n",
    "on_db('test', sql)"
   ]
  },
  {
   "cell_type": "markdown",
   "metadata": {},
   "source": [
    "Para añadirla despues de la columna `name`"
   ]
  },
  {
   "cell_type": "code",
   "execution_count": 41,
   "metadata": {},
   "outputs": [],
   "source": [
    "sql = \"ALTER TABLE `customers` ADD \\\n",
    "  `Id` INT NOT NULL AUTO_INCREMENT AFTER `name`, \\\n",
    "    ADD PRIMARY KEY (`Id`);\"\n",
    "on_db('test', sql)"
   ]
  },
  {
   "cell_type": "markdown",
   "metadata": {},
   "source": [
    "Para alterar el nombre de una columna"
   ]
  },
  {
   "cell_type": "code",
   "execution_count": 44,
   "metadata": {},
   "outputs": [],
   "source": [
    "sql = \"ALTER TABLE `customers` CHANGE \\\n",
    "    `address1` `address` VARCHAR(255) CHARACTER SET \\\n",
    "    latin1 COLLATE latin1_swedish_ci NULL DEFAULT NULL;\"\n",
    "on_db('test', sql)"
   ]
  },
  {
   "cell_type": "markdown",
   "metadata": {},
   "source": [
    "## 3.2 Comprobar si existe la tabla <a id='3.2'></a>\n",
    "\n",
    "Puede verificar si existe una tabla enumerando todas las tablas en su base de datos con la declaración \"SHOW TABLES\" (ver [Sección 2.2](#2.2))."
   ]
  },
  {
   "cell_type": "code",
   "execution_count": 45,
   "metadata": {},
   "outputs": [
    {
     "data": {
      "text/plain": [
       "['customers', 'tabla1', 'tabla2']"
      ]
     },
     "execution_count": 45,
     "metadata": {},
     "output_type": "execute_result"
    }
   ],
   "source": [
    "sql = \"SHOW TABLES\"\n",
    "on_db('test', sql)"
   ]
  },
  {
   "cell_type": "markdown",
   "metadata": {},
   "source": [
    "## 3.3 Clave primaria <a id='3.3'></a>\n",
    "\n",
    "Al crear una tabla, también debe crear una columna con una clave única para cada registro.\n",
    "\n",
    "Esto se puede hacer definiendo una CLAVE PRINCIPAL.\n",
    "\n",
    "Usamos la declaración \"INT AUTO_INCREMENT PRIMARY KEY\" que insertará un número único para cada registro. Comenzando en 1, y aumentando en uno para cada registro."
   ]
  },
  {
   "cell_type": "code",
   "execution_count": 49,
   "metadata": {},
   "outputs": [],
   "source": [
    "sql = \"CREATE TABLE `test`.`customers` (\\\n",
    "  `Id` INT(10) NOT NULL AUTO_INCREMENT , \\\n",
    "  `name` VARCHAR(255) NOT NULL , \\\n",
    "  `address` VARCHAR(255) NOT NULL , \\\n",
    "  PRIMARY KEY (`Id`)) ENGINE = InnoDB;\\\n",
    "  )\"\n",
    "on_db('test', sql)"
   ]
  },
  {
   "cell_type": "markdown",
   "metadata": {},
   "source": [
    "# 4.- Insertar en la tabla <a id='4.-'></a>\n",
    "\n",
    "## 4.1 Insertar/Borrar registros en la tabla <a id='4.1'></a>\n",
    "\n",
    "Para llenar o borrar de una tabla en MySQL, use las instrucciones \"INSERT INTO\" o \"DELETE FROM\"."
   ]
  },
  {
   "cell_type": "code",
   "execution_count": 53,
   "metadata": {},
   "outputs": [],
   "source": [
    "sql = \"INSERT INTO test.customers \\\n",
    "  (`Id`, `name`, `address`) VALUES \\\n",
    "  (NULL, 'nombre1', 'direccion1'), \\\n",
    "  (NULL, 'nombre2', 'direccion2');\"\n",
    "on_db('test', sql)"
   ]
  },
  {
   "cell_type": "markdown",
   "metadata": {},
   "source": [
    "Para borrar un registro (ver [Sección 8](#8.-))."
   ]
  },
  {
   "cell_type": "code",
   "execution_count": 51,
   "metadata": {},
   "outputs": [],
   "source": [
    "sql1 = \"DELETE FROM `customers` WHERE `customers`.`Id` = 1;\"\n",
    "sql2 = \"DELETE FROM `customers` WHERE `customers`.`Id` = 2;\"\n",
    "\n",
    "on_db('test', sql1)\n",
    "on_db('test', sql2)"
   ]
  },
  {
   "cell_type": "markdown",
   "metadata": {},
   "source": [
    "### 4.1.1 Prevenir la inyección de SQL <a id='4.1.1'></a>\n",
    "\n",
    "Se considera una buena práctica escapar los valores de cualquier consulta, también en declaraciones de eliminación [Sección 4.1](#4.-).\n",
    "\n",
    "Esto es para evitar inyecciones de SQL, que es una técnica común de piratería web para destruir o hacer un mal uso de su base de datos.\n",
    "\n",
    "El módulo mysql.connector usa el marcador de posición `%s` para escapar valores en la declaración de eliminación:"
   ]
  },
  {
   "cell_type": "code",
   "execution_count": 85,
   "metadata": {},
   "outputs": [
    {
     "name": "stdout",
     "output_type": "stream",
     "text": [
      "1 record(s) deleted!\n"
     ]
    }
   ],
   "source": [
    "sql = \"DELETE FROM `customers` WHERE Id = %s\"\n",
    "adr = (\"13\", )\n",
    "\n",
    "mydb = mysql.connector.connect(\n",
    "  host='localhost',\n",
    "  user='root',\n",
    "  password='',\n",
    "  database='test'\n",
    ")\n",
    "\n",
    "mycursor = mydb.cursor()\n",
    "mycursor.execute(sql, adr)\n",
    "\n",
    "mydb.commit()\n",
    "\n",
    "print(mycursor.rowcount, \"record(s) deleted!\")"
   ]
  },
  {
   "cell_type": "markdown",
   "metadata": {},
   "source": [
    "# 5.- Seleccionar de una Tabla <a id='5.-'></a>\n",
    "\n",
    "## 5.1 Seleccionar de una tabla <a id='5.1'></a>\n",
    "\n",
    "Para seleccionar de una tabla en MySQL, use la instrucción \"SELECT\":"
   ]
  },
  {
   "cell_type": "code",
   "execution_count": 54,
   "metadata": {},
   "outputs": [
    {
     "data": {
      "text/plain": [
       "[(3, 'nombre1', 'direccion1'), (4, 'nombre2', 'direccion2')]"
      ]
     },
     "execution_count": 54,
     "metadata": {},
     "output_type": "execute_result"
    }
   ],
   "source": [
    "sql = \"SELECT * FROM customers\"\n",
    "on_db('test', sql)"
   ]
  },
  {
   "cell_type": "markdown",
   "metadata": {},
   "source": [
    "## 5.2 Selección de columnas\n",
    "\n",
    "Para seleccionar solo algunas de las columnas de una tabla, utilice la instrucción \"SELECCIONAR\" seguida del nombre de la columna:"
   ]
  },
  {
   "cell_type": "code",
   "execution_count": 55,
   "metadata": {},
   "outputs": [
    {
     "data": {
      "text/plain": [
       "[('nombre1', 3), ('nombre2', 4)]"
      ]
     },
     "execution_count": 55,
     "metadata": {},
     "output_type": "execute_result"
    }
   ],
   "source": [
    "sql = \"SELECT name, Id FROM customers\"\n",
    "on_db('test', sql)"
   ]
  },
  {
   "cell_type": "markdown",
   "metadata": {},
   "source": [
    "## 5.3 Usando el método fetchone()\n",
    "\n",
    "Si solo está interesado en una fila, puede usar el método `fetchone()`.\n",
    "\n",
    "El método `fetchone()` devolverá la primera fila del resultado:"
   ]
  },
  {
   "cell_type": "code",
   "execution_count": 26,
   "metadata": {},
   "outputs": [
    {
     "name": "stdout",
     "output_type": "stream",
     "text": [
      "(1, 'Betancourt Gomez', 'Jorge Luis', 20051859, '+58 414 131 2718', 'jbetancour@abae.gob.ve', datetime.date(2018, 3, 1))\n"
     ]
    }
   ],
   "source": [
    "sql = \"SELECT * FROM `personal_activo`\"\n",
    "\n",
    "mydb = mysql.connector.connect(\n",
    "  host='localhost',\n",
    "  user='root',\n",
    "  password='',\n",
    "  database='VRSS_Operation_and_Managment_Subsystem'\n",
    ")\n",
    "\n",
    "mycursor = mydb.cursor()\n",
    "\n",
    "mycursor.execute(sql)\n",
    "\n",
    "myresult = mycursor.fetchone()\n",
    "\n",
    "print(myresult)"
   ]
  },
  {
   "cell_type": "markdown",
   "metadata": {},
   "source": [
    "# 6.- Dónde <a id='6.-'></a>\n",
    "\n",
    "## 6.1 Seleccionar con un filtro <a id='6.1'></a>\n",
    "\n",
    "Al seleccionar registros de una tabla, puede filtrar la selección utilizando la instrucción \"WHERE\":"
   ]
  },
  {
   "cell_type": "code",
   "execution_count": 60,
   "metadata": {},
   "outputs": [
    {
     "data": {
      "text/plain": [
       "[(4, 'nombre2', 'direccion2')]"
      ]
     },
     "execution_count": 60,
     "metadata": {},
     "output_type": "execute_result"
    }
   ],
   "source": [
    "sql = \"SELECT * FROM customers WHERE Id = 4\"\n",
    "on_db('test', sql)"
   ]
  },
  {
   "cell_type": "markdown",
   "metadata": {},
   "source": [
    "## 6.2 Caracteres comodín <a id='6.2'></a>\n",
    "\n",
    "También puede seleccionar los registros que comienzan, incluyen o terminan con una letra o frase determinada.\n",
    "\n",
    "Use el `%`  para representar caracteres comodín:"
   ]
  },
  {
   "cell_type": "code",
   "execution_count": 17,
   "metadata": {},
   "outputs": [
    {
     "data": {
      "text/plain": [
       "[('nombre1', 'direccion1')]"
      ]
     },
     "execution_count": 17,
     "metadata": {},
     "output_type": "execute_result"
    }
   ],
   "source": [
    "sql = \"SELECT name, address FROM \\\n",
    "  `customers` WHERE Id LIKE '%5%'\"\n",
    "on_db('test', sql)"
   ]
  },
  {
   "cell_type": "markdown",
   "metadata": {},
   "source": [
    "# 7.- Ordenar por <a id='7.-'></a>\n",
    "\n",
    "## 7.1 ordenar el resultado <a id='7.1'></a>\n",
    "\n",
    "Utilice la instrucción ORDER BY para clasificar el resultado en orden ascendente o descendente.\n",
    "\n",
    "La palabra clave ORDER BY ordena el resultado de forma ascendente de forma predeterminada. Para ordenar el resultado en orden descendente, use la palabra clave DESC."
   ]
  },
  {
   "cell_type": "code",
   "execution_count": 61,
   "metadata": {},
   "outputs": [
    {
     "data": {
      "text/plain": [
       "[(3, 'nombre1', 'direccion1'), (4, 'nombre2', 'direccion2')]"
      ]
     },
     "execution_count": 61,
     "metadata": {},
     "output_type": "execute_result"
    }
   ],
   "source": [
    "sql = \"SELECT * FROM `customers` ORDER BY name\"\n",
    "on_db('test', sql)"
   ]
  },
  {
   "cell_type": "markdown",
   "metadata": {},
   "source": [
    "## 7.2 Orden descendente <a id='7.2'></a>\n",
    "\n",
    "Utilice la palabra clave DESC para ordenar el resultado en orden descendente."
   ]
  },
  {
   "cell_type": "code",
   "execution_count": 62,
   "metadata": {},
   "outputs": [
    {
     "data": {
      "text/plain": [
       "[(4, 'nombre2', 'direccion2'), (3, 'nombre1', 'direccion1')]"
      ]
     },
     "execution_count": 62,
     "metadata": {},
     "output_type": "execute_result"
    }
   ],
   "source": [
    "sql = \"SELECT * FROM `customers` ORDER BY name DESC\"\n",
    "on_db('test', sql)"
   ]
  },
  {
   "cell_type": "markdown",
   "metadata": {},
   "source": [
    "# 8.- Actualización de Tablas\n",
    "\n",
    "## 8.1 Actualizar tabla\n",
    "\n",
    "Puede actualizar los registros existentes en una tabla utilizando la instrucción \"UPDATE\":"
   ]
  },
  {
   "cell_type": "code",
   "execution_count": 63,
   "metadata": {},
   "outputs": [
    {
     "name": "stdout",
     "output_type": "stream",
     "text": [
      "1 record(s) affected\n"
     ]
    }
   ],
   "source": [
    "sql = \"UPDATE `customers` SET \\\n",
    "    `address` = 'direccion-1' WHERE `customers`.`Id` = 3; \"\n",
    "on_db('test', sql)"
   ]
  },
  {
   "cell_type": "markdown",
   "metadata": {},
   "source": [
    "### 8.1.1 Prevenir la inyección de SQL\n",
    "\n",
    "Se considera una buena práctica escapar los valores de cualquier consulta, también en declaraciones de actualización.\n",
    "\n",
    "Esto es para evitar inyecciones de SQL, que es una técnica común de piratería web para destruir o hacer un mal uso de su base de datos.\n",
    "\n",
    "El módulo mysql.connector usa el marcador de posición %spara escapar valores en la declaración de eliminación:"
   ]
  },
  {
   "cell_type": "code",
   "execution_count": 15,
   "metadata": {},
   "outputs": [
    {
     "name": "stdout",
     "output_type": "stream",
     "text": [
      "1 record(s) deleted!\n"
     ]
    }
   ],
   "source": [
    "sql = \"UPDATE `customers` SET `address` = %s WHERE `customers`.`Id` = %s;\"\n",
    "val = ('direccion1', 1) \n",
    "\n",
    "mydb = mysql.connector.connect(\n",
    "  host='localhost',\n",
    "  user='root',\n",
    "  password='',\n",
    "  database='test'\n",
    ")\n",
    "\n",
    "mycursor = mydb.cursor()\n",
    "mycursor.execute(sql, val)\n",
    "\n",
    "mydb.commit()\n",
    "\n",
    "print(mycursor.rowcount, \"record(s) deleted!\")"
   ]
  },
  {
   "cell_type": "markdown",
   "metadata": {},
   "source": [
    "# 9.- Límites\n",
    "\n",
    "## 9.1 Limitar el resultado\n",
    "\n",
    "Puede limitar el número de registros devueltos por la consulta mediante la instrucción \"LIMIT\":"
   ]
  },
  {
   "cell_type": "code",
   "execution_count": 64,
   "metadata": {},
   "outputs": [
    {
     "data": {
      "text/plain": [
       "[(3, 'nombre1', 'direccion-1')]"
      ]
     },
     "execution_count": 64,
     "metadata": {},
     "output_type": "execute_result"
    }
   ],
   "source": [
    "sql = \"SELECT * FROM customers LIMIT 1\"\n",
    "on_db('test', sql)"
   ]
  },
  {
   "cell_type": "markdown",
   "metadata": {},
   "source": [
    "## 9.2 Empezar desde otra posición\n",
    "\n",
    "Si desea devolver cinco registros, a partir del tercer registro, puede utilizar la palabra clave \"OFFSET\":"
   ]
  },
  {
   "cell_type": "code",
   "execution_count": 65,
   "metadata": {},
   "outputs": [
    {
     "data": {
      "text/plain": [
       "[(4, 'nombre2', 'direccion2')]"
      ]
     },
     "execution_count": 65,
     "metadata": {},
     "output_type": "execute_result"
    }
   ],
   "source": [
    "sql = \"SELECT * FROM customers LIMIT 1 OFFSET 1\"\n",
    "on_db('test', sql)"
   ]
  },
  {
   "cell_type": "markdown",
   "metadata": {},
   "source": [
    "# 10.- Join\n",
    "\n",
    "## 10.1 Unir dos o mas tablas"
   ]
  },
  {
   "cell_type": "code",
   "execution_count": 66,
   "metadata": {},
   "outputs": [],
   "source": [
    "create_table = \"CREATE TABLE `test`.`usuarios` (\\\n",
    "   `Id` INT(10) NOT NULL AUTO_INCREMENT , \\\n",
    "   `name` VARCHAR(255) NOT NULL , \\\n",
    "   `fav` VARCHAR(255) NULL , \\\n",
    "   PRIMARY KEY (`Id`)) ENGINE = InnoDB;\\\n",
    "  )\"\n",
    "\n",
    "insert_table = \"INSERT INTO \\\n",
    "  `test`.`usuarios` (`Id`, `name`, `fav`) VALUES \\\n",
    "  (NULL, 'John', 154), \\\n",
    "  (NULL, 'Peter', 154), \\\n",
    "  (NULL, 'Amy', 155), \\\n",
    "  (NULL, 'Hannah', ''), \\\n",
    "  (NULL, 'Michael', '');\"\n",
    "\n",
    "on_db('test', create_table)\n",
    "on_db('test', insert_table)"
   ]
  },
  {
   "cell_type": "code",
   "execution_count": 67,
   "metadata": {},
   "outputs": [],
   "source": [
    "create_table = \"CREATE TABLE `test`.`productos` (\\\n",
    "   `Id` INT(10) NOT NULL , \\\n",
    "   `name` VARCHAR(255) NOT NULL , \\\n",
    "   PRIMARY KEY (`Id`)) ENGINE = InnoDB;\\\n",
    "  )\"\n",
    "\n",
    "insert_table = \"INSERT INTO `test`.`productos` (`Id`, `name`) VALUES \\\n",
    "  (154, 'Chocolate Heaven'), \\\n",
    "  (155, 'Tasty Lemons'), \\\n",
    "  (156, 'Vanilla Dreams');\"\n",
    "\n",
    "on_db('test', create_table)\n",
    "on_db('test', insert_table)"
   ]
  },
  {
   "cell_type": "markdown",
   "metadata": {},
   "source": [
    "Estas dos tablas se pueden combinar utilizando el campo `fav` de usuarios y el campo `Id` de productos."
   ]
  },
  {
   "cell_type": "code",
   "execution_count": 68,
   "metadata": {},
   "outputs": [
    {
     "data": {
      "text/plain": [
       "[('John', 'Chocolate Heaven'),\n",
       " ('Peter', 'Chocolate Heaven'),\n",
       " ('Amy', 'Tasty Lemons')]"
      ]
     },
     "execution_count": 68,
     "metadata": {},
     "output_type": "execute_result"
    }
   ],
   "source": [
    "sql = \"SELECT \\\n",
    " usuarios.name AS usuarios, \\\n",
    " productos.name AS favorito \\\n",
    " FROM usuarios \\\n",
    " INNER JOIN productos ON usuarios.fav = productos.Id\" \n",
    "\n",
    "on_db('test', sql)"
   ]
  }
 ],
 "metadata": {
  "interpreter": {
   "hash": "f899019e40078bba6a192d1b33425237bbe8b1e870f3f4f931213adcabf069ec"
  },
  "kernelspec": {
   "display_name": "Python 3.8.10 64-bit",
   "language": "python",
   "name": "python3"
  },
  "language_info": {
   "codemirror_mode": {
    "name": "ipython",
    "version": 3
   },
   "file_extension": ".py",
   "mimetype": "text/x-python",
   "name": "python",
   "nbconvert_exporter": "python",
   "pygments_lexer": "ipython3",
   "version": "3.8.10"
  },
  "orig_nbformat": 4
 },
 "nbformat": 4,
 "nbformat_minor": 2
}
