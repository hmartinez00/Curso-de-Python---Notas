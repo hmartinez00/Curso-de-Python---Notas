{
 "cells": [
  {
   "cell_type": "code",
   "execution_count": 100,
   "metadata": {},
   "outputs": [],
   "source": [
    "import pandas as pd\n",
    "import mysql.connector"
   ]
  },
  {
   "cell_type": "code",
   "execution_count": 101,
   "metadata": {},
   "outputs": [],
   "source": [
    "def on_db(base_datos, sql):\n",
    "    mydb = mysql.connector.connect(\n",
    "    host='localhost',\n",
    "    user='root',\n",
    "    password='',\n",
    "    database=base_datos\n",
    "    )\n",
    "\n",
    "    mycursor = mydb.cursor()\n",
    "    mycursor.execute(sql)\n",
    "\n",
    "    if sql == \"SHOW TABLES\":\n",
    "        s = []\n",
    "        for x in mycursor:\n",
    "            s.append(x[0])\n",
    "        return s\n",
    "\n",
    "    if \"INSERT INTO\" in sql or \"DELETE FROM\" in sql:\n",
    "        mydb.commit()\n",
    "    \n",
    "    if \"SELECT\" in sql:\n",
    "        myresult = mycursor.fetchall()\n",
    "        return myresult\n",
    "\n",
    "    if \"UPDATE\" in sql:\n",
    "        mydb.commit()\n",
    "        print(mycursor.rowcount, \"record(s) affected\")\n"
   ]
  },
  {
   "cell_type": "code",
   "execution_count": 102,
   "metadata": {},
   "outputs": [
    {
     "data": {
      "text/plain": [
       "['auth_group',\n",
       " 'auth_group_permissions',\n",
       " 'auth_permission',\n",
       " 'auth_user',\n",
       " 'auth_user_groups',\n",
       " 'auth_user_user_permissions',\n",
       " 'control_misiones_instantaneous_data_info',\n",
       " 'control_misiones_workmode',\n",
       " 'django_admin_log',\n",
       " 'django_content_type',\n",
       " 'django_migrations',\n",
       " 'django_session',\n",
       " 'gestion_personal_guardia',\n",
       " 'gestion_personal_personal',\n",
       " 'gestion_personal_vacaciones',\n",
       " 'protocolos_indice_protocolos',\n",
       " 'protocolos_mensajeria',\n",
       " 'protocolos_novedades',\n",
       " 'test',\n",
       " 'test2']"
      ]
     },
     "execution_count": 102,
     "metadata": {},
     "output_type": "execute_result"
    }
   ],
   "source": [
    "base_datos = 'vrss_operation_and_managment_subsystem'\n",
    "sql = 'SHOW TABLES'\n",
    "on_db(base_datos, sql)"
   ]
  },
  {
   "cell_type": "code",
   "execution_count": 103,
   "metadata": {},
   "outputs": [
    {
     "data": {
      "text/html": [
       "<div>\n",
       "<style scoped>\n",
       "    .dataframe tbody tr th:only-of-type {\n",
       "        vertical-align: middle;\n",
       "    }\n",
       "\n",
       "    .dataframe tbody tr th {\n",
       "        vertical-align: top;\n",
       "    }\n",
       "\n",
       "    .dataframe thead th {\n",
       "        text-align: right;\n",
       "    }\n",
       "</style>\n",
       "<table border=\"1\" class=\"dataframe\">\n",
       "  <thead>\n",
       "    <tr style=\"text-align: right;\">\n",
       "      <th></th>\n",
       "      <th>Satellite</th>\n",
       "      <th>EpochTime</th>\n",
       "      <th>SemiMajorAxis(m)</th>\n",
       "      <th>Eccentricity</th>\n",
       "      <th>Inclination(deg)</th>\n",
       "      <th>Raan(deg)</th>\n",
       "      <th>MeanAnomaly(deg)</th>\n",
       "      <th>ArgumentPerigee(deg)</th>\n",
       "      <th>OrbitNum</th>\n",
       "      <th>Source</th>\n",
       "      <th>OrbitEphId</th>\n",
       "    </tr>\n",
       "  </thead>\n",
       "  <tbody>\n",
       "    <tr>\n",
       "      <th>0</th>\n",
       "      <td>VRSS-1</td>\n",
       "      <td>04/26/2021 00:02:00</td>\n",
       "      <td>7022417.37</td>\n",
       "      <td>0.001359</td>\n",
       "      <td>97.736316</td>\n",
       "      <td>169.194728</td>\n",
       "      <td>135.349840</td>\n",
       "      <td>197.976622</td>\n",
       "      <td>46229</td>\n",
       "      <td>External</td>\n",
       "      <td>NaN</td>\n",
       "    </tr>\n",
       "    <tr>\n",
       "      <th>1</th>\n",
       "      <td>VRSS-2</td>\n",
       "      <td>04/26/2021 00:07:00</td>\n",
       "      <td>7017286.31</td>\n",
       "      <td>0.003004</td>\n",
       "      <td>97.872899</td>\n",
       "      <td>190.894090</td>\n",
       "      <td>308.341369</td>\n",
       "      <td>95.115427</td>\n",
       "      <td>19099</td>\n",
       "      <td>External</td>\n",
       "      <td>NaN</td>\n",
       "    </tr>\n",
       "    <tr>\n",
       "      <th>2</th>\n",
       "      <td>VRSS-1</td>\n",
       "      <td>04/27/2021 00:02:00</td>\n",
       "      <td>7011192.91</td>\n",
       "      <td>0.001064</td>\n",
       "      <td>97.739803</td>\n",
       "      <td>170.140809</td>\n",
       "      <td>135.273235</td>\n",
       "      <td>108.747610</td>\n",
       "      <td>46244</td>\n",
       "      <td>External</td>\n",
       "      <td>NaN</td>\n",
       "    </tr>\n",
       "    <tr>\n",
       "      <th>3</th>\n",
       "      <td>VRSS-2</td>\n",
       "      <td>04/27/2021 00:07:00</td>\n",
       "      <td>7016303.05</td>\n",
       "      <td>0.003209</td>\n",
       "      <td>97.872008</td>\n",
       "      <td>191.881619</td>\n",
       "      <td>220.021256</td>\n",
       "      <td>94.297524</td>\n",
       "      <td>19114</td>\n",
       "      <td>External</td>\n",
       "      <td>NaN</td>\n",
       "    </tr>\n",
       "    <tr>\n",
       "      <th>4</th>\n",
       "      <td>VRSS-1</td>\n",
       "      <td>04/28/2021 00:02:00</td>\n",
       "      <td>7022777.77</td>\n",
       "      <td>0.001259</td>\n",
       "      <td>97.731035</td>\n",
       "      <td>171.104024</td>\n",
       "      <td>352.390200</td>\n",
       "      <td>162.153182</td>\n",
       "      <td>46258</td>\n",
       "      <td>Internal</td>\n",
       "      <td>NaN</td>\n",
       "    </tr>\n",
       "    <tr>\n",
       "      <th>...</th>\n",
       "      <td>...</td>\n",
       "      <td>...</td>\n",
       "      <td>...</td>\n",
       "      <td>...</td>\n",
       "      <td>...</td>\n",
       "      <td>...</td>\n",
       "      <td>...</td>\n",
       "      <td>...</td>\n",
       "      <td>...</td>\n",
       "      <td>...</td>\n",
       "      <td>...</td>\n",
       "    </tr>\n",
       "    <tr>\n",
       "      <th>851</th>\n",
       "      <td>VRSS-2</td>\n",
       "      <td>07/04/2022 00:07</td>\n",
       "      <td>7006365.00</td>\n",
       "      <td>0.001386</td>\n",
       "      <td>97.736103</td>\n",
       "      <td>253.931223</td>\n",
       "      <td>333.898819</td>\n",
       "      <td>119.365077</td>\n",
       "      <td>25502</td>\n",
       "      <td>External</td>\n",
       "      <td>NaN</td>\n",
       "    </tr>\n",
       "    <tr>\n",
       "      <th>852</th>\n",
       "      <td>VRSS-2</td>\n",
       "      <td>07/05/2022 00:07</td>\n",
       "      <td>7024696.52</td>\n",
       "      <td>0.003103</td>\n",
       "      <td>97.726050</td>\n",
       "      <td>254.902536</td>\n",
       "      <td>270.179234</td>\n",
       "      <td>95.199923</td>\n",
       "      <td>25517</td>\n",
       "      <td>External</td>\n",
       "      <td>NaN</td>\n",
       "    </tr>\n",
       "    <tr>\n",
       "      <th>853</th>\n",
       "      <td>VRSS-1</td>\n",
       "      <td>07/05/2022 00:02</td>\n",
       "      <td>7009488.71</td>\n",
       "      <td>0.001727</td>\n",
       "      <td>97.578077</td>\n",
       "      <td>223.251710</td>\n",
       "      <td>186.371408</td>\n",
       "      <td>286.059507</td>\n",
       "      <td>52644</td>\n",
       "      <td>External</td>\n",
       "      <td>NaN</td>\n",
       "    </tr>\n",
       "    <tr>\n",
       "      <th>854</th>\n",
       "      <td>VRSS-2</td>\n",
       "      <td>07/06/2022 00:07</td>\n",
       "      <td>7006809.60</td>\n",
       "      <td>0.004763</td>\n",
       "      <td>97.736042</td>\n",
       "      <td>255.876305</td>\n",
       "      <td>175.925911</td>\n",
       "      <td>101.536246</td>\n",
       "      <td>25532</td>\n",
       "      <td>External</td>\n",
       "      <td>NaN</td>\n",
       "    </tr>\n",
       "    <tr>\n",
       "      <th>855</th>\n",
       "      <td>VRSS-1</td>\n",
       "      <td>07/06/2022 00:02</td>\n",
       "      <td>7022133.81</td>\n",
       "      <td>0.000509</td>\n",
       "      <td>97.570558</td>\n",
       "      <td>224.193570</td>\n",
       "      <td>192.424649</td>\n",
       "      <td>191.686391</td>\n",
       "      <td>52659</td>\n",
       "      <td>External</td>\n",
       "      <td>NaN</td>\n",
       "    </tr>\n",
       "  </tbody>\n",
       "</table>\n",
       "<p>856 rows × 11 columns</p>\n",
       "</div>"
      ],
      "text/plain": [
       "    Satellite            EpochTime  SemiMajorAxis(m)  Eccentricity  \\\n",
       "0      VRSS-1  04/26/2021 00:02:00        7022417.37      0.001359   \n",
       "1      VRSS-2  04/26/2021 00:07:00        7017286.31      0.003004   \n",
       "2      VRSS-1  04/27/2021 00:02:00        7011192.91      0.001064   \n",
       "3      VRSS-2  04/27/2021 00:07:00        7016303.05      0.003209   \n",
       "4      VRSS-1  04/28/2021 00:02:00        7022777.77      0.001259   \n",
       "..        ...                  ...               ...           ...   \n",
       "851    VRSS-2     07/04/2022 00:07        7006365.00      0.001386   \n",
       "852    VRSS-2     07/05/2022 00:07        7024696.52      0.003103   \n",
       "853    VRSS-1     07/05/2022 00:02        7009488.71      0.001727   \n",
       "854    VRSS-2     07/06/2022 00:07        7006809.60      0.004763   \n",
       "855    VRSS-1     07/06/2022 00:02        7022133.81      0.000509   \n",
       "\n",
       "     Inclination(deg)   Raan(deg)  MeanAnomaly(deg)  ArgumentPerigee(deg)  \\\n",
       "0           97.736316  169.194728        135.349840            197.976622   \n",
       "1           97.872899  190.894090        308.341369             95.115427   \n",
       "2           97.739803  170.140809        135.273235            108.747610   \n",
       "3           97.872008  191.881619        220.021256             94.297524   \n",
       "4           97.731035  171.104024        352.390200            162.153182   \n",
       "..                ...         ...               ...                   ...   \n",
       "851         97.736103  253.931223        333.898819            119.365077   \n",
       "852         97.726050  254.902536        270.179234             95.199923   \n",
       "853         97.578077  223.251710        186.371408            286.059507   \n",
       "854         97.736042  255.876305        175.925911            101.536246   \n",
       "855         97.570558  224.193570        192.424649            191.686391   \n",
       "\n",
       "     OrbitNum    Source OrbitEphId  \n",
       "0       46229  External        NaN  \n",
       "1       19099  External        NaN  \n",
       "2       46244  External        NaN  \n",
       "3       19114  External        NaN  \n",
       "4       46258  Internal        NaN  \n",
       "..        ...       ...        ...  \n",
       "851     25502  External        NaN  \n",
       "852     25517  External        NaN  \n",
       "853     52644  External        NaN  \n",
       "854     25532  External        NaN  \n",
       "855     52659  External        NaN  \n",
       "\n",
       "[856 rows x 11 columns]"
      ]
     },
     "execution_count": 103,
     "metadata": {},
     "output_type": "execute_result"
    }
   ],
   "source": [
    "archivo = \"Instantaneous Data Info.csv\"\n",
    "df = pd.read_csv(archivo)\n",
    "df"
   ]
  },
  {
   "cell_type": "code",
   "execution_count": 104,
   "metadata": {},
   "outputs": [
    {
     "data": {
      "text/plain": [
       "['Satellite',\n",
       " 'EpochTime',\n",
       " 'SemiMajorAxis_m',\n",
       " 'Eccentricity',\n",
       " 'Inclination_deg',\n",
       " 'Raan_deg',\n",
       " 'MeanAnomaly_deg',\n",
       " 'ArgumentPerigee_deg',\n",
       " 'OrbitNum',\n",
       " 'Source',\n",
       " 'OrbitEphId']"
      ]
     },
     "execution_count": 104,
     "metadata": {},
     "output_type": "execute_result"
    }
   ],
   "source": [
    "col_cabeceras = []\n",
    "for i in df.columns:\n",
    "     col_cabeceras.append(i.replace('(', '_').replace(')', ''))\n",
    "     \n",
    "col_cabeceras"
   ]
  },
  {
   "cell_type": "code",
   "execution_count": 82,
   "metadata": {},
   "outputs": [
    {
     "data": {
      "text/plain": [
       "'(`id`, `Satellite`, `EpochTime`, `SemiMajorAxis_m`, `Eccentricity`, `Inclination_deg`, `Raan_deg`, `MeanAnomaly_deg`, `ArgumentPerigee_deg`, `OrbitNum`, `Source`, `OrbitEphId`)'"
      ]
     },
     "execution_count": 82,
     "metadata": {},
     "output_type": "execute_result"
    }
   ],
   "source": [
    "str_cabeceras_0 = ''\n",
    "\n",
    "for i in range(len(col_cabeceras)):\n",
    "     if i < len(col_cabeceras) - 1:\n",
    "          str_cabeceras_0 = str_cabeceras_0 + '`' + col_cabeceras[i] + '`' + ', '\n",
    "     if i == len(col_cabeceras) - 1:\n",
    "          str_cabeceras_0 = str_cabeceras_0 + '`' + col_cabeceras[i] + '`'\n",
    "\n",
    "cabeceras = '(`id`, ' + str_cabeceras_0 + ')'\n",
    "cabeceras"
   ]
  },
  {
   "cell_type": "code",
   "execution_count": 109,
   "metadata": {},
   "outputs": [
    {
     "data": {
      "text/plain": [
       "Satellite                         VRSS-2\n",
       "EpochTime               05/01/2021 00:07\n",
       "SemiMajorAxis(m)              7017551.83\n",
       "Eccentricity                    0.002885\n",
       "Inclination(deg)               97.862028\n",
       "Raan(deg)                     195.789819\n",
       "MeanAnomaly(deg)              233.209155\n",
       "ArgumentPerigee(deg)           85.025044\n",
       "OrbitNum                           19173\n",
       "Source                          External\n",
       "OrbitEphId                           NaN\n",
       "Name: 11, dtype: object"
      ]
     },
     "execution_count": 109,
     "metadata": {},
     "output_type": "execute_result"
    }
   ],
   "source": [
    "df.iloc[11]"
   ]
  },
  {
   "cell_type": "code",
   "execution_count": 98,
   "metadata": {},
   "outputs": [
    {
     "data": {
      "text/plain": [
       "\"(NULL, 'VRSS-1', '04/27/2021 00:02:00', '7011192.91', '0.0010644', '97.739803', '170.140809', '135.273235', '108.74761', '46244', 'External', 'nan')\""
      ]
     },
     "execution_count": 98,
     "metadata": {},
     "output_type": "execute_result"
    }
   ],
   "source": [
    "N_reg = 2\n",
    "str_registro_0 = ''\n",
    "\n",
    "for i in range(len(df.iloc[N_reg])):\n",
    "     if i < len(df.iloc[N_reg]) - 1:\n",
    "          str_registro_0 = str_registro_0 + \"'\" + str(df.iloc[N_reg][i]) + \"'\" + ', '\n",
    "     if i == len(df.iloc[N_reg]) - 1:\n",
    "          str_registro_0 = str_registro_0 + \"'\" + str(df.iloc[N_reg][i]) + \"'\"\n",
    "\n",
    "registro = '(NULL, ' + str_registro_0 + ')'\n",
    "registro"
   ]
  },
  {
   "cell_type": "code",
   "execution_count": 60,
   "metadata": {},
   "outputs": [],
   "source": [
    "sql_phpmyadmin = \"INSERT INTO `control_misiones_instantaneous_data_info` (`id`, `Satellite`, `EpochTime`, `SemiMajorAxis_m`, `Eccentricity`, `Inclination_deg`, `Raan_deg`, `MeanAnomaly_deg`, `ArgumentPerigee_deg`, `OrbitNum`, `Source`, `OrbitEphI`) VALUES (NULL, 'VRSS-2', '2021-04-26 00:07:00', '7017286.31', '0.003004', '97.872899', '190.89409', '308.341369', '95.115427', '19099', 'External', ' ');\""
   ]
  },
  {
   "cell_type": "code",
   "execution_count": 91,
   "metadata": {},
   "outputs": [],
   "source": [
    "base_datos = 'vrss_operation_and_managment_subsystem'\n",
    "tabla = '`control_misiones_instantaneous_data_info`'\n",
    "sql = \"INSERT INTO \" + base_datos + \".\" + tabla + \" \\\n",
    "    \" + cabeceras + \" VALUES \\\n",
    "    \" + registro + \";\"\n",
    "# sql\n",
    "on_db(base_datos, sql)"
   ]
  },
  {
   "cell_type": "code",
   "execution_count": 61,
   "metadata": {},
   "outputs": [
    {
     "data": {
      "text/plain": [
       "\"INSERT INTO `control_misiones_instantaneous_data_info` (`id`, `Satellite`, `EpochTime`, `SemiMajorAxis_m`, `Eccentricity`, `Inclination_deg`, `Raan_deg`, `MeanAnomaly_deg`, `ArgumentPerigee_deg`, `OrbitNum`, `Source`, `OrbitEphI`) VALUES (NULL, 'VRSS-2', '2021-04-26 00:07:00', '7017286.31', '0.003004', '97.872899', '190.89409', '308.341369', '95.115427', '19099', 'External', ' ');\""
      ]
     },
     "execution_count": 61,
     "metadata": {},
     "output_type": "execute_result"
    }
   ],
   "source": [
    "sql_phpmyadmin"
   ]
  },
  {
   "cell_type": "code",
   "execution_count": 77,
   "metadata": {},
   "outputs": [
    {
     "name": "stdout",
     "output_type": "stream",
     "text": [
      "False\n"
     ]
    }
   ],
   "source": [
    "print(sql == sql_phpmyadmin)"
   ]
  },
  {
   "cell_type": "code",
   "execution_count": 73,
   "metadata": {},
   "outputs": [],
   "source": [
    "on_db(base_datos, sql_phpmyadmin)"
   ]
  },
  {
   "cell_type": "code",
   "execution_count": 49,
   "metadata": {},
   "outputs": [],
   "source": [
    "cabeceras = \"(`Id`, `valor`)\"\n",
    "registro = \"(NULL, '0.003004')\"\n",
    "\n",
    "base_datos = 'vrss_operation_and_managment_subsystem'\n",
    "tabla = 'test2'\n",
    "sql = \"INSERT INTO \" + base_datos + \".\" + tabla + \" \\\n",
    "     \" + cabeceras + \" VALUES \\\n",
    "     \" + registro + \";\"\n",
    "\n",
    "on_db(base_datos, sql)"
   ]
  },
  {
   "cell_type": "code",
   "execution_count": 15,
   "metadata": {},
   "outputs": [],
   "source": [
    "base_datos = 'vrss_operation_and_managment_subsystem'\n",
    "tabla = 'test2'\n",
    "sql = \"CREATE TABLE \" + base_datos + \".\" + tabla + \"(\\\n",
    "  `Id` INT(10) NOT NULL AUTO_INCREMENT , \\\n",
    "  `valor` FLOAT NOT NULL , \\\n",
    "  PRIMARY KEY (`Id`)) ENGINE = InnoDB;\\\n",
    "  )\"\n",
    "\n",
    "# sql\n",
    "on_db(base_datos, sql)"
   ]
  },
  {
   "cell_type": "code",
   "execution_count": 114,
   "metadata": {},
   "outputs": [
    {
     "data": {
      "text/html": [
       "<div>\n",
       "<style scoped>\n",
       "    .dataframe tbody tr th:only-of-type {\n",
       "        vertical-align: middle;\n",
       "    }\n",
       "\n",
       "    .dataframe tbody tr th {\n",
       "        vertical-align: top;\n",
       "    }\n",
       "\n",
       "    .dataframe thead th {\n",
       "        text-align: right;\n",
       "    }\n",
       "</style>\n",
       "<table border=\"1\" class=\"dataframe\">\n",
       "  <thead>\n",
       "    <tr style=\"text-align: right;\">\n",
       "      <th></th>\n",
       "      <th>Satellite</th>\n",
       "      <th>EpochTime</th>\n",
       "      <th>SemiMajorAxis(m)</th>\n",
       "      <th>Eccentricity</th>\n",
       "      <th>Inclination(deg)</th>\n",
       "      <th>Raan(deg)</th>\n",
       "      <th>MeanAnomaly(deg)</th>\n",
       "      <th>ArgumentPerigee(deg)</th>\n",
       "      <th>OrbitNum</th>\n",
       "      <th>Source</th>\n",
       "      <th>OrbitEphId</th>\n",
       "    </tr>\n",
       "  </thead>\n",
       "  <tbody>\n",
       "    <tr>\n",
       "      <th>0</th>\n",
       "      <td>VRSS-1</td>\n",
       "      <td>2021-04-26 00:02:00</td>\n",
       "      <td>7022417.37</td>\n",
       "      <td>0.001359</td>\n",
       "      <td>97.736316</td>\n",
       "      <td>169.194728</td>\n",
       "      <td>135.349840</td>\n",
       "      <td>197.976622</td>\n",
       "      <td>46229</td>\n",
       "      <td>External</td>\n",
       "      <td>NaN</td>\n",
       "    </tr>\n",
       "    <tr>\n",
       "      <th>1</th>\n",
       "      <td>VRSS-2</td>\n",
       "      <td>2021-04-26 00:07:00</td>\n",
       "      <td>7017286.31</td>\n",
       "      <td>0.003004</td>\n",
       "      <td>97.872899</td>\n",
       "      <td>190.894090</td>\n",
       "      <td>308.341369</td>\n",
       "      <td>95.115427</td>\n",
       "      <td>19099</td>\n",
       "      <td>External</td>\n",
       "      <td>NaN</td>\n",
       "    </tr>\n",
       "    <tr>\n",
       "      <th>2</th>\n",
       "      <td>VRSS-1</td>\n",
       "      <td>2021-04-27 00:02:00</td>\n",
       "      <td>7011192.91</td>\n",
       "      <td>0.001064</td>\n",
       "      <td>97.739803</td>\n",
       "      <td>170.140809</td>\n",
       "      <td>135.273235</td>\n",
       "      <td>108.747610</td>\n",
       "      <td>46244</td>\n",
       "      <td>External</td>\n",
       "      <td>NaN</td>\n",
       "    </tr>\n",
       "    <tr>\n",
       "      <th>3</th>\n",
       "      <td>VRSS-2</td>\n",
       "      <td>2021-04-27 00:07:00</td>\n",
       "      <td>7016303.05</td>\n",
       "      <td>0.003209</td>\n",
       "      <td>97.872008</td>\n",
       "      <td>191.881619</td>\n",
       "      <td>220.021256</td>\n",
       "      <td>94.297524</td>\n",
       "      <td>19114</td>\n",
       "      <td>External</td>\n",
       "      <td>NaN</td>\n",
       "    </tr>\n",
       "    <tr>\n",
       "      <th>4</th>\n",
       "      <td>VRSS-1</td>\n",
       "      <td>2021-04-28 00:02:00</td>\n",
       "      <td>7022777.77</td>\n",
       "      <td>0.001259</td>\n",
       "      <td>97.731035</td>\n",
       "      <td>171.104024</td>\n",
       "      <td>352.390200</td>\n",
       "      <td>162.153182</td>\n",
       "      <td>46258</td>\n",
       "      <td>Internal</td>\n",
       "      <td>NaN</td>\n",
       "    </tr>\n",
       "    <tr>\n",
       "      <th>...</th>\n",
       "      <td>...</td>\n",
       "      <td>...</td>\n",
       "      <td>...</td>\n",
       "      <td>...</td>\n",
       "      <td>...</td>\n",
       "      <td>...</td>\n",
       "      <td>...</td>\n",
       "      <td>...</td>\n",
       "      <td>...</td>\n",
       "      <td>...</td>\n",
       "      <td>...</td>\n",
       "    </tr>\n",
       "    <tr>\n",
       "      <th>851</th>\n",
       "      <td>VRSS-2</td>\n",
       "      <td>2022-07-04 00:07:00</td>\n",
       "      <td>7006365.00</td>\n",
       "      <td>0.001386</td>\n",
       "      <td>97.736103</td>\n",
       "      <td>253.931223</td>\n",
       "      <td>333.898819</td>\n",
       "      <td>119.365077</td>\n",
       "      <td>25502</td>\n",
       "      <td>External</td>\n",
       "      <td>NaN</td>\n",
       "    </tr>\n",
       "    <tr>\n",
       "      <th>852</th>\n",
       "      <td>VRSS-2</td>\n",
       "      <td>2022-07-05 00:07:00</td>\n",
       "      <td>7024696.52</td>\n",
       "      <td>0.003103</td>\n",
       "      <td>97.726050</td>\n",
       "      <td>254.902536</td>\n",
       "      <td>270.179234</td>\n",
       "      <td>95.199923</td>\n",
       "      <td>25517</td>\n",
       "      <td>External</td>\n",
       "      <td>NaN</td>\n",
       "    </tr>\n",
       "    <tr>\n",
       "      <th>853</th>\n",
       "      <td>VRSS-1</td>\n",
       "      <td>2022-07-05 00:02:00</td>\n",
       "      <td>7009488.71</td>\n",
       "      <td>0.001727</td>\n",
       "      <td>97.578077</td>\n",
       "      <td>223.251710</td>\n",
       "      <td>186.371408</td>\n",
       "      <td>286.059507</td>\n",
       "      <td>52644</td>\n",
       "      <td>External</td>\n",
       "      <td>NaN</td>\n",
       "    </tr>\n",
       "    <tr>\n",
       "      <th>854</th>\n",
       "      <td>VRSS-2</td>\n",
       "      <td>2022-07-06 00:07:00</td>\n",
       "      <td>7006809.60</td>\n",
       "      <td>0.004763</td>\n",
       "      <td>97.736042</td>\n",
       "      <td>255.876305</td>\n",
       "      <td>175.925911</td>\n",
       "      <td>101.536246</td>\n",
       "      <td>25532</td>\n",
       "      <td>External</td>\n",
       "      <td>NaN</td>\n",
       "    </tr>\n",
       "    <tr>\n",
       "      <th>855</th>\n",
       "      <td>VRSS-1</td>\n",
       "      <td>2022-07-06 00:02:00</td>\n",
       "      <td>7022133.81</td>\n",
       "      <td>0.000509</td>\n",
       "      <td>97.570558</td>\n",
       "      <td>224.193570</td>\n",
       "      <td>192.424649</td>\n",
       "      <td>191.686391</td>\n",
       "      <td>52659</td>\n",
       "      <td>External</td>\n",
       "      <td>NaN</td>\n",
       "    </tr>\n",
       "  </tbody>\n",
       "</table>\n",
       "<p>856 rows × 11 columns</p>\n",
       "</div>"
      ],
      "text/plain": [
       "    Satellite           EpochTime  SemiMajorAxis(m)  Eccentricity  \\\n",
       "0      VRSS-1 2021-04-26 00:02:00        7022417.37      0.001359   \n",
       "1      VRSS-2 2021-04-26 00:07:00        7017286.31      0.003004   \n",
       "2      VRSS-1 2021-04-27 00:02:00        7011192.91      0.001064   \n",
       "3      VRSS-2 2021-04-27 00:07:00        7016303.05      0.003209   \n",
       "4      VRSS-1 2021-04-28 00:02:00        7022777.77      0.001259   \n",
       "..        ...                 ...               ...           ...   \n",
       "851    VRSS-2 2022-07-04 00:07:00        7006365.00      0.001386   \n",
       "852    VRSS-2 2022-07-05 00:07:00        7024696.52      0.003103   \n",
       "853    VRSS-1 2022-07-05 00:02:00        7009488.71      0.001727   \n",
       "854    VRSS-2 2022-07-06 00:07:00        7006809.60      0.004763   \n",
       "855    VRSS-1 2022-07-06 00:02:00        7022133.81      0.000509   \n",
       "\n",
       "     Inclination(deg)   Raan(deg)  MeanAnomaly(deg)  ArgumentPerigee(deg)  \\\n",
       "0           97.736316  169.194728        135.349840            197.976622   \n",
       "1           97.872899  190.894090        308.341369             95.115427   \n",
       "2           97.739803  170.140809        135.273235            108.747610   \n",
       "3           97.872008  191.881619        220.021256             94.297524   \n",
       "4           97.731035  171.104024        352.390200            162.153182   \n",
       "..                ...         ...               ...                   ...   \n",
       "851         97.736103  253.931223        333.898819            119.365077   \n",
       "852         97.726050  254.902536        270.179234             95.199923   \n",
       "853         97.578077  223.251710        186.371408            286.059507   \n",
       "854         97.736042  255.876305        175.925911            101.536246   \n",
       "855         97.570558  224.193570        192.424649            191.686391   \n",
       "\n",
       "     OrbitNum    Source OrbitEphId  \n",
       "0       46229  External        NaN  \n",
       "1       19099  External        NaN  \n",
       "2       46244  External        NaN  \n",
       "3       19114  External        NaN  \n",
       "4       46258  Internal        NaN  \n",
       "..        ...       ...        ...  \n",
       "851     25502  External        NaN  \n",
       "852     25517  External        NaN  \n",
       "853     52644  External        NaN  \n",
       "854     25532  External        NaN  \n",
       "855     52659  External        NaN  \n",
       "\n",
       "[856 rows x 11 columns]"
      ]
     },
     "execution_count": 114,
     "metadata": {},
     "output_type": "execute_result"
    }
   ],
   "source": [
    "archivo = \"ACM 20220619 - 20220628 (20220706 121303).xlsx\"\n",
    "hoja = 'Instantaneous Data Info'\n",
    "df = pd.read_excel(archivo, hoja)\n",
    "df"
   ]
  },
  {
   "cell_type": "code",
   "execution_count": 116,
   "metadata": {},
   "outputs": [
    {
     "data": {
      "text/plain": [
       "Satellite                            VRSS-2\n",
       "EpochTime               2021-04-26 00:07:00\n",
       "SemiMajorAxis(m)                 7017286.31\n",
       "Eccentricity                       0.003004\n",
       "Inclination(deg)                  97.872899\n",
       "Raan(deg)                         190.89409\n",
       "MeanAnomaly(deg)                 308.341369\n",
       "ArgumentPerigee(deg)              95.115427\n",
       "OrbitNum                              19099\n",
       "Source                             External\n",
       "OrbitEphId                              NaN\n",
       "Name: 1, dtype: object"
      ]
     },
     "execution_count": 116,
     "metadata": {},
     "output_type": "execute_result"
    }
   ],
   "source": [
    "df.iloc[1]"
   ]
  },
  {
   "cell_type": "code",
   "execution_count": 2,
   "metadata": {},
   "outputs": [],
   "source": [
    "import xml.etree.ElementTree as ET"
   ]
  },
  {
   "cell_type": "code",
   "execution_count": 3,
   "metadata": {},
   "outputs": [],
   "source": [
    "directorio = 'C:/Users/Hector Martinez/Downloads/Telegram Desktop/Planes Satelitales  20220619 - 20220621/Plan Satelital 20220619/VRSS-2/'\n",
    "archivo = 'OMS_SCC_VRSS-2_20220617_000000705105.CPLAN2'\n",
    "tree = ET.parse(directorio + archivo)\n",
    "root = tree.getroot()"
   ]
  },
  {
   "cell_type": "markdown",
   "metadata": {},
   "source": [
    "# El campo raiz o de Nivel 0"
   ]
  },
  {
   "cell_type": "code",
   "execution_count": 70,
   "metadata": {},
   "outputs": [
    {
     "name": "stdout",
     "output_type": "stream",
     "text": [
      "CPLAN\n"
     ]
    }
   ],
   "source": [
    "print(root.tag)"
   ]
  },
  {
   "cell_type": "markdown",
   "metadata": {},
   "source": [
    "# Campos de Nivel 1\n",
    "## Numero de campos Nivel 1"
   ]
  },
  {
   "cell_type": "code",
   "execution_count": 71,
   "metadata": {},
   "outputs": [
    {
     "data": {
      "text/plain": [
       "2"
      ]
     },
     "execution_count": 71,
     "metadata": {},
     "output_type": "execute_result"
    }
   ],
   "source": [
    "len(root)"
   ]
  },
  {
   "cell_type": "markdown",
   "metadata": {},
   "source": [
    "## Nombres de los campos de Nivel 1"
   ]
  },
  {
   "cell_type": "code",
   "execution_count": 90,
   "metadata": {},
   "outputs": [
    {
     "name": "stdout",
     "output_type": "stream",
     "text": [
      "0 FileHeader\n",
      "1 FileBody\n"
     ]
    }
   ],
   "source": [
    "for nivel1 in range(len(root)):\n",
    "    print(nivel1, root[nivel1].tag)"
   ]
  },
  {
   "cell_type": "markdown",
   "metadata": {},
   "source": [
    "# Campos de Nivel 2\n",
    "## Numero de campos Nivel 2"
   ]
  },
  {
   "cell_type": "code",
   "execution_count": 87,
   "metadata": {},
   "outputs": [
    {
     "name": "stdout",
     "output_type": "stream",
     "text": [
      "0 5\n",
      "1 7\n"
     ]
    }
   ],
   "source": [
    "for nivel2 in range(len(root)):\n",
    "    print(nivel2, len(root[nivel2]))"
   ]
  },
  {
   "cell_type": "markdown",
   "metadata": {},
   "source": [
    "## Nombres de los campos de Nivel 2"
   ]
  },
  {
   "cell_type": "code",
   "execution_count": 94,
   "metadata": {},
   "outputs": [
    {
     "name": "stdout",
     "output_type": "stream",
     "text": [
      "0 0 MessageID\n",
      "0 1 MessageType\n",
      "0 2 Originator\n",
      "0 3 Recipient\n",
      "0 4 MessageCreateTime\n",
      "1 0 TaskID\n",
      "1 1 FirstOrbitTime\n",
      "1 2 OrbitPeriod\n",
      "1 3 PlanCount\n",
      "1 4 PlanList\n",
      "1 5 PlanList\n",
      "1 6 PlanList\n"
     ]
    }
   ],
   "source": [
    "for nivel1 in range(len(root)):\n",
    "    for nivel2 in range(len(root[nivel1])):\n",
    "        print(nivel1, nivel2, root[nivel1][nivel2].tag)"
   ]
  },
  {
   "cell_type": "markdown",
   "metadata": {},
   "source": [
    "# Campos de Nivel 3\n",
    "## Numero de campos Nivel 3"
   ]
  },
  {
   "cell_type": "code",
   "execution_count": 85,
   "metadata": {},
   "outputs": [
    {
     "data": {
      "text/plain": [
       "13"
      ]
     },
     "execution_count": 85,
     "metadata": {},
     "output_type": "execute_result"
    }
   ],
   "source": [
    "nivel2 = 1\n",
    "nivel3 = 4\n",
    "len(root[nivel2][nivel3])"
   ]
  },
  {
   "cell_type": "code",
   "execution_count": 59,
   "metadata": {},
   "outputs": [
    {
     "name": "stdout",
     "output_type": "stream",
     "text": [
      "PlanID\n",
      "SatelliteID\n",
      "StationID\n",
      "WorkMode\n",
      "OrbitID\n",
      "CameraID\n",
      "TransStartTime\n",
      "TransEndTime\n",
      "IsBreakpoint\n",
      "ReplayFile\n",
      "DeleteFile\n",
      "ImagingCount\n",
      "ImagingList\n"
     ]
    }
   ],
   "source": [
    "for i in range(len(root[1][4])):\n",
    "    print(root[1][4][i].tag)"
   ]
  },
  {
   "cell_type": "code",
   "execution_count": 95,
   "metadata": {},
   "outputs": [
    {
     "name": "stdout",
     "output_type": "stream",
     "text": [
      "1 4 0 PlanID\n",
      "1 4 1 SatelliteID\n",
      "1 4 2 StationID\n",
      "1 4 3 WorkMode\n",
      "1 4 4 OrbitID\n",
      "1 4 5 CameraID\n",
      "1 4 6 TransStartTime\n",
      "1 4 7 TransEndTime\n",
      "1 4 8 IsBreakpoint\n",
      "1 4 9 ReplayFile\n",
      "1 4 10 DeleteFile\n",
      "1 4 11 ImagingCount\n",
      "1 4 12 ImagingList\n",
      "1 5 0 PlanID\n",
      "1 5 1 SatelliteID\n",
      "1 5 2 StationID\n",
      "1 5 3 WorkMode\n",
      "1 5 4 OrbitID\n",
      "1 5 5 CameraID\n",
      "1 5 6 TransStartTime\n",
      "1 5 7 TransEndTime\n",
      "1 5 8 IsBreakpoint\n",
      "1 5 9 ReplayFile\n",
      "1 5 10 DeleteFile\n",
      "1 5 11 ImagingCount\n",
      "1 5 12 ImagingList\n",
      "1 6 0 PlanID\n",
      "1 6 1 SatelliteID\n",
      "1 6 2 StationID\n",
      "1 6 3 WorkMode\n",
      "1 6 4 OrbitID\n",
      "1 6 5 CameraID\n",
      "1 6 6 TransStartTime\n",
      "1 6 7 TransEndTime\n",
      "1 6 8 IsBreakpoint\n",
      "1 6 9 ReplayFile\n",
      "1 6 10 DeleteFile\n",
      "1 6 11 ImagingCount\n",
      "1 6 12 ImagingList\n"
     ]
    }
   ],
   "source": [
    "for nivel1 in range(len(root)):\n",
    "    for nivel2 in range(len(root[nivel1])):\n",
    "        for nivel3 in range(len(root[nivel1][nivel2])):\n",
    "            print(nivel1, nivel2, nivel3, root[nivel1][nivel2][nivel3].tag)"
   ]
  }
 ],
 "metadata": {
  "kernelspec": {
   "display_name": "Python 3.8.10 64-bit",
   "language": "python",
   "name": "python3"
  },
  "language_info": {
   "codemirror_mode": {
    "name": "ipython",
    "version": 3
   },
   "file_extension": ".py",
   "mimetype": "text/x-python",
   "name": "python",
   "nbconvert_exporter": "python",
   "pygments_lexer": "ipython3",
   "version": "3.8.10"
  },
  "orig_nbformat": 4,
  "vscode": {
   "interpreter": {
    "hash": "f899019e40078bba6a192d1b33425237bbe8b1e870f3f4f931213adcabf069ec"
   }
  }
 },
 "nbformat": 4,
 "nbformat_minor": 2
}
