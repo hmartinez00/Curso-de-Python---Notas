{
 "cells": [
  {
   "cell_type": "code",
   "execution_count": 1,
   "metadata": {},
   "outputs": [],
   "source": [
    "import pandas as pd\n",
    "from datetime import datetime, timedelta"
   ]
  },
  {
   "cell_type": "code",
   "execution_count": 2,
   "metadata": {},
   "outputs": [
    {
     "data": {
      "text/plain": [
       "'C:\\\\Users\\\\Hector Martinez\\\\Documents\\\\Telecomunicaciones - OMS\\\\2-2022\\\\ABAE-DAE-OMS-REA (Prioridades 20220907 - 20220913).xlsx'"
      ]
     },
     "execution_count": 2,
     "metadata": {},
     "output_type": "execute_result"
    }
   ],
   "source": [
    "direccion = input('Introduzca la Ruta del REAC: ')\n",
    "direccion"
   ]
  },
  {
   "cell_type": "code",
   "execution_count": 13,
   "metadata": {},
   "outputs": [
    {
     "data": {
      "text/html": [
       "<div>\n",
       "<style scoped>\n",
       "    .dataframe tbody tr th:only-of-type {\n",
       "        vertical-align: middle;\n",
       "    }\n",
       "\n",
       "    .dataframe tbody tr th {\n",
       "        vertical-align: top;\n",
       "    }\n",
       "\n",
       "    .dataframe thead th {\n",
       "        text-align: right;\n",
       "    }\n",
       "</style>\n",
       "<table border=\"1\" class=\"dataframe\">\n",
       "  <thead>\n",
       "    <tr style=\"text-align: right;\">\n",
       "      <th></th>\n",
       "      <th>Date</th>\n",
       "      <th>Start Time (UTCG)</th>\n",
       "      <th>Stop Time (UTCG)</th>\n",
       "      <th>Duration (sec)</th>\n",
       "      <th>OrbitID</th>\n",
       "      <th>To Start Lat (deg)</th>\n",
       "      <th>To Start Lon (deg)</th>\n",
       "      <th>To Object</th>\n",
       "      <th>Satellite</th>\n",
       "      <th>Roll Angle (deg)</th>\n",
       "    </tr>\n",
       "  </thead>\n",
       "  <tbody>\n",
       "    <tr>\n",
       "      <th>0</th>\n",
       "      <td>2022-09-07 11:29:52.027</td>\n",
       "      <td>2022-09-07 11:30:23</td>\n",
       "      <td>2022-09-07 11:31:53</td>\n",
       "      <td>90</td>\n",
       "      <td>26468</td>\n",
       "      <td>28.746</td>\n",
       "      <td>-17.890</td>\n",
       "      <td>Espana - Canarias [Isla La [Palma - Estudio]]~...</td>\n",
       "      <td>From Parent VRSS-2</td>\n",
       "      <td>-6.619417</td>\n",
       "    </tr>\n",
       "    <tr>\n",
       "      <th>1</th>\n",
       "      <td>2022-09-07 14:46:29.870</td>\n",
       "      <td>2022-09-07 14:49:05</td>\n",
       "      <td>2022-09-07 14:53:05</td>\n",
       "      <td>240</td>\n",
       "      <td>26470</td>\n",
       "      <td>9.355</td>\n",
       "      <td>-66.912</td>\n",
       "      <td>ACCESOS Realtime Venezuela - Falcon [RFS 5 - L...</td>\n",
       "      <td>From Parent VRSS-2</td>\n",
       "      <td>28.123480</td>\n",
       "    </tr>\n",
       "    <tr>\n",
       "      <th>2</th>\n",
       "      <td>2022-09-07 14:49:34.997</td>\n",
       "      <td>2022-09-07 14:49:05</td>\n",
       "      <td>2022-09-07 14:53:05</td>\n",
       "      <td>240</td>\n",
       "      <td>26470</td>\n",
       "      <td>12.022</td>\n",
       "      <td>-69.847</td>\n",
       "      <td>Venezuela - Falcon [RFS 5 - LBC [FAO [202207]]...</td>\n",
       "      <td>From Parent VRSS-2</td>\n",
       "      <td>-1.374859</td>\n",
       "    </tr>\n",
       "    <tr>\n",
       "      <th>3</th>\n",
       "      <td>2022-09-08 01:28:22.570</td>\n",
       "      <td>2022-09-08 01:30:53</td>\n",
       "      <td>2022-09-08 01:34:31</td>\n",
       "      <td>218</td>\n",
       "      <td>26477</td>\n",
       "      <td>9.355</td>\n",
       "      <td>-66.912</td>\n",
       "      <td>ACCESOS Playback  Espana - Canarias [Isla La [...</td>\n",
       "      <td>From Parent VRSS-2</td>\n",
       "      <td>66.780228</td>\n",
       "    </tr>\n",
       "    <tr>\n",
       "      <th>4</th>\n",
       "      <td>2022-09-10 07:51:17.791</td>\n",
       "      <td>2022-09-10 07:51:50</td>\n",
       "      <td>2022-09-10 07:53:20</td>\n",
       "      <td>90</td>\n",
       "      <td>26510</td>\n",
       "      <td>18.013</td>\n",
       "      <td>33.985</td>\n",
       "      <td>Sudan - Berber [Charter [Call - 883]]~ (S3)</td>\n",
       "      <td>From Parent VRSS-2</td>\n",
       "      <td>-15.711249</td>\n",
       "    </tr>\n",
       "    <tr>\n",
       "      <th>5</th>\n",
       "      <td>2022-09-10 14:20:28.381</td>\n",
       "      <td>2022-09-10 14:23:52</td>\n",
       "      <td>2022-09-10 14:28:52</td>\n",
       "      <td>300</td>\n",
       "      <td>26514</td>\n",
       "      <td>9.355</td>\n",
       "      <td>-66.912</td>\n",
       "      <td>ACCESOS Realtime Venezuela - Sucre Cariaco [CE...</td>\n",
       "      <td>From Parent VRSS-2</td>\n",
       "      <td>29.078656</td>\n",
       "    </tr>\n",
       "    <tr>\n",
       "      <th>6</th>\n",
       "      <td>2022-09-10 14:25:03.499</td>\n",
       "      <td>2022-09-10 14:23:52</td>\n",
       "      <td>2022-09-10 14:28:52</td>\n",
       "      <td>300</td>\n",
       "      <td>26514</td>\n",
       "      <td>10.433</td>\n",
       "      <td>-64.583</td>\n",
       "      <td>Venezuela - Sucre Cariaco [CENIPA]~ (S3)</td>\n",
       "      <td>From Parent VRSS-2</td>\n",
       "      <td>-10.279253</td>\n",
       "    </tr>\n",
       "    <tr>\n",
       "      <th>7</th>\n",
       "      <td>2022-09-11 02:37:02.621</td>\n",
       "      <td>2022-09-11 02:39:33</td>\n",
       "      <td>2022-09-11 02:43:11</td>\n",
       "      <td>218</td>\n",
       "      <td>26522</td>\n",
       "      <td>9.355</td>\n",
       "      <td>-66.912</td>\n",
       "      <td>ACCESOS Playback  Sudan - Berber [Charter [Cal...</td>\n",
       "      <td>From Parent VRSS-2</td>\n",
       "      <td>31.946173</td>\n",
       "    </tr>\n",
       "    <tr>\n",
       "      <th>8</th>\n",
       "      <td>2022-09-11 08:04:48.921</td>\n",
       "      <td>2022-09-11 08:05:23</td>\n",
       "      <td>2022-09-11 08:06:53</td>\n",
       "      <td>90</td>\n",
       "      <td>26525</td>\n",
       "      <td>54.885</td>\n",
       "      <td>40.511</td>\n",
       "      <td>Rusia - Oblast [Riazan [Charter - Call 888]]~ ...</td>\n",
       "      <td>From Parent VRSS-2</td>\n",
       "      <td>-4.212442</td>\n",
       "    </tr>\n",
       "    <tr>\n",
       "      <th>9</th>\n",
       "      <td>2022-09-11 14:43:52.417</td>\n",
       "      <td>2022-09-11 14:47:20</td>\n",
       "      <td>2022-09-11 14:52:20</td>\n",
       "      <td>300</td>\n",
       "      <td>26529</td>\n",
       "      <td>9.355</td>\n",
       "      <td>-66.912</td>\n",
       "      <td>ACCESOS Realtime Venezuela - Lara [ZP 31 - CHR...</td>\n",
       "      <td>From Parent VRSS-2</td>\n",
       "      <td>23.562817</td>\n",
       "    </tr>\n",
       "    <tr>\n",
       "      <th>10</th>\n",
       "      <td>2022-09-11 14:47:35.855</td>\n",
       "      <td>2022-09-11 14:47:20</td>\n",
       "      <td>2022-09-11 14:52:20</td>\n",
       "      <td>300</td>\n",
       "      <td>26529</td>\n",
       "      <td>9.646</td>\n",
       "      <td>-69.594</td>\n",
       "      <td>Venezuela - Lara [ZP 31 - CHRY [FAO [202207]]]...</td>\n",
       "      <td>From Parent VRSS-2</td>\n",
       "      <td>0.070869</td>\n",
       "    </tr>\n",
       "    <tr>\n",
       "      <th>11</th>\n",
       "      <td>2022-09-12 03:01:02.164</td>\n",
       "      <td>2022-09-12 03:03:32</td>\n",
       "      <td>2022-09-12 03:07:10</td>\n",
       "      <td>218</td>\n",
       "      <td>26537</td>\n",
       "      <td>9.355</td>\n",
       "      <td>-66.912</td>\n",
       "      <td>ACCESOS Playback  Rusia - Oblast [Riazan [Char...</td>\n",
       "      <td>From Parent VRSS-2</td>\n",
       "      <td>58.034458</td>\n",
       "    </tr>\n",
       "  </tbody>\n",
       "</table>\n",
       "</div>"
      ],
      "text/plain": [
       "                      Date   Start Time (UTCG)    Stop Time (UTCG)  \\\n",
       "0  2022-09-07 11:29:52.027 2022-09-07 11:30:23 2022-09-07 11:31:53   \n",
       "1  2022-09-07 14:46:29.870 2022-09-07 14:49:05 2022-09-07 14:53:05   \n",
       "2  2022-09-07 14:49:34.997 2022-09-07 14:49:05 2022-09-07 14:53:05   \n",
       "3  2022-09-08 01:28:22.570 2022-09-08 01:30:53 2022-09-08 01:34:31   \n",
       "4  2022-09-10 07:51:17.791 2022-09-10 07:51:50 2022-09-10 07:53:20   \n",
       "5  2022-09-10 14:20:28.381 2022-09-10 14:23:52 2022-09-10 14:28:52   \n",
       "6  2022-09-10 14:25:03.499 2022-09-10 14:23:52 2022-09-10 14:28:52   \n",
       "7  2022-09-11 02:37:02.621 2022-09-11 02:39:33 2022-09-11 02:43:11   \n",
       "8  2022-09-11 08:04:48.921 2022-09-11 08:05:23 2022-09-11 08:06:53   \n",
       "9  2022-09-11 14:43:52.417 2022-09-11 14:47:20 2022-09-11 14:52:20   \n",
       "10 2022-09-11 14:47:35.855 2022-09-11 14:47:20 2022-09-11 14:52:20   \n",
       "11 2022-09-12 03:01:02.164 2022-09-12 03:03:32 2022-09-12 03:07:10   \n",
       "\n",
       "    Duration (sec)  OrbitID  To Start Lat (deg)  To Start Lon (deg)  \\\n",
       "0               90    26468              28.746             -17.890   \n",
       "1              240    26470               9.355             -66.912   \n",
       "2              240    26470              12.022             -69.847   \n",
       "3              218    26477               9.355             -66.912   \n",
       "4               90    26510              18.013              33.985   \n",
       "5              300    26514               9.355             -66.912   \n",
       "6              300    26514              10.433             -64.583   \n",
       "7              218    26522               9.355             -66.912   \n",
       "8               90    26525              54.885              40.511   \n",
       "9              300    26529               9.355             -66.912   \n",
       "10             300    26529               9.646             -69.594   \n",
       "11             218    26537               9.355             -66.912   \n",
       "\n",
       "                                            To Object           Satellite  \\\n",
       "0   Espana - Canarias [Isla La [Palma - Estudio]]~...  From Parent VRSS-2   \n",
       "1   ACCESOS Realtime Venezuela - Falcon [RFS 5 - L...  From Parent VRSS-2   \n",
       "2   Venezuela - Falcon [RFS 5 - LBC [FAO [202207]]...  From Parent VRSS-2   \n",
       "3   ACCESOS Playback  Espana - Canarias [Isla La [...  From Parent VRSS-2   \n",
       "4         Sudan - Berber [Charter [Call - 883]]~ (S3)  From Parent VRSS-2   \n",
       "5   ACCESOS Realtime Venezuela - Sucre Cariaco [CE...  From Parent VRSS-2   \n",
       "6            Venezuela - Sucre Cariaco [CENIPA]~ (S3)  From Parent VRSS-2   \n",
       "7   ACCESOS Playback  Sudan - Berber [Charter [Cal...  From Parent VRSS-2   \n",
       "8   Rusia - Oblast [Riazan [Charter - Call 888]]~ ...  From Parent VRSS-2   \n",
       "9   ACCESOS Realtime Venezuela - Lara [ZP 31 - CHR...  From Parent VRSS-2   \n",
       "10  Venezuela - Lara [ZP 31 - CHRY [FAO [202207]]]...  From Parent VRSS-2   \n",
       "11  ACCESOS Playback  Rusia - Oblast [Riazan [Char...  From Parent VRSS-2   \n",
       "\n",
       "    Roll Angle (deg)  \n",
       "0          -6.619417  \n",
       "1          28.123480  \n",
       "2          -1.374859  \n",
       "3          66.780228  \n",
       "4         -15.711249  \n",
       "5          29.078656  \n",
       "6         -10.279253  \n",
       "7          31.946173  \n",
       "8          -4.212442  \n",
       "9          23.562817  \n",
       "10          0.070869  \n",
       "11         58.034458  "
      ]
     },
     "execution_count": 13,
     "metadata": {},
     "output_type": "execute_result"
    }
   ],
   "source": [
    "df = pd.read_excel(direccion, sheet_name='Hoja1')\n",
    "# df = pd.read_excel(direccion, sheet_name='Progresion de Accesos')\n",
    "df"
   ]
  },
  {
   "cell_type": "code",
   "execution_count": 14,
   "metadata": {},
   "outputs": [
    {
     "data": {
      "text/plain": [
       "{0: [1,\n",
       "  Timestamp('2022-09-07 14:53:05'),\n",
       "  26470,\n",
       "  'ACCESOS Realtime Venezuela - Falcon [RFS 5 - LBC [FAO [202207]]]~ (S3)'],\n",
       " 1: [3,\n",
       "  Timestamp('2022-09-08 01:34:31'),\n",
       "  26477,\n",
       "  'ACCESOS Playback  Espana - Canarias [Isla La [Palma - Estudio]]~ (S3)'],\n",
       " 2: [5,\n",
       "  Timestamp('2022-09-10 14:28:52'),\n",
       "  26514,\n",
       "  'ACCESOS Realtime Venezuela - Sucre Cariaco [CENIPA]~ (S3)'],\n",
       " 3: [7,\n",
       "  Timestamp('2022-09-11 02:43:11'),\n",
       "  26522,\n",
       "  'ACCESOS Playback  Sudan - Berber [Charter [Call - 883]]~ (S3)'],\n",
       " 4: [9,\n",
       "  Timestamp('2022-09-11 14:52:20'),\n",
       "  26529,\n",
       "  'ACCESOS Realtime Venezuela - Lara [ZP 31 - CHRY [FAO [202207]]]~ (S3)'],\n",
       " 5: [11,\n",
       "  Timestamp('2022-09-12 03:07:10'),\n",
       "  26537,\n",
       "  'ACCESOS Playback  Rusia - Oblast [Riazan [Charter - Call 888]]~ (S3)']}"
      ]
     },
     "execution_count": 14,
     "metadata": {},
     "output_type": "execute_result"
    }
   ],
   "source": [
    "transmisiones = {}\n",
    "j = 0\n",
    "for i in range(len(df)):\n",
    "    if 'ACCESOS ' in df['To Object'][i]:\n",
    "        transmisiones[j] = [i, df['Stop Time (UTCG)'][i], df['OrbitID'][i], df['To Object'][i]]\n",
    "        # transmisiones[j] = [i, df['Stop Time (UTCG)'][i], df['From Pass'][i], df['To Object'][i]]\n",
    "        j += 1\n",
    "\n",
    "transmisiones"
   ]
  },
  {
   "cell_type": "code",
   "execution_count": 16,
   "metadata": {},
   "outputs": [
    {
     "data": {
      "text/plain": [
       "Timestamp('2022-09-10 14:28:52')"
      ]
     },
     "execution_count": 16,
     "metadata": {},
     "output_type": "execute_result"
    }
   ],
   "source": [
    "transmisiones[2][1]"
   ]
  },
  {
   "cell_type": "code",
   "execution_count": 8,
   "metadata": {},
   "outputs": [],
   "source": [
    "def confirmacion(__direccion__, __NumRef__):\n",
    "    \n",
    "    __archivo__ = direccion.split('\\\\')[-1].split('.')[0]\n",
    "    __orbita__ = transmisiones[__NumRef__][2]\n",
    "    __fecha_hora__ = transmisiones[__NumRef__][1]\n",
    "    __delay__ = timedelta(hours=4)\n",
    "    __fecha__ = datetime.strftime(__fecha_hora__ - __delay__, '%y-%m-%d')\n",
    "    __horaHLV__ = datetime.strftime(__fecha_hora__ - __delay__, '%H:%M:%S')\n",
    "\n",
    "    solicitud = \"Saludos. \\n\\n\" + \\\n",
    "    \"Al personal de guardia, para hoy \" + __fecha__ + \" tenemos que realizar \" + \\\n",
    "    \"las siguientes solicitudes de confirmación al personal \" + \\\n",
    "    \"de TDRS  de la recepción efectiva de órbitas según el reporte \" + \\\n",
    "    __archivo__ + \", de prioridades programadas. \\n\\n\" + \\\n",
    "    \"Órbitas: \" + str(__orbita__) + \"\\n\\n\" \\\n",
    "    \"Podemos solicitar la confirmación a partir de las: \" + \\\n",
    "    str(__horaHLV__) + \" HLV\"\n",
    "\n",
    "    return solicitud"
   ]
  },
  {
   "cell_type": "code",
   "execution_count": 9,
   "metadata": {},
   "outputs": [
    {
     "name": "stdout",
     "output_type": "stream",
     "text": [
      "Saludos. \n",
      "\n",
      "Al personal de guardia, para hoy 22-09-10 tenemos que realizar las siguientes solicitudes de confirmación al personal de TDRS  de la recepción efectiva de órbitas según el reporte ABAE-DAE-OMS-REA (Prioridades 20220907 - 20220913), de prioridades programadas. \n",
      "\n",
      "Órbitas: 26512\n",
      "\n",
      "Podemos solicitar la confirmación a partir de las: 10:28:52 HLV\n"
     ]
    }
   ],
   "source": [
    "print(confirmacion(direccion, 2))"
   ]
  },
  {
   "cell_type": "code",
   "execution_count": 1,
   "metadata": {},
   "outputs": [],
   "source": [
    "import requests"
   ]
  },
  {
   "cell_type": "code",
   "execution_count": 2,
   "metadata": {},
   "outputs": [
    {
     "data": {
      "text/plain": [
       "<Response [200]>"
      ]
     },
     "execution_count": 2,
     "metadata": {},
     "output_type": "execute_result"
    }
   ],
   "source": [
    "# https://api.telegram.org/bot5522228971:AAE0YIZt7yCH7rhXXQEuRVsh1VsoF8I-vDA/getUpdates\n",
    "chat_id = 1580008489\n",
    "token = '5522228971:AAE0YIZt7yCH7rhXXQEuRVsh1VsoF8I-vDA'\n",
    "# message = confirmacion(direccion, 2)\n",
    "message = 'Hola!'\n",
    "\n",
    "requests.post('https://api.telegram.org/bot' + token + '/sendMessage',\n",
    "              data={'chat_id': chat_id, 'text': message})"
   ]
  },
  {
   "cell_type": "code",
   "execution_count": 11,
   "metadata": {},
   "outputs": [],
   "source": [
    "def envio(__chat_id__, __token__, __message__):\n",
    "     requests.post('https://api.telegram.org/bot' + __token__ + '/sendMessage',\n",
    "              data={'chat_id': __chat_id__, 'text': __message__})"
   ]
  },
  {
   "cell_type": "code",
   "execution_count": 15,
   "metadata": {},
   "outputs": [
    {
     "name": "stdout",
     "output_type": "stream",
     "text": [
      "5\r"
     ]
    }
   ],
   "source": [
    "chat_id = 1580008489\n",
    "token = '5522228971:AAE0YIZt7yCH7rhXXQEuRVsh1VsoF8I-vDA'\n",
    "for i in range(len(transmisiones)):\n",
    "# for i in range(2):\n",
    "    message = confirmacion(direccion, i)\n",
    "    print(i, end='\\r')\n",
    "    envio(chat_id, token, message)"
   ]
  }
 ],
 "metadata": {
  "kernelspec": {
   "display_name": "Python 3.8.10 64-bit",
   "language": "python",
   "name": "python3"
  },
  "language_info": {
   "codemirror_mode": {
    "name": "ipython",
    "version": 3
   },
   "file_extension": ".py",
   "mimetype": "text/x-python",
   "name": "python",
   "nbconvert_exporter": "python",
   "pygments_lexer": "ipython3",
   "version": "3.8.10"
  },
  "orig_nbformat": 4,
  "vscode": {
   "interpreter": {
    "hash": "f899019e40078bba6a192d1b33425237bbe8b1e870f3f4f931213adcabf069ec"
   }
  }
 },
 "nbformat": 4,
 "nbformat_minor": 2
}
