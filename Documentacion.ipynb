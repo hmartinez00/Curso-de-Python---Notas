{
 "cells": [
  {
   "cell_type": "code",
   "execution_count": 1,
   "metadata": {},
   "outputs": [],
   "source": [
    "import mysql.connector"
   ]
  },
  {
   "cell_type": "code",
   "execution_count": 8,
   "metadata": {},
   "outputs": [
    {
     "name": "stdout",
     "output_type": "stream",
     "text": [
      "<mysql.connector.connection_cext.CMySQLConnection object at 0x0000000009DB0A30>\n"
     ]
    }
   ],
   "source": [
    "def conectar_db_0():\n",
    "    mydb = mysql.connector.connect(\n",
    "        host='localhost',\n",
    "        user='root',\n",
    "        password=''\n",
    "    )\n",
    "\n",
    "    return mydb\n",
    "\n",
    "print(conectar_db_0())"
   ]
  },
  {
   "cell_type": "code",
   "execution_count": 3,
   "metadata": {},
   "outputs": [],
   "source": [
    "sql = \"CREATE DATABASE \\\n",
    "  Directorios_Archivos\"\n",
    "\n",
    "mydb = conectar_db_0()\n",
    "mycursor = mydb.cursor()\n",
    "mycursor.execute(sql)"
   ]
  },
  {
   "cell_type": "code",
   "execution_count": 10,
   "metadata": {},
   "outputs": [
    {
     "name": "stdout",
     "output_type": "stream",
     "text": [
      "('bloomdolci',)\n",
      "('directorios_archivos',)\n",
      "('information_schema',)\n",
      "('mysite',)\n",
      "('mysql',)\n",
      "('performance_schema',)\n",
      "('phpmyadmin',)\n",
      "('test',)\n",
      "('test_sistema',)\n",
      "('tiendaonline',)\n",
      "('vrss_operation_and_managment_subsystem',)\n"
     ]
    }
   ],
   "source": [
    "sql = \"SHOW DATABASES\"\n",
    "\n",
    "mydb = conectar_db_0()\n",
    "mycursor = mydb.cursor()\n",
    "mycursor.execute(sql)\n",
    "\n",
    "for x in mycursor:\n",
    "    print(x)"
   ]
  },
  {
   "cell_type": "code",
   "execution_count": 11,
   "metadata": {},
   "outputs": [],
   "source": [
    "class on_db:\n",
    "\n",
    "    def __init__(\n",
    "            self,\n",
    "            host,\n",
    "            user,\n",
    "            password,\n",
    "            database\n",
    "        ):\n",
    "\n",
    "        self.host = host\n",
    "        self.user = user\n",
    "        self.password = password\n",
    "        self.database = database\n",
    "    \n",
    "    def connect(self):\n",
    "\n",
    "        mydb = mysql.connector.connect(\n",
    "            host=self.host,\n",
    "            user=self.user,\n",
    "            password=self.password,\n",
    "            database=self.database\n",
    "        )        \n",
    "\n",
    "        return mydb\n",
    "\n",
    "    def show(self):\n",
    "\n",
    "        sql = \"SHOW TABLES\"\n",
    "        mydb = self.connect()\n",
    "        \n",
    "        mycursor = mydb.cursor()\n",
    "        mycursor.execute(sql)\n",
    "\n",
    "        s = []\n",
    "        for x in mycursor:\n",
    "            s.append(x[0])\n",
    "        return s"
   ]
  },
  {
   "cell_type": "code",
   "execution_count": 12,
   "metadata": {},
   "outputs": [
    {
     "data": {
      "text/plain": [
       "[]"
      ]
     },
     "execution_count": 12,
     "metadata": {},
     "output_type": "execute_result"
    }
   ],
   "source": [
    "host='localhost'\n",
    "user='root'\n",
    "password=''\n",
    "database='directorios_archivos'\n",
    "\n",
    "on_db(host, user, password, database).show()"
   ]
  },
  {
   "cell_type": "code",
   "execution_count": null,
   "metadata": {},
   "outputs": [],
   "source": [
    "def on_db(base_datos, sql):\n",
    "    mydb = mysql.connector.connect(\n",
    "        host='localhost',\n",
    "        user='root',\n",
    "        password='',\n",
    "        database=base_datos\n",
    "    )\n",
    "\n",
    "    mycursor = mydb.cursor()\n",
    "    mycursor.execute(sql)\n",
    "\n",
    "    if sql == \"SHOW TABLES\":\n",
    "        s = []\n",
    "        for x in mycursor:\n",
    "            s.append(x[0])\n",
    "        return s\n",
    "\n",
    "    if \"INSERT INTO\" in sql or \"DELETE FROM\" in sql:\n",
    "        mydb.commit()\n",
    "    \n",
    "    if \"SELECT\" in sql:\n",
    "        myresult = mycursor.fetchall()\n",
    "        return myresult\n",
    "\n",
    "    if \"UPDATE\" in sql:\n",
    "        mydb.commit()\n",
    "        print(mycursor.rowcount, \"record(s) affected\")\n"
   ]
  }
 ],
 "metadata": {
  "interpreter": {
   "hash": "8a6378035587bb97055001603ea9d85a2aa377cc6252a50ffca4355a71bc8b90"
  },
  "kernelspec": {
   "display_name": "Python 3.8.10 64-bit",
   "language": "python",
   "name": "python3"
  },
  "language_info": {
   "codemirror_mode": {
    "name": "ipython",
    "version": 3
   },
   "file_extension": ".py",
   "mimetype": "text/x-python",
   "name": "python",
   "nbconvert_exporter": "python",
   "pygments_lexer": "ipython3",
   "version": "3.8.10"
  },
  "orig_nbformat": 4
 },
 "nbformat": 4,
 "nbformat_minor": 2
}
