{
 "cells": [
  {
   "cell_type": "markdown",
   "metadata": {},
   "source": [
    "# Notas sobre Trading\n",
    "\n",
    "## Calcular valor de pips por lotaje\n",
    "\n",
    "Si nos regimos por la fórmula aproximada:\n",
    "\n",
    "$$\\bold{Lotaje} = 1 \\longleftrightarrow 1\\bold{pip} = \\$10 $$\n",
    "\n",
    "Esto nos indica que podemos hacer la siguiente proporción de cálculo:\n",
    "\n",
    "$$ \\frac{1 \\bold{pip}}{\\bold{Lotaje}} = \\frac{\\$10}{1} $$\n",
    "\n",
    "Lo que nos arrojará directamente el valor de un pip como una simple multiplicación y nada más místico que eso:\n",
    "\n",
    "$$ 1 \\bold{pip} = \\$10 \\cdot \\bold{Lotaje} $$\n",
    "\n",
    "Sólo bastaría con incorporar el valor del lotaje para determinar el valor del pip."
   ]
  },
  {
   "cell_type": "code",
   "execution_count": 6,
   "metadata": {},
   "outputs": [
    {
     "data": {
      "text/plain": [
       "0.1"
      ]
     },
     "execution_count": 6,
     "metadata": {},
     "output_type": "execute_result"
    }
   ],
   "source": [
    "10*0.01"
   ]
  },
  {
   "cell_type": "markdown",
   "metadata": {},
   "source": [
    ">\n",
    "\n",
    "Ahora, si tenemos una cantidad fija de pips para establecer algún parámetro en nuestras operaciones, habrá que escoger el lotaje para determinar cuanto será el valor de ese parámetros en dólares. Supongamos que establecemos el **Stop Loss en 50 pips** y debemos escoger un lotaje para operar que no exceda el 3% de nuestro capital, entonces:\n",
    "\n",
    "$$ 0.03 \\cdot \\bold{Capital} \\$ = 50 \\bold{pip} $$\n",
    "$$ 0.03 \\cdot \\bold{Capital} \\$ = 50 \\cdot \\$10 \\cdot \\bold{Lotaje} $$\n",
    "$$ \\bold{Lotaje} = \\frac{0.03}{500} \\cdot \\bold{Capital} $$\n",
    "\n",
    "Luego para un Capital del 100$ por ejemplo tendríamos un lotaje equivalente a:"
   ]
  },
  {
   "cell_type": "code",
   "execution_count": 5,
   "metadata": {},
   "outputs": [
    {
     "data": {
      "text/plain": [
       "0.005999999999999999"
      ]
     },
     "execution_count": 5,
     "metadata": {},
     "output_type": "execute_result"
    }
   ],
   "source": [
    "0.03/500 * 100"
   ]
  },
  {
   "cell_type": "markdown",
   "metadata": {},
   "source": [
    "Esto es $\\bold{Lotaje} \\approx 0.006$. Con un Lotaje así cada pip de ganancia serían $ \\$ 10 \\cdot (0.006) \\approx 0.06 \\$ $, de modo que 50 pips serían:"
   ]
  },
  {
   "cell_type": "code",
   "execution_count": 12,
   "metadata": {},
   "outputs": [
    {
     "data": {
      "text/plain": [
       "3.0"
      ]
     },
     "execution_count": 12,
     "metadata": {},
     "output_type": "execute_result"
    }
   ],
   "source": [
    "50*0.06"
   ]
  },
  {
   "cell_type": "markdown",
   "metadata": {},
   "source": [
    "## Apalancamiento\n",
    "\n",
    "### Definiciones y Ecuaciones\n",
    "\n",
    "* $c$ := Capital Neto\n",
    "* $p$ := Fracción en riesgo del Capital Neto\n",
    "* $P_i$ := Posición inicial de la operación \n",
    "* $P_f$ := Posición final de la operación \n",
    "* $g$ := Factor de movimiento del activo\n",
    "* $F$ := Factor de apalancamiento \n",
    "* $G$ := Ganancia de la operación (o margen)\n",
    "\n",
    "Posición inicial:\n",
    "\\begin{equation}\n",
    "P_i = cF\n",
    "\\end{equation}\n",
    "\n",
    "\\begin{equation}\n",
    "P_i = c + P_b\n",
    "\\end{equation}\n",
    "\n",
    "Posición final\n",
    "\\begin{equation}\n",
    "P_f = (1 + g)P_i\n",
    "\\end{equation}\n",
    "\n",
    "Ganancia de la operación \n",
    "\\begin{equation}\n",
    "G = P_f - P_i\n",
    "\\end{equation}\n",
    "\n",
    "Ganancia Neta en función del capital en riesgo y el factor de apalancamiento:\n",
    "$$G = (1 + g)P_i - P_i = gP_i = gcF$$\n",
    "\n",
    "\\begin{equation}\n",
    "G = gcF\n",
    "\\end{equation}"
   ]
  },
  {
   "cell_type": "markdown",
   "metadata": {},
   "source": [
    "### Control de Perdidas\n",
    "\n",
    "La cuenta se líquida si ocurre una reversión apalancada de la magnitud del capital neto de la cuenta. En ese caso $G = -c$. Entonces:\n",
    "$G = -c = gcF$:\n",
    "\n",
    "$$\n",
    "-c = gcF\n",
    "$$\n",
    "\n",
    "En ese caso, para facilidad, definamos otra variable $r = -g$. Así, la máxima reversión capaz de tolerar la cuenta, tras una operación con capital $c$, antes de llegar a la liquidación es:\n",
    "\n",
    "\\begin{equation}\n",
    "r = \\frac{1}{F}\n",
    "\\end{equation}\n",
    "\n",
    "No es una constante! Claramente depende del Factor de apalancamiento y del factor en  riesgo de la operación. \n",
    "\n",
    ">OBSERVACION: Si se definese un valor fijo a arriesgar por operación, para un capital neto, se podría definir el número de operaciones límite para un Capital Neto definido."
   ]
  },
  {
   "cell_type": "markdown",
   "metadata": {},
   "source": [
    "### Ejemplos\n",
    "\n",
    "Veamos ejemplos de las consecuencias de ésta conclusión, con números concretos:\n",
    "\n",
    "1. La máxima reversión que tolera una operación apalancada X10 es del 10%. Veamos:\n",
    "\n",
    "$$0.1 = \\frac{1}{10}$$\n",
    "\n",
    "2. La máxima reversión que tolera una operación apalancada X100 es del 1%. Veamos:\n",
    "\n",
    "$$0.01 = \\frac{1}{100}$$\n",
    "\n",
    "El Stop Loss debería prevenir una situación así! En el caso 1 es más fácil. Mientras se establezca un SL antes de que se concrete una reversión tan drástica de la magnitud del 10%, la cuenta no debería por ser liquidada tan fácilmente.\n",
    "\n",
    "\n",
    "### Hagamos cuentas!"
   ]
  },
  {
   "cell_type": "code",
   "execution_count": 51,
   "metadata": {},
   "outputs": [],
   "source": [
    "def ecuaciones(c, F, g):\n",
    "    # Cargando las ecuaciones\n",
    "    P_i = c*F\n",
    "    P_f = (1+(g/100))*P_i\n",
    "    G = P_f - P_i\n",
    "    r = (1/F)*100\n",
    "\n",
    "    values = [F, P_i, r, P_f, G]\n",
    "    msg = f'''-------------------\n",
    "Operando con capital: {c}\n",
    "Apalancamiento de F = {values[0]}\n",
    "Obteniendo un movimiento del {g}%\n",
    "-------------------\n",
    "Posicion inicial: {values[1]}\n",
    "Máxima reversión tolerable: {values[2]}%\n",
    "Posicion final: {values[3]}\n",
    "Ganancia: {round(values[4], 2)}\n",
    "Incremento del capital: {round(G/c*100, 2)}%\n",
    "'''\n",
    "    result = [values, msg]\n",
    "    return result"
   ]
  },
  {
   "cell_type": "code",
   "execution_count": 54,
   "metadata": {},
   "outputs": [
    {
     "name": "stdout",
     "output_type": "stream",
     "text": [
      "-------------------\n",
      "Operando con capital: 2\n",
      "Apalancamiento de F = 1\n",
      "Obteniendo un movimiento del 2%\n",
      "-------------------\n",
      "Posicion inicial: 2\n",
      "Máxima reversión tolerable: 100.0%\n",
      "Posicion final: 2.04\n",
      "Ganancia: 0.04\n",
      "Incremento del capital: 2.0%\n",
      "\n",
      "-------------------\n",
      "Operando con capital: 2\n",
      "Apalancamiento de F = 5\n",
      "Obteniendo un movimiento del 2%\n",
      "-------------------\n",
      "Posicion inicial: 10\n",
      "Máxima reversión tolerable: 20.0%\n",
      "Posicion final: 10.2\n",
      "Ganancia: 0.2\n",
      "Incremento del capital: 10.0%\n",
      "\n",
      "-------------------\n",
      "Operando con capital: 2\n",
      "Apalancamiento de F = 10\n",
      "Obteniendo un movimiento del 2%\n",
      "-------------------\n",
      "Posicion inicial: 20\n",
      "Máxima reversión tolerable: 10.0%\n",
      "Posicion final: 20.4\n",
      "Ganancia: 0.4\n",
      "Incremento del capital: 20.0%\n",
      "\n",
      "-------------------\n",
      "Operando con capital: 2\n",
      "Apalancamiento de F = 20\n",
      "Obteniendo un movimiento del 2%\n",
      "-------------------\n",
      "Posicion inicial: 40\n",
      "Máxima reversión tolerable: 5.0%\n",
      "Posicion final: 40.8\n",
      "Ganancia: 0.8\n",
      "Incremento del capital: 40.0%\n",
      "\n",
      "-------------------\n",
      "Operando con capital: 2\n",
      "Apalancamiento de F = 100\n",
      "Obteniendo un movimiento del 2%\n",
      "-------------------\n",
      "Posicion inicial: 200\n",
      "Máxima reversión tolerable: 1.0%\n",
      "Posicion final: 204.0\n",
      "Ganancia: 4.0\n",
      "Incremento del capital: 200.0%\n",
      "\n"
     ]
    }
   ],
   "source": [
    "# Definimos capital de la operación y el porcentaje de varición del activo\n",
    "c = 2\n",
    "g = 2\n",
    "\n",
    "var_F = [1,5,10,20,100]\n",
    "\n",
    "for F in var_F:\n",
    "    print(ecuaciones(c, F, g)[1])"
   ]
  }
 ],
 "metadata": {
  "interpreter": {
   "hash": "8a6378035587bb97055001603ea9d85a2aa377cc6252a50ffca4355a71bc8b90"
  },
  "kernelspec": {
   "display_name": "Python 3.8.10 64-bit",
   "language": "python",
   "name": "python3"
  },
  "language_info": {
   "codemirror_mode": {
    "name": "ipython",
    "version": 3
   },
   "file_extension": ".py",
   "mimetype": "text/x-python",
   "name": "python",
   "nbconvert_exporter": "python",
   "pygments_lexer": "ipython3",
   "version": "3.8.10"
  },
  "orig_nbformat": 4
 },
 "nbformat": 4,
 "nbformat_minor": 2
}
