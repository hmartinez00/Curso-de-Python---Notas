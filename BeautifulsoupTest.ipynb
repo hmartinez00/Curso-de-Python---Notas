{
 "cells": [
  {
   "cell_type": "code",
   "execution_count": 13,
   "metadata": {},
   "outputs": [],
   "source": [
    "from bs4 import BeautifulSoup\n",
    "import requests\n",
    "url = 'https://p2p.binance.com/en/trade/all-payments/USDT?fiat=VES'\n",
    "response = requests.get(url)\n",
    "bs = BeautifulSoup(response.text, 'html.parser')\n",
    "links = bs.find_all('path')\n",
    "for link in links:\n",
    "    if \"8.500\" in link:\n",
    "        print(link)\n",
    "    # print(link)"
   ]
  },
  {
   "cell_type": "code",
   "execution_count": 22,
   "metadata": {},
   "outputs": [
    {
     "name": "stdout",
     "output_type": "stream",
     "text": [
      "[170.0, 196.0, 26.0, 3.0588235294117645]\n"
     ]
    }
   ],
   "source": [
    "cantidad_dolar = 20\n",
    "Bs_dolar = (8.500, 9.800)\n",
    "\n",
    "precio = {}\n",
    "precio[0] = cantidad_dolar * Bs_dolar[0]\n",
    "precio[1] = cantidad_dolar * Bs_dolar[1]\n",
    "\n",
    "ganancia_Bs = precio[1] - precio[0]\n",
    "ganacia_dolar = ganancia_Bs / Bs_dolar[0]\n",
    "\n",
    "valores = [precio[0], precio[1], ganancia_Bs, ganacia_dolar]\n",
    "\n",
    "print(valores)"
   ]
  },
  {
   "cell_type": "code",
   "execution_count": 26,
   "metadata": {},
   "outputs": [],
   "source": [
    "def operacion(__cantidad_dolar__, __Bs_dolar__):\n",
    "     __precio__ = {}\n",
    "     __precio__[0] = __cantidad_dolar__ * __Bs_dolar__[0]\n",
    "     __precio__[1] = __cantidad_dolar__ * __Bs_dolar__[1]\n",
    "\n",
    "     __ganancia_Bs__ = __precio__[1] - __precio__[0]\n",
    "     __ganacia_dolar__ = __ganancia_Bs__ / __Bs_dolar__[0]\n",
    "\n",
    "     __valores__ = [\n",
    "               __precio__[0], \n",
    "               __precio__[1], \n",
    "               ganancia_Bs, \n",
    "               __ganacia_dolar__,\n",
    "          ]\n",
    "     return(__valores__)"
   ]
  },
  {
   "cell_type": "code",
   "execution_count": 30,
   "metadata": {},
   "outputs": [
    {
     "name": "stdout",
     "output_type": "stream",
     "text": [
      "[170.0, 196.0, 26.0, 3.0588235294117645]\n"
     ]
    }
   ],
   "source": [
    "cantidad_dolar = 20\n",
    "Bs_dolar = (8.500, 9.800)\n",
    "\n",
    "print(operacion(cantidad_dolar, Bs_dolar))"
   ]
  }
 ],
 "metadata": {
  "interpreter": {
   "hash": "8a6378035587bb97055001603ea9d85a2aa377cc6252a50ffca4355a71bc8b90"
  },
  "kernelspec": {
   "display_name": "Python 3.8.10 64-bit",
   "language": "python",
   "name": "python3"
  },
  "language_info": {
   "codemirror_mode": {
    "name": "ipython",
    "version": 3
   },
   "file_extension": ".py",
   "mimetype": "text/x-python",
   "name": "python",
   "nbconvert_exporter": "python",
   "pygments_lexer": "ipython3",
   "version": "3.8.10"
  },
  "orig_nbformat": 4
 },
 "nbformat": 4,
 "nbformat_minor": 2
}
