{
 "cells": [
  {
   "cell_type": "code",
   "execution_count": 2,
   "metadata": {},
   "outputs": [
    {
     "name": "stdout",
     "output_type": "stream",
     "text": [
      "<h3><strong>Triángulo simétrico</strong></h3>\n",
      "<h3><strong>Triángulo ascendente</strong></h3>\n",
      "<h3><strong>Triángulo descendente</strong></h3>\n",
      "<h3><strong>Banderas Y Banderines</strong></h3>\n",
      "<h3><strong>Head and shoulders</strong></h3>\n",
      "<h3><strong>Doble mínimo</strong></h3>\n",
      "<h3><strong>Doble máximo</strong></h3>\n",
      "<h3><strong>Cuña descendente</strong></h3>\n",
      "<h3><strong>Cuña ascendente</strong></h3>\n",
      "<h3 class=\"post-title\"><a class=\"post-link\" href=\"https://iq-study.com/es/mercado-alcista-vs-bajista-explicado/\">Mercado Alcista vs Bajista Explicado</a></h3>\n",
      "<h3 class=\"post-title\"><a class=\"post-link\" href=\"https://iq-study.com/es/como-se-usa-el-calendario-economico-para-operar/\">¿Cómo se Usa el Calendario Económico para Operar?</a></h3>\n",
      "<h3 class=\"comment-reply-title\" id=\"reply-title\"><span class=\"section-head\"><span class=\"title\">Escribe un Comentario</span></span> <small><a href=\"/es/patrones-de-trading-mas-populares-para-operar-con-precision/#respond\" id=\"cancel-comment-reply-link\" rel=\"nofollow\" style=\"display:none;\">Cancel Reply</a></small></h3>\n",
      "<h3 class=\"post-title-alt\"> <a href=\"https://iq-study.com/es/horoscopo-de-trading-que-dice-tu-signo-del-zodiaco-sobre-tu-estilo-de-trading/\">Horóscopo de Trading. ¿Qué Dice Tu Signo del Zodiaco Sobre Tu Estilo de Trading?</a></h3>\n",
      "<h3 class=\"post-title-alt\"> <a href=\"https://iq-study.com/es/errores-de-trading-que-los-principiantes-deben-evitar/\">Errores de Trading que los Principiantes Deben Evitar</a></h3>\n",
      "<h3 class=\"post-title-alt\"> <a href=\"https://iq-study.com/es/como-crear-un-buen-diario-de-operaciones/\">¿Cómo Crear un Buen Diario de Operaciones?</a></h3>\n",
      "<h3 class=\"post-title-alt\"> <a href=\"https://iq-study.com/es/doble-estocastico-una-estrategia-con-opciones-binarias-con-x2-de-precision-en-sus-predicciones/\">Doble Estocástico: una estrategia con opciones binarias con x2 de precisión en sus predicciones</a></h3>\n"
     ]
    }
   ],
   "source": [
    "from bs4 import BeautifulSoup\n",
    "import requests\n",
    "url = 'https://iq-study.com/es/patrones-de-trading-mas-populares-para-operar-con-precision/'\n",
    "response = requests.get(url)\n",
    "bs = BeautifulSoup(response.text, 'html.parser')\n",
    "links = bs.find_all('h3')\n",
    "for link in links:\n",
    "    # if \"8.500\" in link:\n",
    "    #     print(link)\n",
    "    print(link)"
   ]
  },
  {
   "cell_type": "code",
   "execution_count": 22,
   "metadata": {},
   "outputs": [
    {
     "name": "stdout",
     "output_type": "stream",
     "text": [
      "[170.0, 196.0, 26.0, 3.0588235294117645]\n"
     ]
    }
   ],
   "source": [
    "cantidad_dolar = 20\n",
    "Bs_dolar = (8.500, 9.800)\n",
    "\n",
    "precio = {}\n",
    "precio[0] = cantidad_dolar * Bs_dolar[0]\n",
    "precio[1] = cantidad_dolar * Bs_dolar[1]\n",
    "\n",
    "ganancia_Bs = precio[1] - precio[0]\n",
    "ganacia_dolar = ganancia_Bs / Bs_dolar[0]\n",
    "\n",
    "valores = [precio[0], precio[1], ganancia_Bs, ganacia_dolar]\n",
    "\n",
    "print(valores)"
   ]
  },
  {
   "cell_type": "code",
   "execution_count": 26,
   "metadata": {},
   "outputs": [],
   "source": [
    "def operacion(__cantidad_dolar__, __Bs_dolar__):\n",
    "     __precio__ = {}\n",
    "     __precio__[0] = __cantidad_dolar__ * __Bs_dolar__[0]\n",
    "     __precio__[1] = __cantidad_dolar__ * __Bs_dolar__[1]\n",
    "\n",
    "     __ganancia_Bs__ = __precio__[1] - __precio__[0]\n",
    "     __ganacia_dolar__ = __ganancia_Bs__ / __Bs_dolar__[0]\n",
    "\n",
    "     __valores__ = [\n",
    "               __precio__[0], \n",
    "               __precio__[1], \n",
    "               ganancia_Bs, \n",
    "               __ganacia_dolar__,\n",
    "          ]\n",
    "     return(__valores__)"
   ]
  },
  {
   "cell_type": "code",
   "execution_count": 30,
   "metadata": {},
   "outputs": [
    {
     "name": "stdout",
     "output_type": "stream",
     "text": [
      "[170.0, 196.0, 26.0, 3.0588235294117645]\n"
     ]
    }
   ],
   "source": [
    "cantidad_dolar = 20\n",
    "Bs_dolar = (8.500, 9.800)\n",
    "\n",
    "print(operacion(cantidad_dolar, Bs_dolar))"
   ]
  }
 ],
 "metadata": {
  "interpreter": {
   "hash": "8a6378035587bb97055001603ea9d85a2aa377cc6252a50ffca4355a71bc8b90"
  },
  "kernelspec": {
   "display_name": "Python 3.8.10 64-bit",
   "language": "python",
   "name": "python3"
  },
  "language_info": {
   "codemirror_mode": {
    "name": "ipython",
    "version": 3
   },
   "file_extension": ".py",
   "mimetype": "text/x-python",
   "name": "python",
   "nbconvert_exporter": "python",
   "pygments_lexer": "ipython3",
   "version": "3.8.10"
  },
  "orig_nbformat": 4
 },
 "nbformat": 4,
 "nbformat_minor": 2
}
