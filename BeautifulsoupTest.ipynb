{
 "cells": [
  {
   "cell_type": "code",
   "execution_count": 1,
   "metadata": {},
   "outputs": [
    {
     "name": "stdout",
     "output_type": "stream",
     "text": [
      "En los evangelios, a menudo hallamos esta invitación de Jesús: “Sígueme”, o: “Venid en pos de mí”. Jesús nunca llama a servirle, sino a seguirle. Hoy Jesús invita a todos sus redimidos por su obra en la cruz, a todos aquellos por quienes dio su vida, a seguirle. Jesús escogió a sus discípulos, en primer lugar, para “estar con él”. Y “estableció a doce, para que estuviesen con él, y para enviarlos a predicar, y que tuviesen autoridad para sanar enfermedades y para echar fuera demonios” \n",
      "Cuando Jesús llamó a Simón y a Andrés, quienes estaban pescando, les dijo: “Venid en pos de mí, y haré que seáis pescadores de hombres”. El Señor quería, pues, compañeros para trabajar con él en su obra de gracia. Él los llamó, a pesar de su debilidad, y les proveyó todos los recursos necesarios. Él forma al que está dispuesto a acompañarlo: “Aprended de mí, que soy manso y humilde de corazón” \n",
      "Para nosotros esto significa aprender a conocer a Jesús leyendo su Palabra. Y si vivimos cerca de él, nos pareceremos más a él. El Señor nos quiere totalmente entregados a él y nos dice: “Sígueme”. Pero a menudo respondemos: “Déjame que primero vaya…” \n",
      "Lamentaciones 4 – Filipenses 3 – Salmo 107:33-43 – Proverbios 24:8-9\n"
     ]
    }
   ],
   "source": [
    "from bs4 import BeautifulSoup\n",
    "import requests\n",
    "url = 'https://labuenasemilla.net/20220928'\n",
    "response = requests.get(url)\n",
    "bs = BeautifulSoup(response.text, 'html.parser')\n",
    "links = bs.find_all('p')\n",
    "for link in links:\n",
    "    print(str(link).split('>')[1].split('<')[0])"
   ]
  },
  {
   "cell_type": "code",
   "execution_count": 22,
   "metadata": {},
   "outputs": [
    {
     "name": "stdout",
     "output_type": "stream",
     "text": [
      "[170.0, 196.0, 26.0, 3.0588235294117645]\n"
     ]
    }
   ],
   "source": [
    "cantidad_dolar = 20\n",
    "Bs_dolar = (8.500, 9.800)\n",
    "\n",
    "precio = {}\n",
    "precio[0] = cantidad_dolar * Bs_dolar[0]\n",
    "precio[1] = cantidad_dolar * Bs_dolar[1]\n",
    "\n",
    "ganancia_Bs = precio[1] - precio[0]\n",
    "ganacia_dolar = ganancia_Bs / Bs_dolar[0]\n",
    "\n",
    "valores = [precio[0], precio[1], ganancia_Bs, ganacia_dolar]\n",
    "\n",
    "print(valores)"
   ]
  },
  {
   "cell_type": "code",
   "execution_count": 26,
   "metadata": {},
   "outputs": [],
   "source": [
    "def operacion(__cantidad_dolar__, __Bs_dolar__):\n",
    "     __precio__ = {}\n",
    "     __precio__[0] = __cantidad_dolar__ * __Bs_dolar__[0]\n",
    "     __precio__[1] = __cantidad_dolar__ * __Bs_dolar__[1]\n",
    "\n",
    "     __ganancia_Bs__ = __precio__[1] - __precio__[0]\n",
    "     __ganacia_dolar__ = __ganancia_Bs__ / __Bs_dolar__[0]\n",
    "\n",
    "     __valores__ = [\n",
    "               __precio__[0], \n",
    "               __precio__[1], \n",
    "               ganancia_Bs, \n",
    "               __ganacia_dolar__,\n",
    "          ]\n",
    "     return(__valores__)"
   ]
  },
  {
   "cell_type": "code",
   "execution_count": 30,
   "metadata": {},
   "outputs": [
    {
     "name": "stdout",
     "output_type": "stream",
     "text": [
      "[170.0, 196.0, 26.0, 3.0588235294117645]\n"
     ]
    }
   ],
   "source": [
    "cantidad_dolar = 20\n",
    "Bs_dolar = (8.500, 9.800)\n",
    "\n",
    "print(operacion(cantidad_dolar, Bs_dolar))"
   ]
  }
 ],
 "metadata": {
  "kernelspec": {
   "display_name": "Python 3",
   "language": "python",
   "name": "python3"
  },
  "language_info": {
   "codemirror_mode": {
    "name": "ipython",
    "version": 3
   },
   "file_extension": ".py",
   "mimetype": "text/x-python",
   "name": "python",
   "nbconvert_exporter": "python",
   "pygments_lexer": "ipython3",
   "version": "3.8.10"
  },
  "orig_nbformat": 4,
  "vscode": {
   "interpreter": {
    "hash": "a5a73f597fcb854980f94a18818b7be73a73b2027b10bc6a050730db2b58fc01"
   }
  }
 },
 "nbformat": 4,
 "nbformat_minor": 2
}
