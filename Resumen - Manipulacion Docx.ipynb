{
 "cells": [
  {
   "cell_type": "markdown",
   "metadata": {},
   "source": [
    "# Manipulacion de Archivos *.docx\n",
    "\n",
    "## Creando un documento\n",
    "\n",
    "Veamos un ejemplo de creacion de un documento con la librería `python-docx`, a partir de la informacion del blog [acervolima](https://es.acervolima.com/trabajar-con-texto-en-el-modulo-docx-de-python/):"
   ]
  },
  {
   "cell_type": "code",
   "execution_count": 29,
   "metadata": {},
   "outputs": [],
   "source": [
    "import docx\n",
    "from docx.shared import Pt\n",
    "from docx.shared import RGBColor\n",
    "\n",
    "str_Titulo = 'Trabajando con Python-docx'\n",
    "str_Titulo1 = 'Incrementando Font Size paragraph:'\n",
    "str_Titulo2 = 'Parrafos con tamaño de letra normal:'\n",
    "str_parrafo1 = 'Exercitation ex adipisicing cupidatat ea nisi nisi officia excepteur nisi esse et aute. Tempor minim ex exercitation labore. Cupidatat mollit sint tempor irure sunt elit labore laboris laboris. Duis et veniam irure est laborum. Cillum fugiat adipisicing proident duis ex nulla consectetur commodo ex culpa proident veniam adipisicing. Aute aute ex enim tempor duis amet voluptate.'\n",
    "str_parrafo2 = 'Est magna dolor adipisicing sunt veniam aliqua aute deserunt incididunt veniam eiusmod deserunt ullamco aliquip. Ut consequat est sunt irure nulla sint commodo tempor dolore labore nulla occaecat. Eiusmod id esse in exercitation do aliqua est reprehenderit. Do officia nisi exercitation do. Adipisicing aute minim laboris id.'\n",
    "\n",
    "doc = docx.Document()\n",
    "doc.add_heading(str_Titulo, 0)\n",
    "\n",
    "doc.add_heading(str_Titulo1, 3)\n",
    "parrafo1 = doc.add_paragraph().add_run(str_parrafo1)\n",
    "parrafo1.font.size = Pt(12)\n",
    "parrafo1.font.color.rgb = RGBColor(0x22, 0x8b, 0x22)\n",
    "parrafo1.font.name = 'Arial'\n",
    "\n",
    "doc.add_heading(str_Titulo2, 3)\n",
    "doc.add_paragraph(str_parrafo2)\n",
    "\n",
    "doc.save('test1.docx')"
   ]
  },
  {
   "cell_type": "markdown",
   "metadata": {},
   "source": [
    "## Revisando la documentacion oficial de la librería\n",
    "\n",
    "Ahora veamos un ejemplo ofrecido por la [documentacion oficial](https://python-docx.readthedocs.io/en/latest/) de la librería:"
   ]
  },
  {
   "cell_type": "code",
   "execution_count": 30,
   "metadata": {},
   "outputs": [],
   "source": [
    "from docx import Document\n",
    "from docx.shared import Inches\n",
    "\n",
    "document = Document()\n",
    "\n",
    "document.add_heading('Document Title', 0)\n",
    "\n",
    "p = document.add_paragraph('A plain paragraph having some ')\n",
    "p.add_run('bold').bold = True\n",
    "p.add_run(' and some ')\n",
    "p.add_run('italic.').italic = True\n",
    "\n",
    "document.add_heading('Heading, level 1', level=1)\n",
    "document.add_paragraph('Intense quote', style='Intense Quote')\n",
    "\n",
    "document.add_paragraph(\n",
    "    'first item in unordered list', style='List Bullet'\n",
    ")\n",
    "document.add_paragraph(\n",
    "    'first item in ordered list', style='List Number'\n",
    ")\n",
    "\n",
    "document.add_picture('unnamed.jpg', width=Inches(1.25))\n",
    "\n",
    "records = (\n",
    "    (3, '101', 'Spam'),\n",
    "    (7, '422', 'Eggs'),\n",
    "    (4, '631', 'Spam, spam, eggs, and spam')\n",
    ")\n",
    "\n",
    "table = document.add_table(rows=1, cols=3)\n",
    "hdr_cells = table.rows[0].cells\n",
    "hdr_cells[0].text = 'Qty'\n",
    "hdr_cells[1].text = 'Id'\n",
    "hdr_cells[2].text = 'Desc'\n",
    "for qty, id, desc in records:\n",
    "    row_cells = table.add_row().cells\n",
    "    row_cells[0].text = str(qty)\n",
    "    row_cells[1].text = id\n",
    "    row_cells[2].text = desc\n",
    "\n",
    "document.add_page_break()\n",
    "\n",
    "document.save('demo.docx')"
   ]
  },
  {
   "cell_type": "markdown",
   "metadata": {},
   "source": [
    "# Inicio rápido\n",
    "\n",
    "Comenzar python-docx es fácil. Repasemos los conceptos básicos.\n",
    "\n",
    "## [Abriendo un documento](https://python-docx.readthedocs.io/en/latest/user/quickstart.html#opening-a-document)\n",
    "\n",
    "Lo primero que necesitará es un documento en el que trabajar. La forma más fácil es esta:"
   ]
  },
  {
   "cell_type": "code",
   "execution_count": 1,
   "metadata": {},
   "outputs": [],
   "source": [
    "from docx import Document\n",
    "\n",
    "document = Document()"
   ]
  },
  {
   "cell_type": "markdown",
   "metadata": {},
   "source": [
    "> :\n",
    "\n",
    "Esto abre un documento en blanco basado en la \"plantilla\" predeterminada, más o menos lo que obtiene cuando comienza un nuevo documento en Word usando los valores predeterminados incorporados. Puede abrir y trabajar en un documento de Word existente usando python-docx, pero por el momento simplificaremos las cosas.\n",
    "\n",
    "## [Agregar un párrafo](https://python-docx.readthedocs.io/en/latest/user/quickstart.html#adding-a-paragraph)\n",
    "\n",
    "Los párrafos son fundamentales en Word. Se utilizan para el cuerpo del texto, pero también para encabezados y elementos de lista como viñetas.\n",
    "\n",
    "Esta es la forma más sencilla de agregar uno:"
   ]
  },
  {
   "cell_type": "code",
   "execution_count": 2,
   "metadata": {},
   "outputs": [],
   "source": [
    "paragraph = document.add_paragraph('Lorem ipsum dolor sit amet.')"
   ]
  },
  {
   "cell_type": "markdown",
   "metadata": {},
   "source": [
    "--\n",
    "\n",
    "Este método devuelve una referencia a un párrafo, párrafo recién agregado al final del documento. La nueva referencia de párrafo se asigna a paragraph en este caso, pero lo dejaré fuera en los siguientes ejemplos a menos que lo necesite. En su código, muchas veces no hará nada con el elemento después de haberlo agregado, por lo que no tiene mucho sentido mantener una referencia a él dando vueltas.\n",
    "\n",
    "También es posible utilizar un párrafo como \"cursor\" e insertar un nuevo párrafo directamente encima de él:"
   ]
  },
  {
   "cell_type": "code",
   "execution_count": 3,
   "metadata": {},
   "outputs": [],
   "source": [
    "prior_paragraph = paragraph.insert_paragraph_before('Lorem ipsum')"
   ]
  },
  {
   "cell_type": "markdown",
   "metadata": {},
   "source": [
    "Esto permite insertar un párrafo en medio de un documento, algo que suele ser importante cuando se modifica un documento existente en lugar de generar uno desde cero.\n",
    "\n",
    "## [Agregando un encabezado](https://python-docx.readthedocs.io/en/latest/user/quickstart.html#adding-a-heading)\n",
    "\n",
    "En cualquier documento que no sea el más breve, el cuerpo del texto se divide en secciones, cada una de las cuales comienza con un encabezado. Aquí se explica cómo agregar uno:"
   ]
  },
  {
   "cell_type": "code",
   "execution_count": 34,
   "metadata": {},
   "outputs": [
    {
     "data": {
      "text/plain": [
       "<docx.text.paragraph.Paragraph at 0x6eb9490>"
      ]
     },
     "execution_count": 34,
     "metadata": {},
     "output_type": "execute_result"
    }
   ],
   "source": [
    "document.add_heading('The REAL meaning of the universe')"
   ]
  },
  {
   "cell_type": "markdown",
   "metadata": {},
   "source": [
    "--\n",
    "\n",
    "De forma predeterminada, esto agrega un encabezado de nivel superior, lo que aparece en Word como \"Título 1\". Cuando desee un encabezado para una subsección, simplemente especifique el nivel que desea como un número entero entre 1 y 9:"
   ]
  },
  {
   "cell_type": "code",
   "execution_count": 35,
   "metadata": {},
   "outputs": [
    {
     "data": {
      "text/plain": [
       "<docx.text.paragraph.Paragraph at 0x6eb9580>"
      ]
     },
     "execution_count": 35,
     "metadata": {},
     "output_type": "execute_result"
    }
   ],
   "source": [
    "document.add_heading('The role of dolphins', level=2)"
   ]
  },
  {
   "cell_type": "markdown",
   "metadata": {},
   "source": [
    "Si especifica un nivel de 0, se agrega un párrafo de \"Título\". Esto puede ser útil para comenzar un documento relativamente corto que no tiene una página de título separada.\n",
    "\n",
    "## [Agregar un salto de página ](https://python-docx.readthedocs.io/en/latest/user/quickstart.html#adding-a-page-break)\n",
    "\n",
    "De vez en cuando desea que el texto que viene a continuación vaya en una página separada, incluso si la que está no está llena. Un salto de página \"duro\" hace esto:"
   ]
  },
  {
   "cell_type": "code",
   "execution_count": 36,
   "metadata": {},
   "outputs": [
    {
     "data": {
      "text/plain": [
       "<docx.text.paragraph.Paragraph at 0x6eb9370>"
      ]
     },
     "execution_count": 36,
     "metadata": {},
     "output_type": "execute_result"
    }
   ],
   "source": [
    "document.add_page_break()"
   ]
  },
  {
   "cell_type": "markdown",
   "metadata": {},
   "source": [
    "Si se encuentra usando esto con mucha frecuencia, probablemente sea una señal de que podría beneficiarse al comprender mejor los estilos de párrafo. Una propiedad de estilo de párrafo que puede establecer es dividir una página inmediatamente antes de cada párrafo que tenga ese estilo. Por lo tanto, puede configurar sus encabezados de cierto nivel para comenzar siempre una nueva página. Más sobre estilos más adelante. Resultan ser de vital importancia para realmente sacar el máximo provecho de Word.\n",
    "\n",
    "## [Agregar una tabla](https://python-docx.readthedocs.io/en/latest/user/quickstart.html#adding-a-table)\n",
    "\n",
    "Uno se encuentra con frecuencia con contenido que se presta a una presentación tabular, alineado en filas y columnas ordenadas. Word hace un buen trabajo en esto. Aquí se explica cómo agregar una tabla:"
   ]
  },
  {
   "cell_type": "code",
   "execution_count": 37,
   "metadata": {},
   "outputs": [],
   "source": [
    "table = document.add_table(rows=2, cols=2)"
   ]
  },
  {
   "cell_type": "markdown",
   "metadata": {},
   "source": [
    "--\n",
    "\n",
    "Las tablas tienen varias propiedades y métodos que necesitará para completarlas. Acceder a celdas individuales es probablemente un buen lugar para comenzar. Como referencia, siempre puede acceder a una celda por sus índices de fila y columna:"
   ]
  },
  {
   "cell_type": "code",
   "execution_count": 38,
   "metadata": {},
   "outputs": [],
   "source": [
    "cell = table.cell(0,1)"
   ]
  },
  {
   "cell_type": "markdown",
   "metadata": {},
   "source": [
    "--\n",
    "\n",
    "Esto le da la celda de la derecha en la fila superior de la tabla que acabamos de crear. Tenga en cuenta que los índices de fila y columna se basan en cero, al igual que en el acceso a la lista.\n",
    "\n",
    "Una vez que tenga una celda, puede poner algo en ella:"
   ]
  },
  {
   "cell_type": "code",
   "execution_count": 39,
   "metadata": {},
   "outputs": [],
   "source": [
    "cell.text = 'parrot, possibly dead'"
   ]
  },
  {
   "cell_type": "markdown",
   "metadata": {},
   "source": [
    "--\n",
    "\n",
    "Con frecuencia, es más fácil acceder a una fila de celdas a la vez, por ejemplo, al completar una tabla de longitud variable desde una fuente de datos. La .rows propiedad de una tabla proporciona acceso a filas individuales, cada una de las cuales tiene una .cellspropiedad. La .cellspropiedad en ambos Rowy Column admite el acceso indexado, como una lista:"
   ]
  },
  {
   "cell_type": "code",
   "execution_count": 40,
   "metadata": {},
   "outputs": [],
   "source": [
    "row = table.rows[1]\n",
    "row.cells[0].text = 'Foo bar to you.'\n",
    "row.cells[1].text = 'And a hearty foo bar to you too sir!'"
   ]
  },
  {
   "cell_type": "markdown",
   "metadata": {},
   "source": [
    "--\n",
    "\n",
    "Las colecciones .rows y .columns en una tabla son iterables, por lo que puede usarlas directamente en un for bucle. Lo mismo con las .cellssecuencias en una fila o columna:"
   ]
  },
  {
   "cell_type": "code",
   "execution_count": 41,
   "metadata": {},
   "outputs": [
    {
     "name": "stdout",
     "output_type": "stream",
     "text": [
      "\n",
      "parrot, possibly dead\n",
      "Foo bar to you.\n",
      "And a hearty foo bar to you too sir!\n"
     ]
    }
   ],
   "source": [
    "for row in table.rows:\n",
    "    for cell in row.cells:\n",
    "        print(cell.text)"
   ]
  },
  {
   "cell_type": "markdown",
   "metadata": {},
   "source": [
    "--\n",
    "\n",
    "Si desea contar las filas o columnas de la tabla, simplemente use len()en la secuencia:"
   ]
  },
  {
   "cell_type": "code",
   "execution_count": 42,
   "metadata": {},
   "outputs": [],
   "source": [
    "row_count = len(table.rows)\n",
    "col_count = len(table.columns)"
   ]
  },
  {
   "cell_type": "markdown",
   "metadata": {},
   "source": [
    "--\n",
    "\n",
    "También puede agregar filas a una tabla de forma incremental de esta manera:"
   ]
  },
  {
   "cell_type": "code",
   "execution_count": 43,
   "metadata": {},
   "outputs": [],
   "source": [
    "row = table.add_row()"
   ]
  },
  {
   "cell_type": "markdown",
   "metadata": {},
   "source": [
    "--\n",
    "\n",
    "Esto puede ser muy útil para el escenario de tabla de longitud variable que mencionamos anteriormente:"
   ]
  },
  {
   "cell_type": "code",
   "execution_count": 44,
   "metadata": {},
   "outputs": [],
   "source": [
    "# obtener table data\n",
    "items = (\n",
    "    (7, '1024', 'Plush kittens'),\n",
    "    (3, '2042', 'Furbees'),\n",
    "    (1, '1288', 'French Poodle Collars, Deluxe'),\n",
    ")\n",
    "\n",
    "# agregar tabla\n",
    "table = document.add_table(1, 3)\n",
    "\n",
    "# agregando cabeceras\n",
    "cabeceras = table.rows[0].cells # Aca vamos a trabajar con las celdas de la primera fila\n",
    "cabeceras[0].text = 'Qty'\n",
    "cabeceras[1].text = 'SKU'\n",
    "cabeceras[2].text = 'Description'\n",
    "\n",
    "# agregar la data de cada renglon\n",
    "for item in items:\n",
    "    celdas = table.add_row().cells\n",
    "    celdas[0].text = str(item[0])\n",
    "    celdas[1].text = str(item[1])\n",
    "    celdas[2].text = str(item[2])\n",
    "    "
   ]
  },
  {
   "cell_type": "markdown",
   "metadata": {},
   "source": [
    "--\n",
    "\n",
    "Lo mismo funciona para las columnas, aunque todavía tengo que ver un caso de uso para ello.\n",
    "\n",
    "Word tiene un conjunto de estilos de tabla con formato previo que puede elegir de su galería de estilos de tabla. Puede aplicar uno de esos a la tabla de esta manera:"
   ]
  },
  {
   "cell_type": "code",
   "execution_count": 45,
   "metadata": {},
   "outputs": [],
   "source": [
    "table.style = 'LightShading-Accent1'"
   ]
  },
  {
   "cell_type": "markdown",
   "metadata": {},
   "source": [
    "El nombre del estilo se forma eliminando todos los espacios del nombre del estilo de la tabla. Puede encontrar el nombre del estilo de tabla pasando el mouse sobre su miniatura en la galería de estilos de tabla de Word.\n",
    "\n",
    "## [Agregar una imagen](https://python-docx.readthedocs.io/en/latest/user/quickstart.html#adding-a-picture)\n",
    "\n",
    "Word le permite colocar una imagen en un documento usando el elemento de menú. He aquí cómo hacerlo en :Insert > Photo > Picture from file...python-docx"
   ]
  },
  {
   "cell_type": "code",
   "execution_count": 46,
   "metadata": {},
   "outputs": [
    {
     "data": {
      "text/plain": [
       "<docx.shape.InlineShape at 0x6e92df0>"
      ]
     },
     "execution_count": 46,
     "metadata": {},
     "output_type": "execute_result"
    }
   ],
   "source": [
    "document.add_picture('unnamed.jpg')"
   ]
  },
  {
   "cell_type": "markdown",
   "metadata": {},
   "source": [
    "Este ejemplo utiliza una ruta, que carga el archivo de imagen desde el sistema de archivos local. También puede usar un objeto similar a un archivo , esencialmente cualquier objeto que actúe como un archivo abierto. Esto puede ser útil si está recuperando su imagen de una base de datos oa través de una red y no desea involucrar al sistema de archivos.\n",
    "\n",
    "### [Tamaño de imagen](https://python-docx.readthedocs.io/en/latest/user/quickstart.html#image-size)\n",
    "\n",
    "De forma predeterminada, la imagen añadida aparece en tamaño nativo . Esto es a menudo más grande de lo que desea. El tamaño nativo se calcula como . Entonces, una imagen de 300x300 píxeles con una resolución de 300 ppp aparece en un cuadrado de una pulgada. El problema es que la mayoría de las imágenes no contienen una propiedad de dpi y el valor predeterminado es 72 dpi. Esto haría que la misma imagen apareciera de 4,167 pulgadas de lado, alrededor de la mitad de la página.pixels / dpi\n",
    "\n",
    "Para obtener la imagen del tamaño que desea, puede especificar su ancho o alto en unidades convenientes, como pulgadas o centímetros:"
   ]
  },
  {
   "cell_type": "code",
   "execution_count": 47,
   "metadata": {},
   "outputs": [
    {
     "data": {
      "text/plain": [
       "<docx.shape.InlineShape at 0x5719550>"
      ]
     },
     "execution_count": 47,
     "metadata": {},
     "output_type": "execute_result"
    }
   ],
   "source": [
    "from docx.shared import Inches\n",
    "\n",
    "document.add_picture('unnamed.jpg', width=Inches(1.0))"
   ]
  },
  {
   "cell_type": "markdown",
   "metadata": {},
   "source": [
    "Puede especificar tanto el ancho como el alto, pero por lo general no querrá hacerlo. Si especifica solo uno, python-docxlo usa para calcular el valor escalado correctamente del otro. De esta manera, se conserva la relación de aspecto y la imagen no se ve estirada.\n",
    "\n",
    "Las clases Inchesy Cmse proporcionan para permitirle especificar las medidas en unidades prácticas. Internamente, python-docxutiliza unidades métricas inglesas, 914400 por pulgada. Así que si te olvidas y simplemente pones algo así width=2, obtendrás una imagen extremadamente pequeña :). Deberá importarlos desde el docx.shared subpaquete. Puedes usarlos en aritmética como si fueran un número entero, que de hecho lo son. Así que una expresión como funciona bien.width = Inches(3) / thing_count\n",
    "\n",
    "## [Aplicando un estilo de párrafo](https://python-docx.readthedocs.io/en/latest/user/quickstart.html#applying-a-paragraph-style)\n",
    "\n",
    "Si no sabe qué es un estilo de párrafo de Word, definitivamente debería comprobarlo. Básicamente, le permite aplicar un conjunto completo de opciones de formato a un párrafo a la vez. Se parece mucho a los estilos CSS si sabes cuáles son.\n",
    "\n",
    "Puede aplicar un estilo de párrafo justo cuando crea un párrafo:"
   ]
  },
  {
   "cell_type": "code",
   "execution_count": 48,
   "metadata": {},
   "outputs": [
    {
     "data": {
      "text/plain": [
       "<docx.text.paragraph.Paragraph at 0x5719ac0>"
      ]
     },
     "execution_count": 48,
     "metadata": {},
     "output_type": "execute_result"
    }
   ],
   "source": [
    "document.add_paragraph('Lorem ipsum dolor sit amet.', style='ListBullet')"
   ]
  },
  {
   "cell_type": "markdown",
   "metadata": {},
   "source": [
    "--\n",
    "\n",
    "Este estilo particular hace que el párrafo aparezca como una viñeta, algo muy útil. También puede aplicar un estilo después. Estas dos líneas son equivalentes a la anterior:"
   ]
  },
  {
   "cell_type": "code",
   "execution_count": 49,
   "metadata": {},
   "outputs": [],
   "source": [
    "paragraph = document.add_paragraph('Lorem ipsum dolor sit amet.')\n",
    "paragraph.style = 'List Bullet'"
   ]
  },
  {
   "cell_type": "markdown",
   "metadata": {},
   "source": [
    "El estilo se especifica usando su nombre de estilo, 'List Bullet' en este ejemplo. Por lo general, el nombre del estilo es exactamente como aparece en la interfaz de usuario (IU) de Word.\n",
    "\n",
    "## [Aplicando negrita y cursiva](https://python-docx.readthedocs.io/en/latest/user/quickstart.html#applying-bold-and-italic)\n",
    "\n",
    "Para comprender cómo funcionan las negritas y las cursivas, debe comprender un poco lo que sucede dentro de un párrafo. La versión corta es esta:\n",
    "\n",
    "1. Un párrafo contiene todo el formato de nivel de bloque , como sangría, altura de línea, tabulaciones, etc.\n",
    "2. El formato de nivel de carácter, como negrita y cursiva, se aplica en el nivel de ejecución . Todo el contenido dentro de un párrafo debe estar dentro de una ejecución, pero puede haber más de uno. Entonces, un párrafo con una palabra en negrita en el medio necesitaría tres tiradas, una normal, una en negrita que contuviera la palabra y otra normal para el texto posterior.\n",
    "\n",
    "Cuando agrega un párrafo proporcionando texto al .add_paragraph()método, se coloca en una sola ejecución. Puede agregar más usando el .add_run()método en el párrafo:"
   ]
  },
  {
   "cell_type": "code",
   "execution_count": 50,
   "metadata": {},
   "outputs": [
    {
     "data": {
      "text/plain": [
       "<docx.text.run.Run at 0x5719430>"
      ]
     },
     "execution_count": 50,
     "metadata": {},
     "output_type": "execute_result"
    }
   ],
   "source": [
    "paragraph = document.add_paragraph('Lorem ipsum ')\n",
    "paragraph.add_run('dolor sit amet.')"
   ]
  },
  {
   "cell_type": "markdown",
   "metadata": {},
   "source": [
    "--\n",
    "\n",
    "Esto produce un párrafo que se parece a uno creado a partir de una sola cadena. No es evidente dónde se divide el texto del párrafo a menos que mire el XML. Tenga en cuenta el espacio final al final de la primera cadena. Debe ser explícito acerca de dónde aparecen los espacios al principio y al final de una ejecución. No se insertan automáticamente entre ejecuciones. Espere ser atrapado por ese un par de veces :).\n",
    "\n",
    "Runlos objetos tienen una propiedad .boldy .italicque le permite establecer su valor para una ejecución:"
   ]
  },
  {
   "cell_type": "code",
   "execution_count": 51,
   "metadata": {},
   "outputs": [
    {
     "data": {
      "text/plain": [
       "<docx.text.run.Run at 0x6eb98b0>"
      ]
     },
     "execution_count": 51,
     "metadata": {},
     "output_type": "execute_result"
    }
   ],
   "source": [
    "paragraph = document.add_paragraph('Lorem ipsum ')\n",
    "run = paragraph.add_run('dolor')\n",
    "run.bold = True\n",
    "paragraph.add_run(' sit amet.')"
   ]
  },
  {
   "cell_type": "markdown",
   "metadata": {},
   "source": [
    "--\n",
    "\n",
    "que produce un texto similar a este: 'Lorem ipsum dolor sit amet'.\n",
    "\n",
    "Tenga en cuenta que puede configurar negrita o cursiva directamente en el resultado .add_run()si no lo necesita para nada más:"
   ]
  },
  {
   "cell_type": "code",
   "execution_count": 52,
   "metadata": {},
   "outputs": [],
   "source": [
    "paragraph.add_run('dolor').bold = True\n",
    "\n",
    "# is equivalent to:\n",
    "\n",
    "run = paragraph.add_run('dolor')\n",
    "run.bold = True\n",
    "\n",
    "# except you don't have a reference to `run` afterward"
   ]
  },
  {
   "cell_type": "markdown",
   "metadata": {},
   "source": [
    "No es necesario proporcionar texto al .add_paragraph()método. Esto puede simplificar su código si está construyendo el párrafo a partir de ejecuciones de todos modos:"
   ]
  },
  {
   "cell_type": "code",
   "execution_count": 53,
   "metadata": {},
   "outputs": [
    {
     "data": {
      "text/plain": [
       "<docx.text.run.Run at 0x6eb9cd0>"
      ]
     },
     "execution_count": 53,
     "metadata": {},
     "output_type": "execute_result"
    }
   ],
   "source": [
    "paragraph = document.add_paragraph()\n",
    "paragraph.add_run('Lorem ipsum ')\n",
    "paragraph.add_run('dolor').bold = True\n",
    "paragraph.add_run(' sit amet.')"
   ]
  },
  {
   "cell_type": "markdown",
   "metadata": {},
   "source": [
    "## [Aplicando un estilo de carácter](https://python-docx.readthedocs.io/en/latest/user/quickstart.html#applying-a-character-style)\n",
    "\n",
    "Además de los estilos de párrafo, que especifican un grupo de configuraciones de nivel de párrafo, Word tiene estilos de carácter que especifican un grupo de configuraciones de nivel de ejecución. En general, puede pensar en un estilo de carácter como la especificación de una fuente, incluido su tipo de letra, tamaño, color, negrita, cursiva, etc.\n",
    "\n",
    "Al igual que los estilos de párrafo, un estilo de carácter ya debe estar definido en el documento que abre con la Document()llamada ( consulte Descripción de los estilos ).\n",
    "\n",
    "Se puede especificar un estilo de carácter al agregar una nueva ejecución:"
   ]
  },
  {
   "cell_type": "code",
   "execution_count": 54,
   "metadata": {},
   "outputs": [
    {
     "data": {
      "text/plain": [
       "<docx.text.run.Run at 0x6ed3b80>"
      ]
     },
     "execution_count": 54,
     "metadata": {},
     "output_type": "execute_result"
    }
   ],
   "source": [
    "paragraph = document.add_paragraph('Normal text, ')\n",
    "paragraph.add_run('text with emphasis.', 'Emphasis')"
   ]
  },
  {
   "cell_type": "markdown",
   "metadata": {},
   "source": [
    "--\n",
    "\n",
    "También puede aplicar un estilo a una ejecución después de crearla. Este código produce el mismo resultado que las líneas anteriores:"
   ]
  },
  {
   "cell_type": "code",
   "execution_count": 55,
   "metadata": {},
   "outputs": [],
   "source": [
    "paragraph = document.add_paragraph('Normal text, ')\n",
    "run = paragraph.add_run('text with emphasis.')\n",
    "run.style = 'Emphasis'"
   ]
  },
  {
   "cell_type": "markdown",
   "metadata": {},
   "source": [
    "Al igual que con un estilo de párrafo, el nombre del estilo es tal como aparece en la interfaz de usuario de Word."
   ]
  },
  {
   "cell_type": "code",
   "execution_count": 56,
   "metadata": {},
   "outputs": [],
   "source": [
    "document.save('documento de prueba - Inicio Rapido python-docx.docx')"
   ]
  },
  {
   "cell_type": "markdown",
   "metadata": {},
   "source": [
    "# Alterando un archivo\n",
    "\n",
    "Hagamos un experimento, y alteremos el primer parrafo del documento que acabamos de guardar:"
   ]
  },
  {
   "cell_type": "code",
   "execution_count": 57,
   "metadata": {},
   "outputs": [],
   "source": [
    "# Con esto obtenemos toda la informacion del archivo que puede obtener python-docx.\n",
    "f = open('documento de prueba - Inicio Rapido python-docx.docx', 'rb')\n",
    "document = Document(f)\n",
    "f.close() # Cerramos el archivo\n",
    "\n",
    "# Accedemos al primer parrafo de la lista de parrafos y le reasignamos nuevo contenido.\n",
    "document.paragraphs[0].text = 'Lorem ipsum (Alterado)'\n",
    "\n",
    "# Guardamos los cambios.\n",
    "document.save('documento de prueba - Inicio Rapido python-docx (Alterado).docx')"
   ]
  }
 ],
 "metadata": {
  "kernelspec": {
   "display_name": "Python 3.8.10 64-bit",
   "language": "python",
   "name": "python3"
  },
  "language_info": {
   "codemirror_mode": {
    "name": "ipython",
    "version": 3
   },
   "file_extension": ".py",
   "mimetype": "text/x-python",
   "name": "python",
   "nbconvert_exporter": "python",
   "pygments_lexer": "ipython3",
   "version": "3.8.10"
  },
  "orig_nbformat": 4,
  "vscode": {
   "interpreter": {
    "hash": "f899019e40078bba6a192d1b33425237bbe8b1e870f3f4f931213adcabf069ec"
   }
  }
 },
 "nbformat": 4,
 "nbformat_minor": 2
}
