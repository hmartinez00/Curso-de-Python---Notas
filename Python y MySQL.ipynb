{
 "cells": [
  {
   "cell_type": "markdown",
   "metadata": {},
   "source": [
    "ref > `https://www.w3schools.com/python/python_mysql_getstarted.asp`\n",
    "\n",
    "# 1.- Python y MySQL <a id='1.-'></a>\n",
    "\n",
    "Python se puede utilizar en aplicaciones de bases de datos. Una de las bases de datos más populares es MySQL."
   ]
  },
  {
   "cell_type": "markdown",
   "metadata": {},
   "source": [
    "## 1.1 Prueba del conector MySQL <a id='1.1'></a>\n",
    "\n",
    "Para probar si la instalación fue exitosa, o si ya tiene instalado \"MySQL Connector\", cree una página de Python con el siguiente contenido:"
   ]
  },
  {
   "cell_type": "code",
   "execution_count": 2,
   "metadata": {},
   "outputs": [],
   "source": [
    "import mysql.connector"
   ]
  },
  {
   "cell_type": "markdown",
   "metadata": {},
   "source": [
    "Si el código anterior se ejecutó sin errores, \"MySQL Connector\" está instalado y listo para usarse.\n",
    "\n",
    "## 1.2 Crear conexión <a id='1.2'></a>\n",
    "\n",
    "Comience por crear una conexión a la base de datos. Utilice el nombre de usuario y la contraseña de su base de datos MySQL:"
   ]
  },
  {
   "cell_type": "code",
   "execution_count": 14,
   "metadata": {},
   "outputs": [
    {
     "name": "stdout",
     "output_type": "stream",
     "text": [
      "<mysql.connector.connection_cext.CMySQLConnection object at 0x00000000091D3FA0>\n"
     ]
    }
   ],
   "source": [
    "mydb = mysql.connector.connect(\n",
    "  host='localhost',\n",
    "  user='root',\n",
    "  password=''\n",
    ")\n",
    "\n",
    "print(mydb)"
   ]
  },
  {
   "cell_type": "markdown",
   "metadata": {},
   "source": [
    "# 2.- Crear base de datos <a id='2.-'></a>\n",
    "\n",
    "## 2.1 Crear una base de datos <a id='2.1'></a>\n",
    "\n",
    "Para crear una base de datos en MySQL, use la instrucción \"CREATE DATABASE\":"
   ]
  },
  {
   "cell_type": "code",
   "execution_count": 2,
   "metadata": {},
   "outputs": [],
   "source": [
    "mydb = mysql.connector.connect(\n",
    "  host='localhost',\n",
    "  user='root',\n",
    "  password=''\n",
    ")\n",
    "\n",
    "mycursor = mydb.cursor()\n",
    "\n",
    "mycursor.execute(\"CREATE DATABASE VRSS_Operation_and_Managment_Subsystem\")"
   ]
  },
  {
   "cell_type": "markdown",
   "metadata": {},
   "source": [
    "## 2.2 Comprobar si existe la base de datos <a id='2.2'></a>\n",
    "\n",
    "Puede verificar si existe una base de datos enumerando todas las bases de datos en su sistema usando la declaración \"MOSTRAR BASES DE DATOS\":"
   ]
  },
  {
   "cell_type": "code",
   "execution_count": 23,
   "metadata": {},
   "outputs": [
    {
     "name": "stdout",
     "output_type": "stream",
     "text": [
      "('information_schema',)\n",
      "('mydatabase',)\n",
      "('mysql',)\n",
      "('performance_schema',)\n",
      "('phpmyadmin',)\n",
      "('test',)\n"
     ]
    }
   ],
   "source": [
    "mydb = mysql.connector.connect(\n",
    "  host='localhost',\n",
    "  user='root',\n",
    "  password=''\n",
    ")\n",
    "\n",
    "mycursor = mydb.cursor()\n",
    "\n",
    "mycursor.execute(\"SHOW DATABASES\")\n",
    "\n",
    "for x in mycursor:\n",
    "    print(x)"
   ]
  },
  {
   "cell_type": "markdown",
   "metadata": {},
   "source": [
    "O puede intentar acceder a la base de datos al realizar la conexión:"
   ]
  },
  {
   "cell_type": "code",
   "execution_count": 19,
   "metadata": {},
   "outputs": [
    {
     "name": "stdout",
     "output_type": "stream",
     "text": [
      "<mysql.connector.connection_cext.CMySQLConnection object at 0x000000000635B7C0>\n"
     ]
    }
   ],
   "source": [
    "mydb = mysql.connector.connect(\n",
    "  host='localhost',\n",
    "  user='root',\n",
    "  password='',\n",
    "  database='VRSS_Operation_and_Managment_Subsystem'\n",
    "  #port='3306'\n",
    ")\n",
    "\n",
    "print(mydb)"
   ]
  },
  {
   "cell_type": "markdown",
   "metadata": {},
   "source": [
    "# 3.- Crear tabla <a id='3.-'></a>\n",
    "\n",
    "## 3.1 Crear/Borrar una tabla <a id='3.1'></a>\n",
    "\n",
    "### Para crear una tabla en MySQL \n",
    "Use la instrucción \"CREATE TABLE\". Asegúrese de definir el nombre de la base de datos cuando cree la conexión"
   ]
  },
  {
   "cell_type": "code",
   "execution_count": 3,
   "metadata": {},
   "outputs": [],
   "source": [
    "mydb = mysql.connector.connect(\n",
    "  host='localhost',\n",
    "  user='root',\n",
    "  password='',\n",
    "  database='test'\n",
    ")\n",
    "\n",
    "mycursor = mydb.cursor()\n",
    "\n",
    "mycursor.execute('''CREATE TABLE customers (\n",
    "  name VARCHAR(255), \n",
    "  address VARCHAR(255))\n",
    "''')"
   ]
  },
  {
   "cell_type": "markdown",
   "metadata": {},
   "source": [
    "Si el código anterior se ejecutó sin errores, ahora ha creado una tabla con éxito.\n",
    "\n",
    "### Para borrar la tabla en MySQL \n",
    "\n",
    "Use la instrucción \"DROP TABLE\". Asegúrese de definir el nombre de la base de datos cuando cree la conexión"
   ]
  },
  {
   "cell_type": "code",
   "execution_count": 17,
   "metadata": {},
   "outputs": [],
   "source": [
    "mydb = mysql.connector.connect(\n",
    "  host='localhost',\n",
    "  user='root',\n",
    "  password='',\n",
    "  database='test'\n",
    ")\n",
    "\n",
    "mycursor = mydb.cursor()\n",
    "\n",
    "mycursor.execute(\"DROP TABLE customers\")"
   ]
  },
  {
   "cell_type": "markdown",
   "metadata": {},
   "source": [
    "## Alterar una tabla\n",
    "\n",
    "### Para añadir una columna\n",
    "\n",
    "Si la tabla ya existe, use la palabra clave ALTER TABLE:\n",
    "\n",
    "Para añadir una columna al final de la tabla"
   ]
  },
  {
   "cell_type": "code",
   "execution_count": 19,
   "metadata": {},
   "outputs": [],
   "source": [
    "sql = \"ALTER TABLE customers ADD COLUMN id INT AUTO_INCREMENT PRIMARY KEY\"\n",
    "\n",
    "mydb = mysql.connector.connect(\n",
    "  host=\"localhost\",\n",
    "  user=\"root\",\n",
    "  password='',\n",
    "  database=\"test\"\n",
    ")\n",
    "\n",
    "mycursor = mydb.cursor()\n",
    "\n",
    "mycursor.execute(sql)"
   ]
  },
  {
   "cell_type": "markdown",
   "metadata": {},
   "source": [
    "Para Borrar la columna"
   ]
  },
  {
   "cell_type": "code",
   "execution_count": 25,
   "metadata": {},
   "outputs": [],
   "source": [
    "mydb = mysql.connector.connect(\n",
    "  host=\"localhost\",\n",
    "  user=\"root\",\n",
    "  password='',\n",
    "  database=\"test\"\n",
    ")\n",
    "\n",
    "mycursor = mydb.cursor()\n",
    "\n",
    "mycursor.execute(\"ALTER TABLE customers DROP COLUMN id\")"
   ]
  },
  {
   "cell_type": "markdown",
   "metadata": {},
   "source": [
    "Para añadirla al principio"
   ]
  },
  {
   "cell_type": "code",
   "execution_count": 1,
   "metadata": {},
   "outputs": [
    {
     "ename": "NameError",
     "evalue": "name 'mysql' is not defined",
     "output_type": "error",
     "traceback": [
      "\u001b[1;31m---------------------------------------------------------------------------\u001b[0m",
      "\u001b[1;31mNameError\u001b[0m                                 Traceback (most recent call last)",
      "\u001b[1;32mc:\\Users\\admin\\Documents\\DIPLOMADO - Inteligencia Artificial\\Acceso a archivos y directorios\\Resumen - Bases de Datos.ipynb Cell 21'\u001b[0m in \u001b[0;36m<cell line: 3>\u001b[1;34m()\u001b[0m\n\u001b[0;32m      <a href='vscode-notebook-cell:/c%3A/Users/admin/Documents/DIPLOMADO%20-%20Inteligencia%20Artificial/Acceso%20a%20archivos%20y%20directorios/Resumen%20-%20Bases%20de%20Datos.ipynb#ch0000020?line=0'>1</a>\u001b[0m sql \u001b[39m=\u001b[39m \u001b[39m\"\u001b[39m\u001b[39mALTER TABLE `customers` ADD `Id` INT NOT NULL AUTO_INCREMENT FIRST, ADD PRIMARY KEY (`Id`);\u001b[39m\u001b[39m\"\u001b[39m\n\u001b[1;32m----> <a href='vscode-notebook-cell:/c%3A/Users/admin/Documents/DIPLOMADO%20-%20Inteligencia%20Artificial/Acceso%20a%20archivos%20y%20directorios/Resumen%20-%20Bases%20de%20Datos.ipynb#ch0000020?line=2'>3</a>\u001b[0m mydb \u001b[39m=\u001b[39m mysql\u001b[39m.\u001b[39mconnector\u001b[39m.\u001b[39mconnect(\n\u001b[0;32m      <a href='vscode-notebook-cell:/c%3A/Users/admin/Documents/DIPLOMADO%20-%20Inteligencia%20Artificial/Acceso%20a%20archivos%20y%20directorios/Resumen%20-%20Bases%20de%20Datos.ipynb#ch0000020?line=3'>4</a>\u001b[0m   host\u001b[39m=\u001b[39m\u001b[39m\"\u001b[39m\u001b[39mlocalhost\u001b[39m\u001b[39m\"\u001b[39m,\n\u001b[0;32m      <a href='vscode-notebook-cell:/c%3A/Users/admin/Documents/DIPLOMADO%20-%20Inteligencia%20Artificial/Acceso%20a%20archivos%20y%20directorios/Resumen%20-%20Bases%20de%20Datos.ipynb#ch0000020?line=4'>5</a>\u001b[0m   user\u001b[39m=\u001b[39m\u001b[39m\"\u001b[39m\u001b[39mroot\u001b[39m\u001b[39m\"\u001b[39m,\n\u001b[0;32m      <a href='vscode-notebook-cell:/c%3A/Users/admin/Documents/DIPLOMADO%20-%20Inteligencia%20Artificial/Acceso%20a%20archivos%20y%20directorios/Resumen%20-%20Bases%20de%20Datos.ipynb#ch0000020?line=5'>6</a>\u001b[0m   password\u001b[39m=\u001b[39m\u001b[39m'\u001b[39m\u001b[39m'\u001b[39m,\n\u001b[0;32m      <a href='vscode-notebook-cell:/c%3A/Users/admin/Documents/DIPLOMADO%20-%20Inteligencia%20Artificial/Acceso%20a%20archivos%20y%20directorios/Resumen%20-%20Bases%20de%20Datos.ipynb#ch0000020?line=6'>7</a>\u001b[0m   database\u001b[39m=\u001b[39m\u001b[39m\"\u001b[39m\u001b[39mtest\u001b[39m\u001b[39m\"\u001b[39m\n\u001b[0;32m      <a href='vscode-notebook-cell:/c%3A/Users/admin/Documents/DIPLOMADO%20-%20Inteligencia%20Artificial/Acceso%20a%20archivos%20y%20directorios/Resumen%20-%20Bases%20de%20Datos.ipynb#ch0000020?line=7'>8</a>\u001b[0m )\n\u001b[0;32m     <a href='vscode-notebook-cell:/c%3A/Users/admin/Documents/DIPLOMADO%20-%20Inteligencia%20Artificial/Acceso%20a%20archivos%20y%20directorios/Resumen%20-%20Bases%20de%20Datos.ipynb#ch0000020?line=9'>10</a>\u001b[0m mycursor \u001b[39m=\u001b[39m mydb\u001b[39m.\u001b[39mcursor()\n\u001b[0;32m     <a href='vscode-notebook-cell:/c%3A/Users/admin/Documents/DIPLOMADO%20-%20Inteligencia%20Artificial/Acceso%20a%20archivos%20y%20directorios/Resumen%20-%20Bases%20de%20Datos.ipynb#ch0000020?line=11'>12</a>\u001b[0m mycursor\u001b[39m.\u001b[39mexecute(sql)\n",
      "\u001b[1;31mNameError\u001b[0m: name 'mysql' is not defined"
     ]
    }
   ],
   "source": [
    "sql = \"ALTER TABLE `customers` ADD `Id` INT NOT NULL AUTO_INCREMENT FIRST, ADD PRIMARY KEY (`Id`);\"\n",
    "\n",
    "mydb = mysql.connector.connect(\n",
    "  host=\"localhost\",\n",
    "  user=\"root\",\n",
    "  password='',\n",
    "  database=\"test\"\n",
    ")\n",
    "\n",
    "mycursor = mydb.cursor()\n",
    "\n",
    "mycursor.execute(sql)"
   ]
  },
  {
   "cell_type": "markdown",
   "metadata": {},
   "source": [
    "Para añadirla despues de la columna `nombre`"
   ]
  },
  {
   "cell_type": "code",
   "execution_count": 24,
   "metadata": {},
   "outputs": [],
   "source": [
    "import mysql.connector\n",
    "\n",
    "mydb = mysql.connector.connect(\n",
    "  host=\"localhost\",\n",
    "  user=\"root\",\n",
    "  password='',\n",
    "  database=\"test\"\n",
    ")\n",
    "\n",
    "mycursor = mydb.cursor()\n",
    "\n",
    "mycursor.execute(\"ALTER TABLE `customers` ADD `Id` INT NOT NULL AUTO_INCREMENT AFTER `name`, ADD PRIMARY KEY (`Id`);\")"
   ]
  },
  {
   "cell_type": "markdown",
   "metadata": {},
   "source": [
    "Para alterar el nombre de una columna"
   ]
  },
  {
   "cell_type": "code",
   "execution_count": null,
   "metadata": {},
   "outputs": [],
   "source": [
    "import mysql.connector\n",
    "\n",
    "mydb = mysql.connector.connect(\n",
    "  host=\"localhost\",\n",
    "  user=\"root\",\n",
    "  password='',\n",
    "  database=\"VRSS_Operation_and_Managment_Subsystem\"\n",
    ")\n",
    "\n",
    "mycursor = mydb.cursor()\n",
    "\n",
    "mycursor.execute(\"ALTER TABLE `personal_activo` CHANGE `apellido` `apellidos` VARCHAR(255) CHARACTER SET utf8mb4 COLLATE utf8mb4_general_ci NOT NULL;\")"
   ]
  },
  {
   "cell_type": "code",
   "execution_count": 3,
   "metadata": {},
   "outputs": [
    {
     "ename": "ProgrammingError",
     "evalue": "1103 (42000): Incorrect table name 'test'",
     "output_type": "error",
     "traceback": [
      "\u001b[1;31m---------------------------------------------------------------------------\u001b[0m",
      "\u001b[1;31mMySQLInterfaceError\u001b[0m                       Traceback (most recent call last)",
      "File \u001b[1;32m~\\AppData\\Local\\Programs\\Python\\Python38\\lib\\site-packages\\mysql\\connector\\connection_cext.py:535\u001b[0m, in \u001b[0;36mCMySQLConnection.cmd_query\u001b[1;34m(self, query, raw, buffered, raw_as_string)\u001b[0m\n\u001b[0;32m    <a href='file:///c%3A/Users/admin/AppData/Local/Programs/Python/Python38/lib/site-packages/mysql/connector/connection_cext.py?line=533'>534</a>\u001b[0m         query \u001b[39m=\u001b[39m query\u001b[39m.\u001b[39mencode(\u001b[39m'\u001b[39m\u001b[39mutf-8\u001b[39m\u001b[39m'\u001b[39m)\n\u001b[1;32m--> <a href='file:///c%3A/Users/admin/AppData/Local/Programs/Python/Python38/lib/site-packages/mysql/connector/connection_cext.py?line=534'>535</a>\u001b[0m     \u001b[39mself\u001b[39;49m\u001b[39m.\u001b[39;49m_cmysql\u001b[39m.\u001b[39;49mquery(query,\n\u001b[0;32m    <a href='file:///c%3A/Users/admin/AppData/Local/Programs/Python/Python38/lib/site-packages/mysql/connector/connection_cext.py?line=535'>536</a>\u001b[0m                        raw\u001b[39m=\u001b[39;49mraw, buffered\u001b[39m=\u001b[39;49mbuffered,\n\u001b[0;32m    <a href='file:///c%3A/Users/admin/AppData/Local/Programs/Python/Python38/lib/site-packages/mysql/connector/connection_cext.py?line=536'>537</a>\u001b[0m                        raw_as_string\u001b[39m=\u001b[39;49mraw_as_string,\n\u001b[0;32m    <a href='file:///c%3A/Users/admin/AppData/Local/Programs/Python/Python38/lib/site-packages/mysql/connector/connection_cext.py?line=537'>538</a>\u001b[0m                        query_attrs\u001b[39m=\u001b[39;49m\u001b[39mself\u001b[39;49m\u001b[39m.\u001b[39;49m_query_attrs)\n\u001b[0;32m    <a href='file:///c%3A/Users/admin/AppData/Local/Programs/Python/Python38/lib/site-packages/mysql/connector/connection_cext.py?line=538'>539</a>\u001b[0m \u001b[39mexcept\u001b[39;00m MySQLInterfaceError \u001b[39mas\u001b[39;00m exc:\n",
      "\u001b[1;31mMySQLInterfaceError\u001b[0m: Incorrect table name 'test'",
      "\nDuring handling of the above exception, another exception occurred:\n",
      "\u001b[1;31mProgrammingError\u001b[0m                          Traceback (most recent call last)",
      "\u001b[1;32mc:\\Users\\admin\\Documents\\DIPLOMADO - Inteligencia Artificial\\Acceso a archivos y directorios\\Resumen - Bases de Datos.ipynb Cell 26'\u001b[0m in \u001b[0;36m<cell line: 12>\u001b[1;34m()\u001b[0m\n\u001b[0;32m      <a href='vscode-notebook-cell:/c%3A/Users/admin/Documents/DIPLOMADO%20-%20Inteligencia%20Artificial/Acceso%20a%20archivos%20y%20directorios/Resumen%20-%20Bases%20de%20Datos.ipynb#ch0000057?line=2'>3</a>\u001b[0m mydb \u001b[39m=\u001b[39m mysql\u001b[39m.\u001b[39mconnector\u001b[39m.\u001b[39mconnect(\n\u001b[0;32m      <a href='vscode-notebook-cell:/c%3A/Users/admin/Documents/DIPLOMADO%20-%20Inteligencia%20Artificial/Acceso%20a%20archivos%20y%20directorios/Resumen%20-%20Bases%20de%20Datos.ipynb#ch0000057?line=3'>4</a>\u001b[0m   host\u001b[39m=\u001b[39m\u001b[39m\"\u001b[39m\u001b[39mlocalhost\u001b[39m\u001b[39m\"\u001b[39m,\n\u001b[0;32m      <a href='vscode-notebook-cell:/c%3A/Users/admin/Documents/DIPLOMADO%20-%20Inteligencia%20Artificial/Acceso%20a%20archivos%20y%20directorios/Resumen%20-%20Bases%20de%20Datos.ipynb#ch0000057?line=4'>5</a>\u001b[0m   user\u001b[39m=\u001b[39m\u001b[39m\"\u001b[39m\u001b[39mroot\u001b[39m\u001b[39m\"\u001b[39m,\n\u001b[0;32m      <a href='vscode-notebook-cell:/c%3A/Users/admin/Documents/DIPLOMADO%20-%20Inteligencia%20Artificial/Acceso%20a%20archivos%20y%20directorios/Resumen%20-%20Bases%20de%20Datos.ipynb#ch0000057?line=5'>6</a>\u001b[0m   password\u001b[39m=\u001b[39m\u001b[39m'\u001b[39m\u001b[39m'\u001b[39m,\n\u001b[0;32m      <a href='vscode-notebook-cell:/c%3A/Users/admin/Documents/DIPLOMADO%20-%20Inteligencia%20Artificial/Acceso%20a%20archivos%20y%20directorios/Resumen%20-%20Bases%20de%20Datos.ipynb#ch0000057?line=6'>7</a>\u001b[0m   database\u001b[39m=\u001b[39m\u001b[39m\"\u001b[39m\u001b[39mtest\u001b[39m\u001b[39m\"\u001b[39m\n\u001b[0;32m      <a href='vscode-notebook-cell:/c%3A/Users/admin/Documents/DIPLOMADO%20-%20Inteligencia%20Artificial/Acceso%20a%20archivos%20y%20directorios/Resumen%20-%20Bases%20de%20Datos.ipynb#ch0000057?line=7'>8</a>\u001b[0m )\n\u001b[0;32m     <a href='vscode-notebook-cell:/c%3A/Users/admin/Documents/DIPLOMADO%20-%20Inteligencia%20Artificial/Acceso%20a%20archivos%20y%20directorios/Resumen%20-%20Bases%20de%20Datos.ipynb#ch0000057?line=9'>10</a>\u001b[0m mycursor \u001b[39m=\u001b[39m mydb\u001b[39m.\u001b[39mcursor()\n\u001b[1;32m---> <a href='vscode-notebook-cell:/c%3A/Users/admin/Documents/DIPLOMADO%20-%20Inteligencia%20Artificial/Acceso%20a%20archivos%20y%20directorios/Resumen%20-%20Bases%20de%20Datos.ipynb#ch0000057?line=11'>12</a>\u001b[0m mycursor\u001b[39m.\u001b[39;49mexecute(sql)\n",
      "File \u001b[1;32m~\\AppData\\Local\\Programs\\Python\\Python38\\lib\\site-packages\\mysql\\connector\\cursor_cext.py:269\u001b[0m, in \u001b[0;36mCMySQLCursor.execute\u001b[1;34m(self, operation, params, multi)\u001b[0m\n\u001b[0;32m    <a href='file:///c%3A/Users/admin/AppData/Local/Programs/Python/Python38/lib/site-packages/mysql/connector/cursor_cext.py?line=264'>265</a>\u001b[0m             \u001b[39mraise\u001b[39;00m errors\u001b[39m.\u001b[39mProgrammingError(\n\u001b[0;32m    <a href='file:///c%3A/Users/admin/AppData/Local/Programs/Python/Python38/lib/site-packages/mysql/connector/cursor_cext.py?line=265'>266</a>\u001b[0m                 \u001b[39m\"\u001b[39m\u001b[39mNot all parameters were used in the SQL statement\u001b[39m\u001b[39m\"\u001b[39m)\n\u001b[0;32m    <a href='file:///c%3A/Users/admin/AppData/Local/Programs/Python/Python38/lib/site-packages/mysql/connector/cursor_cext.py?line=267'>268</a>\u001b[0m \u001b[39mtry\u001b[39;00m:\n\u001b[1;32m--> <a href='file:///c%3A/Users/admin/AppData/Local/Programs/Python/Python38/lib/site-packages/mysql/connector/cursor_cext.py?line=268'>269</a>\u001b[0m     result \u001b[39m=\u001b[39m \u001b[39mself\u001b[39;49m\u001b[39m.\u001b[39;49m_cnx\u001b[39m.\u001b[39;49mcmd_query(stmt, raw\u001b[39m=\u001b[39;49m\u001b[39mself\u001b[39;49m\u001b[39m.\u001b[39;49m_raw,\n\u001b[0;32m    <a href='file:///c%3A/Users/admin/AppData/Local/Programs/Python/Python38/lib/site-packages/mysql/connector/cursor_cext.py?line=269'>270</a>\u001b[0m                                  buffered\u001b[39m=\u001b[39;49m\u001b[39mself\u001b[39;49m\u001b[39m.\u001b[39;49m_buffered,\n\u001b[0;32m    <a href='file:///c%3A/Users/admin/AppData/Local/Programs/Python/Python38/lib/site-packages/mysql/connector/cursor_cext.py?line=270'>271</a>\u001b[0m                                  raw_as_string\u001b[39m=\u001b[39;49m\u001b[39mself\u001b[39;49m\u001b[39m.\u001b[39;49m_raw_as_string)\n\u001b[0;32m    <a href='file:///c%3A/Users/admin/AppData/Local/Programs/Python/Python38/lib/site-packages/mysql/connector/cursor_cext.py?line=271'>272</a>\u001b[0m \u001b[39mexcept\u001b[39;00m MySQLInterfaceError \u001b[39mas\u001b[39;00m exc:\n\u001b[0;32m    <a href='file:///c%3A/Users/admin/AppData/Local/Programs/Python/Python38/lib/site-packages/mysql/connector/cursor_cext.py?line=272'>273</a>\u001b[0m     \u001b[39mraise\u001b[39;00m errors\u001b[39m.\u001b[39mget_mysql_exception(msg\u001b[39m=\u001b[39mexc\u001b[39m.\u001b[39mmsg, errno\u001b[39m=\u001b[39mexc\u001b[39m.\u001b[39merrno,\n\u001b[0;32m    <a href='file:///c%3A/Users/admin/AppData/Local/Programs/Python/Python38/lib/site-packages/mysql/connector/cursor_cext.py?line=273'>274</a>\u001b[0m                                      sqlstate\u001b[39m=\u001b[39mexc\u001b[39m.\u001b[39msqlstate)\n",
      "File \u001b[1;32m~\\AppData\\Local\\Programs\\Python\\Python38\\lib\\site-packages\\mysql\\connector\\connection_cext.py:540\u001b[0m, in \u001b[0;36mCMySQLConnection.cmd_query\u001b[1;34m(self, query, raw, buffered, raw_as_string)\u001b[0m\n\u001b[0;32m    <a href='file:///c%3A/Users/admin/AppData/Local/Programs/Python/Python38/lib/site-packages/mysql/connector/connection_cext.py?line=534'>535</a>\u001b[0m     \u001b[39mself\u001b[39m\u001b[39m.\u001b[39m_cmysql\u001b[39m.\u001b[39mquery(query,\n\u001b[0;32m    <a href='file:///c%3A/Users/admin/AppData/Local/Programs/Python/Python38/lib/site-packages/mysql/connector/connection_cext.py?line=535'>536</a>\u001b[0m                        raw\u001b[39m=\u001b[39mraw, buffered\u001b[39m=\u001b[39mbuffered,\n\u001b[0;32m    <a href='file:///c%3A/Users/admin/AppData/Local/Programs/Python/Python38/lib/site-packages/mysql/connector/connection_cext.py?line=536'>537</a>\u001b[0m                        raw_as_string\u001b[39m=\u001b[39mraw_as_string,\n\u001b[0;32m    <a href='file:///c%3A/Users/admin/AppData/Local/Programs/Python/Python38/lib/site-packages/mysql/connector/connection_cext.py?line=537'>538</a>\u001b[0m                        query_attrs\u001b[39m=\u001b[39m\u001b[39mself\u001b[39m\u001b[39m.\u001b[39m_query_attrs)\n\u001b[0;32m    <a href='file:///c%3A/Users/admin/AppData/Local/Programs/Python/Python38/lib/site-packages/mysql/connector/connection_cext.py?line=538'>539</a>\u001b[0m \u001b[39mexcept\u001b[39;00m MySQLInterfaceError \u001b[39mas\u001b[39;00m exc:\n\u001b[1;32m--> <a href='file:///c%3A/Users/admin/AppData/Local/Programs/Python/Python38/lib/site-packages/mysql/connector/connection_cext.py?line=539'>540</a>\u001b[0m     \u001b[39mraise\u001b[39;00m errors\u001b[39m.\u001b[39mget_mysql_exception(exc\u001b[39m.\u001b[39merrno, msg\u001b[39m=\u001b[39mexc\u001b[39m.\u001b[39mmsg,\n\u001b[0;32m    <a href='file:///c%3A/Users/admin/AppData/Local/Programs/Python/Python38/lib/site-packages/mysql/connector/connection_cext.py?line=540'>541</a>\u001b[0m                                      sqlstate\u001b[39m=\u001b[39mexc\u001b[39m.\u001b[39msqlstate)\n\u001b[0;32m    <a href='file:///c%3A/Users/admin/AppData/Local/Programs/Python/Python38/lib/site-packages/mysql/connector/connection_cext.py?line=541'>542</a>\u001b[0m \u001b[39mexcept\u001b[39;00m \u001b[39mAttributeError\u001b[39;00m:\n\u001b[0;32m    <a href='file:///c%3A/Users/admin/AppData/Local/Programs/Python/Python38/lib/site-packages/mysql/connector/connection_cext.py?line=542'>543</a>\u001b[0m     \u001b[39mif\u001b[39;00m \u001b[39mself\u001b[39m\u001b[39m.\u001b[39m_unix_socket:\n",
      "\u001b[1;31mProgrammingError\u001b[0m: 1103 (42000): Incorrect table name 'test'"
     ]
    }
   ],
   "source": [
    "sql = \"ALTER TABLE `test`.`customers` CHANGE `test`.`adress` `test`.`address` VARCHAR(255) CHARACTER SET utf8mb4 COLLATE utf8mb4_general_ci NOT NULL;\"\n",
    "\n",
    "mydb = mysql.connector.connect(\n",
    "  host=\"localhost\",\n",
    "  user=\"root\",\n",
    "  password='',\n",
    "  database=\"test\"\n",
    ")\n",
    "\n",
    "mycursor = mydb.cursor()\n",
    "\n",
    "mycursor.execute(sql)"
   ]
  },
  {
   "cell_type": "markdown",
   "metadata": {},
   "source": [
    "## 3.2 Comprobar si existe la tabla <a id='3.2'></a>\n",
    "\n",
    "Puede verificar si existe una tabla enumerando todas las tablas en su base de datos con la declaración \"SHOW TABLES\" (ver [Sección 2.2](#2.2))."
   ]
  },
  {
   "cell_type": "code",
   "execution_count": 4,
   "metadata": {},
   "outputs": [
    {
     "name": "stdout",
     "output_type": "stream",
     "text": [
      "('customers',)\n",
      "('tabla1',)\n",
      "('tabla2',)\n"
     ]
    }
   ],
   "source": [
    "import mysql.connector\n",
    "\n",
    "mydb = mysql.connector.connect(\n",
    "  host='localhost',\n",
    "  user='root',\n",
    "  password='',\n",
    "  database='Test'\n",
    ")\n",
    "\n",
    "mycursor = mydb.cursor()\n",
    "\n",
    "mycursor.execute(\"SHOW TABLES\")\n",
    "\n",
    "for x in mycursor:\n",
    "  print(x)"
   ]
  },
  {
   "cell_type": "markdown",
   "metadata": {},
   "source": [
    "## 3.3 Clave primaria <a id='3.3'></a>\n",
    "\n",
    "Al crear una tabla, también debe crear una columna con una clave única para cada registro.\n",
    "\n",
    "Esto se puede hacer definiendo una CLAVE PRINCIPAL.\n",
    "\n",
    "Usamos la declaración \"INT AUTO_INCREMENT PRIMARY KEY\" que insertará un número único para cada registro. Comenzando en 1, y aumentando en uno para cada registro."
   ]
  },
  {
   "cell_type": "code",
   "execution_count": 27,
   "metadata": {},
   "outputs": [],
   "source": [
    "mydb = mysql.connector.connect(\n",
    "  host='localhost',\n",
    "  user='root',\n",
    "  password='',\n",
    "  database='VRSS_Operation_and_Managment_Subsystem'\n",
    ")\n",
    "\n",
    "mycursor = mydb.cursor()\n",
    "\n",
    "mycursor.execute('''CREATE TABLE `vrss_operation_and_managment_subsystem`.`personal_activo` (\n",
    "   `Id` INT(10) NOT NULL AUTO_INCREMENT , \n",
    "   `nombre` VARCHAR(255) NOT NULL , \n",
    "   `apellido` VARCHAR(255) NOT NULL , \n",
    "   `cedula` INT(8) NOT NULL , \n",
    "   `correo` VARCHAR(255) NOT NULL , \n",
    "   `Fecha de Ingreso` DATE NOT NULL , \n",
    "   PRIMARY KEY (`Id`)) ENGINE = InnoDB;\n",
    "  )''')"
   ]
  },
  {
   "cell_type": "code",
   "execution_count": 4,
   "metadata": {},
   "outputs": [],
   "source": [
    "sql = '''CREATE TABLE `test`.`customers` (\n",
    "   `Id` INT(10) NOT NULL AUTO_INCREMENT , \n",
    "   `name` VARCHAR(255) NOT NULL , \n",
    "   `adress` VARCHAR(255) NOT NULL , \n",
    "   PRIMARY KEY (`Id`)) ENGINE = InnoDB;\n",
    "  )'''\n",
    "\n",
    "mydb = mysql.connector.connect(\n",
    "  host='localhost',\n",
    "  user='root',\n",
    "  password='',\n",
    "  database='test'\n",
    ")\n",
    "\n",
    "mycursor = mydb.cursor()\n",
    "\n",
    "mycursor.execute(sql)"
   ]
  },
  {
   "cell_type": "markdown",
   "metadata": {},
   "source": [
    "# 4.- Insertar en la tabla <a id='4.-'></a>\n",
    "\n",
    "## 4.1 Insertar/Borrar registros en la tabla <a id='4.1'></a>\n",
    "\n",
    "Para llenar o borrar de una tabla en MySQL, use las instrucciones \"INSERT INTO\" o \"DELETE FROM\"."
   ]
  },
  {
   "cell_type": "code",
   "execution_count": 37,
   "metadata": {},
   "outputs": [],
   "source": [
    "mydb = mysql.connector.connect(\n",
    "  host='localhost',\n",
    "  user='root',\n",
    "  password='',\n",
    "  database='VRSS_Operation_and_Managment_Subsystem'\n",
    ")\n",
    "\n",
    "mycursor = mydb.cursor()\n",
    "\n",
    "sql = '''INSERT INTO `personal_activo` (`Id`, `apellidos`, `nombre`, `cedula`, `telefono`, `correo`, `Fecha de Ingreso`) VALUES \n",
    "(NULL, 'Martinez Gonzalez', 'Hector Alonzo', '19008825', '+58 416 6273459', 'hmartinez@abae.gob.ve', '2019-09-02'), \n",
    "(NULL, 'Martinez Gonzalez', 'Hector Alonzo', '19008825', '+58 416 6273459', 'hmartinez@abae.gob.ve', '2019-09-02');\n",
    "'''\n",
    "\n",
    "mycursor.execute(sql)\n",
    "\n",
    "mydb.commit()\n"
   ]
  },
  {
   "cell_type": "code",
   "execution_count": 4,
   "metadata": {},
   "outputs": [],
   "source": [
    "sql = '''INSERT INTO test.customers (`Id`, `name`, `address`) VALUES \n",
    "(NULL, 'nombre1', 'direccion1'), \n",
    "(NULL, 'nombre2', 'direccion2');\n",
    "'''\n",
    "\n",
    "mydb = mysql.connector.connect(\n",
    "  host='localhost',\n",
    "  user='root',\n",
    "  password='',\n",
    "  database='test'\n",
    ")\n",
    "\n",
    "mycursor = mydb.cursor()\n",
    "mycursor.execute(sql)\n",
    "mydb.commit()"
   ]
  },
  {
   "cell_type": "markdown",
   "metadata": {},
   "source": [
    "Para borrar un registro (ver [Sección 8](#8.-))."
   ]
  },
  {
   "cell_type": "code",
   "execution_count": 33,
   "metadata": {},
   "outputs": [],
   "source": [
    "mydb = mysql.connector.connect(\n",
    "  host='localhost',\n",
    "  user='root',\n",
    "  password='',\n",
    "  database='VRSS_Operation_and_Managment_Subsystem'\n",
    ")\n",
    "\n",
    "mycursor = mydb.cursor()\n",
    "\n",
    "sql1 = \"DELETE FROM `personal_activo` WHERE `personal_activo`.`Id` = 28;\"\n",
    "sql2 = \"DELETE FROM `personal_activo` WHERE `personal_activo`.`Id` = 29;\"\n",
    "\n",
    "mycursor.execute(sql1)\n",
    "mycursor.execute(sql2)\n",
    "\n",
    "mydb.commit()"
   ]
  },
  {
   "cell_type": "markdown",
   "metadata": {},
   "source": [
    "### 4.1.1 Prevenir la inyección de SQL <a id='4.1.1'></a>\n",
    "\n",
    "Se considera una buena práctica escapar los valores de cualquier consulta, también en declaraciones de eliminación [Sección 4.1](#4.-).\n",
    "\n",
    "Esto es para evitar inyecciones de SQL, que es una técnica común de piratería web para destruir o hacer un mal uso de su base de datos.\n",
    "\n",
    "El módulo mysql.connector usa el marcador de posición `%s` para escapar valores en la declaración de eliminación:"
   ]
  },
  {
   "cell_type": "code",
   "execution_count": null,
   "metadata": {},
   "outputs": [],
   "source": [
    "sql = \"DELETE FROM `personal_activo` WHERE Id = %s\"\n",
    "adr = (\"31\", )\n",
    "\n",
    "mydb = mysql.connector.connect(\n",
    "  host='localhost',\n",
    "  user='root',\n",
    "  password='',\n",
    "  database='VRSS_Operation_and_Managment_Subsystem'\n",
    ")\n",
    "\n",
    "mycursor = mydb.cursor()\n",
    "mycursor.execute(sql, adr)\n",
    "\n",
    "mydb.commit()\n",
    "\n",
    "print(mycursor.rowcount, \"record(s) deleted!\")"
   ]
  },
  {
   "cell_type": "markdown",
   "metadata": {},
   "source": [
    "# 5.- Seleccionar de una Tabla <a id='5.-'></a>\n",
    "\n",
    "## 5.1 Seleccionar de una tabla <a id='5.1'></a>\n",
    "\n",
    "Para seleccionar de una tabla en MySQL, use la instrucción \"SELECT\":"
   ]
  },
  {
   "cell_type": "code",
   "execution_count": 29,
   "metadata": {},
   "outputs": [
    {
     "name": "stdout",
     "output_type": "stream",
     "text": [
      "[(1, 'Betancourt Gomez', 'Jorge Luis', 20051859, '+58 414 131 2718', 'jbetancour@abae.gob.ve', datetime.date(2018, 3, 1)), (2, 'Rojas Albarran', 'Rosaura Elena', 20096998, '+58 426 318 3301', 'rrojas@abae.gob.ve', datetime.date(2019, 10, 1)), (3, 'Herrera', 'Giovanni', 24216267, '+58 424 255 6028', 'gherrera@abae.gob.ve', datetime.date(2019, 10, 16)), (4, 'Rivas', 'Jesús Manuel', 19368119, '+58 416 703 4572', 'jmrivas@abae.gob.ve', datetime.date(2019, 10, 16)), (5, 'Duque', 'Emmanuel', 18742620, '+58 414 680 7795', 'eduque@abae.gob.ve', datetime.date(2020, 8, 17)), (6, 'Martinez Gonzalez', 'Hector Alonzo', 19008825, '+58 416 6273459', 'hmartinez@abae.gob.ve', datetime.date(2017, 4, 3))]\n"
     ]
    }
   ],
   "source": [
    "mydb = mysql.connector.connect(\n",
    "  host='localhost',\n",
    "  user='root',\n",
    "  password='',\n",
    "  database='VRSS_Operation_and_Managment_Subsystem'\n",
    ")\n",
    "\n",
    "mycursor = mydb.cursor()\n",
    "\n",
    "sql = \"SELECT * FROM `personal_activo`\"\n",
    "\n",
    "mycursor.execute(sql)\n",
    "\n",
    "myresult = mycursor.fetchall()\n",
    "\n",
    "print(myresult)\n",
    "# for x in myresult:\n",
    "#   print(x)"
   ]
  },
  {
   "cell_type": "markdown",
   "metadata": {},
   "source": [
    "## 5.2 Selección de columnas\n",
    "\n",
    "Para seleccionar solo algunas de las columnas de una tabla, utilice la instrucción \"SELECCIONAR\" seguida del nombre de la columna:"
   ]
  },
  {
   "cell_type": "code",
   "execution_count": 27,
   "metadata": {},
   "outputs": [
    {
     "name": "stdout",
     "output_type": "stream",
     "text": [
      "('Betancourt Gomez', 20051859)\n",
      "('Rojas Albarran', 20096998)\n",
      "('Herrera', 24216267)\n",
      "('Rivas', 19368119)\n",
      "('Duque', 18742620)\n",
      "('Martinez Gonzalez', 19008825)\n"
     ]
    }
   ],
   "source": [
    "mydb = mysql.connector.connect(\n",
    "  host='localhost',\n",
    "  user='root',\n",
    "  password='',\n",
    "  database='VRSS_Operation_and_Managment_Subsystem'\n",
    ")\n",
    "\n",
    "mycursor = mydb.cursor()\n",
    "\n",
    "sql = \"SELECT apellidos, cedula FROM `personal_activo`\"\n",
    "\n",
    "mycursor.execute(sql)\n",
    "\n",
    "myresult = mycursor.fetchall()\n",
    "\n",
    "#print(myresult)\n",
    "for x in myresult:\n",
    "  print(x)"
   ]
  },
  {
   "cell_type": "markdown",
   "metadata": {},
   "source": [
    "## 5.3 Usando el método fetchone()\n",
    "\n",
    "Si solo está interesado en una fila, puede usar el `fetchone()`método.\n",
    "\n",
    "El método `fetchone()` devolverá la primera fila del resultado:"
   ]
  },
  {
   "cell_type": "code",
   "execution_count": 26,
   "metadata": {},
   "outputs": [
    {
     "name": "stdout",
     "output_type": "stream",
     "text": [
      "(1, 'Betancourt Gomez', 'Jorge Luis', 20051859, '+58 414 131 2718', 'jbetancour@abae.gob.ve', datetime.date(2018, 3, 1))\n"
     ]
    }
   ],
   "source": [
    "mydb = mysql.connector.connect(\n",
    "  host='localhost',\n",
    "  user='root',\n",
    "  password='',\n",
    "  database='VRSS_Operation_and_Managment_Subsystem'\n",
    ")\n",
    "\n",
    "mycursor = mydb.cursor()\n",
    "\n",
    "sql = \"SELECT * FROM `personal_activo`\"\n",
    "\n",
    "mycursor.execute(sql)\n",
    "\n",
    "myresult = mycursor.fetchone()\n",
    "\n",
    "print(myresult)"
   ]
  },
  {
   "cell_type": "markdown",
   "metadata": {},
   "source": [
    "# 6.- Dónde <a id='6.-'></a>\n",
    "\n",
    "## 6.1 Seleccionar con un filtro <a id='6.1'></a>\n",
    "\n",
    "Al seleccionar registros de una tabla, puede filtrar la selección utilizando la instrucción \"WHERE\":"
   ]
  },
  {
   "cell_type": "code",
   "execution_count": 19,
   "metadata": {},
   "outputs": [
    {
     "name": "stdout",
     "output_type": "stream",
     "text": [
      "[(2, 'Rojas Albarran', 'Rosaura Elena', 20096998, '+58 426 318 3301', 'rrojas@abae.gob.ve', datetime.date(2019, 10, 1))]\n"
     ]
    }
   ],
   "source": [
    "mydb = mysql.connector.connect(\n",
    "  host='localhost',\n",
    "  user='root',\n",
    "  password='',\n",
    "  database='VRSS_Operation_and_Managment_Subsystem'\n",
    ")\n",
    "\n",
    "mycursor = mydb.cursor()\n",
    "\n",
    "sql = \"SELECT * FROM `personal_activo` where Id = 2\"\n",
    "\n",
    "mycursor.execute(sql)\n",
    "\n",
    "myresult = mycursor.fetchall()\n",
    "\n",
    "print(myresult)"
   ]
  },
  {
   "cell_type": "markdown",
   "metadata": {},
   "source": [
    "## 6.2 Caracteres comodín <a id='6.2'></a>\n",
    "\n",
    "También puede seleccionar los registros que comienzan, incluyen o terminan con una letra o frase determinada.\n",
    "\n",
    "Use el `%`  para representar caracteres comodín:"
   ]
  },
  {
   "cell_type": "code",
   "execution_count": 34,
   "metadata": {},
   "outputs": [
    {
     "name": "stdout",
     "output_type": "stream",
     "text": [
      "('Jorge Luis', '+58 414 131 2718')\n",
      "('Emmanuel', '+58 414 680 7795')\n"
     ]
    }
   ],
   "source": [
    "mydb = mysql.connector.connect(\n",
    "  host='localhost',\n",
    "  user='root',\n",
    "  password='',\n",
    "  database='VRSS_Operation_and_Managment_Subsystem'\n",
    ")\n",
    "\n",
    "mycursor = mydb.cursor()\n",
    "\n",
    "sql = \"SELECT nombre, telefono FROM `personal_activo` WHERE telefono LIKE '%414%'\"\n",
    "\n",
    "mycursor.execute(sql)\n",
    "\n",
    "myresult = mycursor.fetchall()\n",
    "\n",
    "for x in myresult:\n",
    "  print(x)"
   ]
  },
  {
   "cell_type": "markdown",
   "metadata": {},
   "source": [
    "# 7.- Ordenar por <a id='7.-'></a>\n",
    "\n",
    "## 7.1 ordenar el resultado <a id='7.1'></a>\n",
    "\n",
    "Utilice la instrucción ORDER BY para clasificar el resultado en orden ascendente o descendente.\n",
    "\n",
    "La palabra clave ORDER BY ordena el resultado de forma ascendente de forma predeterminada. Para ordenar el resultado en orden descendente, use la palabra clave DESC."
   ]
  },
  {
   "cell_type": "code",
   "execution_count": 35,
   "metadata": {},
   "outputs": [
    {
     "name": "stdout",
     "output_type": "stream",
     "text": [
      "(5, 'Duque', 'Emmanuel', 18742620, '+58 414 680 7795', 'eduque@abae.gob.ve', datetime.date(2020, 8, 17))\n",
      "(3, 'Herrera', 'Giovanni', 24216267, '+58 424 255 6028', 'gherrera@abae.gob.ve', datetime.date(2019, 10, 16))\n",
      "(6, 'Martinez Gonzalez', 'Hector Alonzo', 19008825, '+58 416 6273459', 'hmartinez@abae.gob.ve', datetime.date(2017, 4, 3))\n",
      "(4, 'Rivas', 'Jesús Manuel', 19368119, '+58 416 703 4572', 'jmrivas@abae.gob.ve', datetime.date(2019, 10, 16))\n",
      "(1, 'Betancourt Gomez', 'Jorge Luis', 20051859, '+58 414 131 2718', 'jbetancour@abae.gob.ve', datetime.date(2018, 3, 1))\n",
      "(2, 'Rojas Albarran', 'Rosaura Elena', 20096998, '+58 426 318 3301', 'rrojas@abae.gob.ve', datetime.date(2019, 10, 1))\n"
     ]
    }
   ],
   "source": [
    "sql = \"SELECT * FROM `personal_activo` ORDER BY nombre\"\n",
    "\n",
    "\n",
    "mydb = mysql.connector.connect(\n",
    "  host='localhost',\n",
    "  user='root',\n",
    "  password='',\n",
    "  database='VRSS_Operation_and_Managment_Subsystem'\n",
    ")\n",
    "\n",
    "mycursor = mydb.cursor()\n",
    "mycursor.execute(sql)\n",
    "myresult = mycursor.fetchall()\n",
    "\n",
    "for x in myresult:\n",
    "  print(x)"
   ]
  },
  {
   "cell_type": "markdown",
   "metadata": {},
   "source": [
    "## 7.2 Orden descendente <a id='7.2'></a>\n",
    "\n",
    "Utilice la palabra clave DESC para ordenar el resultado en orden descendente."
   ]
  },
  {
   "cell_type": "code",
   "execution_count": 36,
   "metadata": {},
   "outputs": [
    {
     "name": "stdout",
     "output_type": "stream",
     "text": [
      "(2, 'Rojas Albarran', 'Rosaura Elena', 20096998, '+58 426 318 3301', 'rrojas@abae.gob.ve', datetime.date(2019, 10, 1))\n",
      "(1, 'Betancourt Gomez', 'Jorge Luis', 20051859, '+58 414 131 2718', 'jbetancour@abae.gob.ve', datetime.date(2018, 3, 1))\n",
      "(4, 'Rivas', 'Jesús Manuel', 19368119, '+58 416 703 4572', 'jmrivas@abae.gob.ve', datetime.date(2019, 10, 16))\n",
      "(6, 'Martinez Gonzalez', 'Hector Alonzo', 19008825, '+58 416 6273459', 'hmartinez@abae.gob.ve', datetime.date(2017, 4, 3))\n",
      "(3, 'Herrera', 'Giovanni', 24216267, '+58 424 255 6028', 'gherrera@abae.gob.ve', datetime.date(2019, 10, 16))\n",
      "(5, 'Duque', 'Emmanuel', 18742620, '+58 414 680 7795', 'eduque@abae.gob.ve', datetime.date(2020, 8, 17))\n"
     ]
    }
   ],
   "source": [
    "sql = \"SELECT * FROM `personal_activo` ORDER BY nombre DESC\"\n",
    "\n",
    "\n",
    "mydb = mysql.connector.connect(\n",
    "  host='localhost',\n",
    "  user='root',\n",
    "  password='',\n",
    "  database='VRSS_Operation_and_Managment_Subsystem'\n",
    ")\n",
    "\n",
    "mycursor = mydb.cursor()\n",
    "mycursor.execute(sql)\n",
    "myresult = mycursor.fetchall()\n",
    "\n",
    "for x in myresult:\n",
    "  print(x)"
   ]
  },
  {
   "cell_type": "markdown",
   "metadata": {},
   "source": [
    "# 8.- Eliminación de tablas\n",
    "\n",
    "## 8.1 Eliminar una tabla\n",
    "\n",
    "Puede eliminar una tabla existente utilizando la instrucción \"DROP TABLE\":"
   ]
  },
  {
   "cell_type": "code",
   "execution_count": 41,
   "metadata": {},
   "outputs": [],
   "source": [
    "sql = \"DROP TABLE `test`.`customers`\"\n",
    "\n",
    "mydb = mysql.connector.connect(\n",
    "  host='localhost',\n",
    "  user='root',\n",
    "  password='',\n",
    "  database='test'\n",
    ")\n",
    "\n",
    "mycursor = mydb.cursor()\n",
    "mycursor.execute(sql)"
   ]
  },
  {
   "cell_type": "markdown",
   "metadata": {},
   "source": [
    "## 8.2 Borrar tabla solo si existe\n",
    "\n",
    "Si la tabla que desea eliminar ya se eliminó, o por cualquier otra razón no existe, puede usar la palabra clave IF EXISTS para evitar recibir un error."
   ]
  },
  {
   "cell_type": "code",
   "execution_count": 42,
   "metadata": {},
   "outputs": [],
   "source": [
    "sql = \"DROP TABLE IF EXISTS `test`.`customers`\"\n",
    "\n",
    "mydb = mysql.connector.connect(\n",
    "  host='localhost',\n",
    "  user='root',\n",
    "  password='',\n",
    "  database='test'\n",
    ")\n",
    "\n",
    "mycursor = mydb.cursor()\n",
    "mycursor.execute(sql)"
   ]
  },
  {
   "cell_type": "markdown",
   "metadata": {},
   "source": [
    "# 9.- Actualización de Tablas\n",
    "\n",
    "## 9.1 Actualizar tabla\n",
    "\n",
    "Puede actualizar los registros existentes en una tabla utilizando la instrucción \"UPDATE\":"
   ]
  },
  {
   "cell_type": "code",
   "execution_count": 9,
   "metadata": {},
   "outputs": [
    {
     "name": "stdout",
     "output_type": "stream",
     "text": [
      "1 record(s) affected\n"
     ]
    }
   ],
   "source": [
    "sql = \"UPDATE `customers` SET `address` = 'direccion-1' WHERE `customers`.`Id` = 1; \"\n",
    "\n",
    "mydb = mysql.connector.connect(\n",
    "  host='localhost',\n",
    "  user='root',\n",
    "  password='',\n",
    "  database='test'\n",
    ")\n",
    "\n",
    "mycursor = mydb.cursor()\n",
    "mycursor.execute(sql)\n",
    "mydb.commit()\n",
    "\n",
    "print(mycursor.rowcount, \"record(s) affected\")"
   ]
  },
  {
   "cell_type": "markdown",
   "metadata": {},
   "source": [
    "### 9.1.1 Prevenir la inyección de SQL\n",
    "\n",
    "Se considera una buena práctica escapar los valores de cualquier consulta, también en declaraciones de actualización.\n",
    "\n",
    "Esto es para evitar inyecciones de SQL, que es una técnica común de piratería web para destruir o hacer un mal uso de su base de datos.\n",
    "\n",
    "El módulo mysql.connector usa el marcador de posición %spara escapar valores en la declaración de eliminación:"
   ]
  },
  {
   "cell_type": "code",
   "execution_count": 15,
   "metadata": {},
   "outputs": [
    {
     "name": "stdout",
     "output_type": "stream",
     "text": [
      "1 record(s) deleted!\n"
     ]
    }
   ],
   "source": [
    "sql = \"UPDATE `customers` SET `address` = %s WHERE `customers`.`Id` = %s;\"\n",
    "val = ('direccion1', 1) \n",
    "\n",
    "mydb = mysql.connector.connect(\n",
    "  host='localhost',\n",
    "  user='root',\n",
    "  password='',\n",
    "  database='test'\n",
    ")\n",
    "\n",
    "mycursor = mydb.cursor()\n",
    "mycursor.execute(sql, val)\n",
    "\n",
    "mydb.commit()\n",
    "\n",
    "print(mycursor.rowcount, \"record(s) deleted!\")"
   ]
  },
  {
   "cell_type": "markdown",
   "metadata": {},
   "source": [
    "# 10.- Join\n",
    "\n",
    "## 10.1 Unir dos o mas tablas"
   ]
  },
  {
   "cell_type": "code",
   "execution_count": 5,
   "metadata": {},
   "outputs": [],
   "source": [
    "create_table = '''CREATE TABLE `test`.`usuarios` (\n",
    "   `Id` INT(10) NOT NULL AUTO_INCREMENT , \n",
    "   `name` VARCHAR(255) NOT NULL , \n",
    "   `fav` VARCHAR(255) NULL , \n",
    "   PRIMARY KEY (`Id`)) ENGINE = InnoDB;\n",
    "  )'''\n",
    "\n",
    "insert_table = '''INSERT INTO `test`.`usuarios` (`Id`, `name`, `fav`) VALUES \n",
    "(NULL, 'John', 154), \n",
    "(NULL, 'Peter', 154),\n",
    "(NULL, 'Amy', 155),\n",
    "(NULL, 'Hannah', ''),\n",
    "(NULL, 'Michael', '');\n",
    "'''\n",
    "\n",
    "mydb = mysql.connector.connect(\n",
    "  host='localhost',\n",
    "  user='root',\n",
    "  password='',\n",
    "  database='test'\n",
    ")\n",
    "\n",
    "mycursor = mydb.cursor()\n",
    "mycursor.execute(create_table)\n",
    "\n",
    "mydb = mysql.connector.connect(\n",
    "  host='localhost',\n",
    "  user='root',\n",
    "  password='',\n",
    "  database='test'\n",
    ")\n",
    "\n",
    "mycursor = mydb.cursor()\n",
    "mycursor.execute(insert_table)\n",
    "mydb.commit()"
   ]
  },
  {
   "cell_type": "code",
   "execution_count": 6,
   "metadata": {},
   "outputs": [],
   "source": [
    "create_table = '''CREATE TABLE `test`.`productos` (\n",
    "   `Id` INT(10) NOT NULL , \n",
    "   `name` VARCHAR(255) NOT NULL , \n",
    "   PRIMARY KEY (`Id`)) ENGINE = InnoDB;\n",
    "  )'''\n",
    "\n",
    "insert_table = '''INSERT INTO `test`.`productos` (`Id`, `name`) VALUES \n",
    "(154, 'Chocolate Heaven'), \n",
    "(155, 'Tasty Lemons'),\n",
    "(156, 'Vanilla Dreams');\n",
    "'''\n",
    "\n",
    "mydb = mysql.connector.connect(\n",
    "  host='localhost',\n",
    "  user='root',\n",
    "  password='',\n",
    "  database='test'\n",
    ")\n",
    "\n",
    "mycursor = mydb.cursor()\n",
    "mycursor.execute(create_table)\n",
    "\n",
    "mydb = mysql.connector.connect(\n",
    "  host='localhost',\n",
    "  user='root',\n",
    "  password='',\n",
    "  database='test'\n",
    ")\n",
    "\n",
    "mycursor = mydb.cursor()\n",
    "mycursor.execute(insert_table)\n",
    "mydb.commit()"
   ]
  },
  {
   "cell_type": "markdown",
   "metadata": {},
   "source": [
    "Estas dos tablas se pueden combinar utilizando el campo fav de usuarios y el campo Id de productos."
   ]
  },
  {
   "cell_type": "code",
   "execution_count": 7,
   "metadata": {},
   "outputs": [
    {
     "name": "stdout",
     "output_type": "stream",
     "text": [
      "('John', 'Chocolate Heaven')\n",
      "('Peter', 'Chocolate Heaven')\n",
      "('Amy', 'Tasty Lemons')\n"
     ]
    }
   ],
   "source": [
    "sql = \"SELECT \\\n",
    " usuarios.name AS usuarios, \\\n",
    " productos.name AS favorito \\\n",
    " FROM usuarios \\\n",
    " INNER JOIN productos ON usuarios.fav = productos.Id\" \n",
    "\n",
    "mydb = mysql.connector.connect(\n",
    "  host='localhost',\n",
    "  user='root',\n",
    "  password='',\n",
    "  database='test'\n",
    ")\n",
    "\n",
    "mycursor = mydb.cursor()\n",
    "mycursor.execute(sql)\n",
    "\n",
    "myresult = mycursor.fetchall() \n",
    "for x in myresult:\n",
    "  print(x)"
   ]
  }
 ],
 "metadata": {
  "interpreter": {
   "hash": "f899019e40078bba6a192d1b33425237bbe8b1e870f3f4f931213adcabf069ec"
  },
  "kernelspec": {
   "display_name": "Python 3.8.10 64-bit",
   "language": "python",
   "name": "python3"
  },
  "language_info": {
   "codemirror_mode": {
    "name": "ipython",
    "version": 3
   },
   "file_extension": ".py",
   "mimetype": "text/x-python",
   "name": "python",
   "nbconvert_exporter": "python",
   "pygments_lexer": "ipython3",
   "version": "3.8.10"
  },
  "orig_nbformat": 4
 },
 "nbformat": 4,
 "nbformat_minor": 2
}
