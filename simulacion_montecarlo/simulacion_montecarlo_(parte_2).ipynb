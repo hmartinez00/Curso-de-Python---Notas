{
 "cells": [
  {
   "attachments": {},
   "cell_type": "markdown",
   "metadata": {},
   "source": [
    "# Método Monte Carlo (Parte II)"
   ]
  },
  {
   "cell_type": "code",
   "execution_count": 1,
   "metadata": {},
   "outputs": [],
   "source": [
    "import pandas as pd\n",
    "import numpy as np\n",
    "import matplotlib as mpl\n",
    "import math\n",
    "import scipy.stats as stats\n",
    "import random"
   ]
  },
  {
   "attachments": {},
   "cell_type": "markdown",
   "metadata": {},
   "source": [
    "## Generamos el Dataframe de Entradas"
   ]
  },
  {
   "cell_type": "code",
   "execution_count": 2,
   "metadata": {},
   "outputs": [
    {
     "name": "stdout",
     "output_type": "stream",
     "text": [
      "   N  Actividades  Min  +Probable    Max  Ruta_Critica\n",
      "0  1  Actividad 1   36         40   50.0             1\n",
      "1  2  Actividad 2   27         30   37.5             0\n",
      "2  3  Actividad 3   72         80  100.0             1\n",
      "3  4  Actividad 4   45         50   62.5             0\n",
      "4  5  Actividad 5   90        100  125.0             1\n",
      "5  6  Actividad 6   63         70   87.5             0\n",
      "6  7  Actividad 7   54         60   75.0             0\n",
      "7  8  Actividad n   18         20   25.0             1\n"
     ]
    }
   ],
   "source": [
    "activities = {\n",
    "    \"N\": [1, 2, 3, 4, 5, 6, 7, 8],\n",
    "    \"Actividades\": [\"Actividad 1\", \"Actividad 2\", \"Actividad 3\", \"Actividad 4\", \"Actividad 5\", \"Actividad 6\", \"Actividad 7\", \"Actividad n\"],\n",
    "    \"Min\": [36, 27, 72, 45, 90, 63, 54, 18],\n",
    "    \"+Probable\": [40, 30, 80, 50, 100, 70, 60, 20],\n",
    "    \"Max\": [50, 37.5, 100, 62.5, 125, 87.5, 75, 25],\n",
    "    \"Ruta_Critica\": [1, 0, 1, 0, 1, 0, 0, 1],\n",
    "}\n",
    "\n",
    "activities_df = pd.DataFrame(activities)\n",
    "\n",
    "print(activities_df)"
   ]
  },
  {
   "cell_type": "code",
   "execution_count": 3,
   "metadata": {},
   "outputs": [],
   "source": [
    "activities_df['Media_(µ)']  = (activities_df['Max'] + 4*activities_df['+Probable'] + activities_df['Min']) / 6\n",
    "activities_df['σ']          = (activities_df['Max'] - activities_df['Min']) / 6\n",
    "activities_df['σ^2']        = activities_df['σ']**2\n",
    "activities_df['α']          = ((activities_df['Media_(µ)'] - activities_df['Min']) / (activities_df['Max'] - activities_df['Min'])) * (((activities_df['Media_(µ)'] - activities_df['Min']) * (activities_df['Max'] - activities_df['Media_(µ)']) / activities_df['σ']**2) - 1)\n",
    "activities_df['β']          = ((activities_df['Max'] - activities_df['Media_(µ)']) / (activities_df['Media_(µ)'] - activities_df['Min'])) * activities_df['α']"
   ]
  },
  {
   "cell_type": "code",
   "execution_count": 4,
   "metadata": {},
   "outputs": [
    {
     "name": "stdout",
     "output_type": "stream",
     "text": [
      "   N  Actividades  Min  +Probable    Max  Ruta_Critica  Media_(µ)         σ  \\\n",
      "0  1  Actividad 1   36         40   50.0             1      41.00  2.333333   \n",
      "1  2  Actividad 2   27         30   37.5             0      30.75  1.750000   \n",
      "2  3  Actividad 3   72         80  100.0             1      82.00  4.666667   \n",
      "3  4  Actividad 4   45         50   62.5             0      51.25  2.916667   \n",
      "4  5  Actividad 5   90        100  125.0             1     102.50  5.833333   \n",
      "5  6  Actividad 6   63         70   87.5             0      71.75  4.083333   \n",
      "6  7  Actividad 7   54         60   75.0             0      61.50  3.500000   \n",
      "7  8  Actividad n   18         20   25.0             1      20.50  1.166667   \n",
      "\n",
      "         σ^2         α         β  \n",
      "0   5.444444  2.594752  4.670554  \n",
      "1   3.062500  2.594752  4.670554  \n",
      "2  21.777778  2.594752  4.670554  \n",
      "3   8.506944  2.594752  4.670554  \n",
      "4  34.027778  2.594752  4.670554  \n",
      "5  16.673611  2.594752  4.670554  \n",
      "6  12.250000  2.594752  4.670554  \n",
      "7   1.361111  2.594752  4.670554  \n"
     ]
    }
   ],
   "source": [
    "print(activities_df)"
   ]
  },
  {
   "attachments": {},
   "cell_type": "markdown",
   "metadata": {},
   "source": [
    "Calculamos los valores de la Beta-Pert"
   ]
  },
  {
   "cell_type": "code",
   "execution_count": 15,
   "metadata": {},
   "outputs": [
    {
     "name": "stdout",
     "output_type": "stream",
     "text": [
      "   %_Probabilidad   Beta-Pert\n",
      "0        0.846805   62.924477\n",
      "1        0.868626   47.889904\n",
      "2        0.990839  148.930416\n",
      "3        0.766624   75.093309\n",
      "4        0.129426  110.704760\n",
      "5        0.326265   86.205906\n",
      "6        0.877687   96.401447\n",
      "7        0.990518   37.186207\n"
     ]
    }
   ],
   "source": [
    "dist_df = {\n",
    "    '%_Probabilidad': [random.random() for _ in range(len(activities_df))],\n",
    "}\n",
    "\n",
    "dist_df['Beta-Pert'] = stats.beta.ppf(\n",
    "    dist_df['%_Probabilidad'],\n",
    "    activities_df['α'],\n",
    "    activities_df['β'],\n",
    "    activities_df['Min'],\n",
    "    activities_df['Max'],\n",
    ")\n",
    "\n",
    "dist_df = pd.DataFrame(dist_df)\n",
    "\n",
    "print(dist_df)"
   ]
  }
 ],
 "metadata": {
  "kernelspec": {
   "display_name": "Python 3",
   "language": "python",
   "name": "python3"
  },
  "language_info": {
   "codemirror_mode": {
    "name": "ipython",
    "version": 3
   },
   "file_extension": ".py",
   "mimetype": "text/x-python",
   "name": "python",
   "nbconvert_exporter": "python",
   "pygments_lexer": "ipython3",
   "version": "3.8.10"
  },
  "orig_nbformat": 4
 },
 "nbformat": 4,
 "nbformat_minor": 2
}
