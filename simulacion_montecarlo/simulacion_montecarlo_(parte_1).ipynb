{
 "cells": [
  {
   "attachments": {},
   "cell_type": "markdown",
   "metadata": {},
   "source": [
    "# Método Monte Carlo (Parte I)\n",
    "\n",
    "La simulación de Monte Carlo es una técnica que se utiliza para estimar resultados o analizar escenarios inciertos mediante la generación de múltiples muestras aleatorias.\n",
    "\n",
    "Queremos determinar cual es la **probabilidad** de que un evento aleatorio arroje un resultado concreto al ejecutarse el evento un numero grande de veces. El resultado concreto lo llamaremos **objetivo**, y el numero grande de veces que ejecutamos el evento lo llamaremos **simulaciones**. Para esto:\n",
    "\n",
    "* **Caracterizaremos el evento aleatorio a traves de una funcion que retorne sus posibles resultados** _(Esto es esencial en el método!)_.\n",
    "\n",
    "* **Luego definiremos otra función que ejecute la primera función un número de veces igual al `numero de simulaciones`, y determine cuantas veces obtenemos el `objetivo`.**\n",
    "\n",
    "* **Finalmente calcularemos la `probabilidad` del resultado del evento en función del número de ocurrencias.**\n",
    "\n",
    "Para lograr caracterizar los eventos importaremos en primer lugar el módulo *random* de python."
   ]
  },
  {
   "cell_type": "code",
   "execution_count": 25,
   "metadata": {},
   "outputs": [],
   "source": [
    "import random"
   ]
  },
  {
   "attachments": {},
   "cell_type": "markdown",
   "metadata": {},
   "source": [
    "## Ejemplo 1: El dado\n",
    "\n",
    "Queremos estimar la probabilidad de obtener 5 al lanzar un dado. Acá:\n",
    "\n",
    "* objetivo = 5\n",
    "* Número de simulaciones = 100000"
   ]
  },
  {
   "attachments": {},
   "cell_type": "markdown",
   "metadata": {},
   "source": [
    "### Caracterizando el evento aleatorio\n",
    "\n",
    "Entendido esto, caractericemos el evento. \n",
    "\n",
    "Genera el resultado de un lanzamiento de forma aleatoria. Para esto generamos un número aleatorio entre 1 y 6 simulando un lanzamiento de dado."
   ]
  },
  {
   "cell_type": "code",
   "execution_count": 26,
   "metadata": {},
   "outputs": [],
   "source": [
    "def lanzamiento_dado():\n",
    "    return random.randint(1, 6) "
   ]
  },
  {
   "attachments": {},
   "cell_type": "markdown",
   "metadata": {},
   "source": [
    "### Definiendo las simulaciones:\n",
    "\n",
    "Definimos una funcion para producir la simulacion"
   ]
  },
  {
   "cell_type": "code",
   "execution_count": 27,
   "metadata": {},
   "outputs": [],
   "source": [
    "def simulacion_montecarlo(num_simulaciones):\n",
    "    conteo_objetivo = 0  # Contador para el número de veces que se obtiene el número objetivo\n",
    "    objetivo = 5  # Número objetivo a obtener\n",
    "    \n",
    "    for _ in range(num_simulaciones):\n",
    "        resultado = lanzamiento_dado()\n",
    "        if resultado == objetivo:\n",
    "            conteo_objetivo += 1\n",
    "    \n",
    "    probabilidad = conteo_objetivo / num_simulaciones\n",
    "    return probabilidad"
   ]
  },
  {
   "attachments": {},
   "cell_type": "markdown",
   "metadata": {},
   "source": [
    "### Generando la Simulacion\n",
    "\n",
    "Aplicamos"
   ]
  },
  {
   "cell_type": "code",
   "execution_count": 28,
   "metadata": {},
   "outputs": [
    {
     "name": "stdout",
     "output_type": "stream",
     "text": [
      "La probabilidad estimada de obtener el número 5 en un lanzamiento de dado es: 0.1659\n"
     ]
    }
   ],
   "source": [
    "# Ejemplo de uso\n",
    "num_lanzamientos = 10000\n",
    "probabilidad = simulacion_montecarlo(num_lanzamientos)\n",
    "print(f\"La probabilidad estimada de obtener el número 5 en un lanzamiento de dado es: {probabilidad}\")"
   ]
  },
  {
   "attachments": {},
   "cell_type": "markdown",
   "metadata": {},
   "source": [
    "### Explicación:\n",
    "\n",
    "En este ejemplo, la función `lanzamiento_dado()` simula un lanzamiento de dado y devuelve un número aleatorio entre 1 y 6 utilizando la función `randint()` del módulo random. Luego, la función `simulacion_montecarlo()` realiza un número determinado de lanzamientos de dado y cuenta cuántas veces se obtiene el número objetivo _(en este caso, el número 5)_. Finalmente, calcula la probabilidad estimada dividiendo el número de veces que se obtuvo el número objetivo entre el número total de lanzamientos.\n",
    "\n",
    "Al aumentar el valor de **num_lanzamientos**, obtendrás una estimación más precisa de la probabilidad real. Recuerda que, debido a la naturaleza aleatoria de la simulación, la probabilidad estimada puede variar ligeramente en cada ejecución.\n",
    "\n",
    "Este ejemplo simple te permitirá comprender los fundamentos de la simulación de Monte Carlo en Python y cómo se pueden estimar probabilidades utilizando muestras aleatorias. Puedes adaptar este ejemplo a otros escenarios más complejos según tus necesidades."
   ]
  },
  {
   "attachments": {},
   "cell_type": "markdown",
   "metadata": {},
   "source": [
    "## Ejemplo 2: Estimando el valor de π\n",
    "\n",
    "Tenemos un cuadrado circunscrito (con el circulo inscrito y de area máxima). El circulo es de radio unidad.\n",
    "\n",
    "Queremos estimar la probabilidad de obtener un punto a una distancia menor o igual a 1 _(un punto dentro del circulo)_ al generar puntos aleatorios dentro del cuadrado. Acá:\n",
    "\n",
    "* objetivo _(distancia)_ <= 1\n",
    "* Número de simulaciones = 1000000"
   ]
  },
  {
   "attachments": {},
   "cell_type": "markdown",
   "metadata": {},
   "source": [
    "### Caracterizando el evento aleatorio\n",
    "\n",
    "Entendido esto, caractericemos el evento aleatorio. \n",
    "\n",
    "Genera las distancias de los puntos dentro del cuadrado de forma aleatoria. Para esto, generamos las coordenadas mismas de forma aleatoria acotando su valor entre -1 y 1, y calculamos luego la distancia."
   ]
  },
  {
   "cell_type": "code",
   "execution_count": 29,
   "metadata": {},
   "outputs": [],
   "source": [
    "def genera_coordenadas():\n",
    "    x = random.uniform(-1, 1)  # Genera una coordenada x aleatoria entre -1 y 1\n",
    "    y = random.uniform(-1, 1)  # Genera una coordenada y aleatoria entre -1 y 1\n",
    "    distancia = x**2 + y**2  # Calcula la distancia al origen (0, 0)\n",
    "    return distancia\n",
    "\n",
    "# Aca el evento aleatorio es la magnitud de la distancia."
   ]
  },
  {
   "attachments": {},
   "cell_type": "markdown",
   "metadata": {},
   "source": [
    "### Definiendo las simulaciones:\n",
    "\n",
    "Definimos una funcion para producir la simulacion"
   ]
  },
  {
   "cell_type": "code",
   "execution_count": 30,
   "metadata": {},
   "outputs": [],
   "source": [
    "def estimar_pi(num_puntos):\n",
    "    conteo_objetivo = 0\n",
    "    objetivo = 1\n",
    "\n",
    "    for _ in range(num_puntos):\n",
    "        resultado = genera_coordenadas()      \n",
    "        if resultado <= objetivo:  # Comprueba si el punto está dentro del círculo unitario\n",
    "            conteo_objetivo += 1\n",
    "\n",
    "    pi_estimado = 4 * (conteo_objetivo / num_puntos)\n",
    "    return pi_estimado"
   ]
  },
  {
   "attachments": {},
   "cell_type": "markdown",
   "metadata": {},
   "source": [
    "### Generando la Simulacion\n",
    "\n",
    "Aplicamos"
   ]
  },
  {
   "cell_type": "code",
   "execution_count": 31,
   "metadata": {},
   "outputs": [
    {
     "name": "stdout",
     "output_type": "stream",
     "text": [
      "El valor estimado de pi es: 3.143704\n"
     ]
    }
   ],
   "source": [
    "# Ejemplo de uso\n",
    "num_puntos = 1000000\n",
    "pi_estimado = estimar_pi(num_puntos)\n",
    "print(f\"El valor estimado de pi es: {pi_estimado}\")"
   ]
  },
  {
   "attachments": {},
   "cell_type": "markdown",
   "metadata": {},
   "source": [
    "### Explicación:\n",
    "\n",
    "En este ejemplo, utilizamos la idea de que la relación entre el área de un círculo y un cuadrado circunscrito a él es π/4. Generamos puntos aleatorios dentro de un cuadrado de lado 2 y contamos cuántos de esos puntos caen dentro de un círculo unitario (radio 1). Al estimar la proporción de puntos dentro del círculo, multiplicamos por 4 para obtener una estimación del valor de π.\n",
    "\n",
    "A medida que incrementas el valor de `num_puntos`, obtendrás una estimación más precisa de π. La belleza de este ejemplo es que, aunque no estamos calculando π directamente, estamos utilizando la simulación de Monte Carlo para obtener una estimación de manera probabilística.\n",
    "\n",
    "Recuerda que debido a la naturaleza aleatoria de la simulación, el resultado puede variar en cada ejecución. Sin embargo, a medida que aumentes el número de puntos, la estimación se acercará más al valor real de π.\n",
    "\n",
    "Este ejemplo ilustra cómo se puede utilizar la simulación de Monte Carlo para estimar valores de una constante matemática y cómo los resultados convergen a medida que aumenta el tamaño de la muestra."
   ]
  },
  {
   "attachments": {},
   "cell_type": "markdown",
   "metadata": {},
   "source": [
    "## Primeras conclusiones\n",
    "\n",
    "De estos dos ejemplos podemos observar que lo esencial acá es tener claridad sobre cuál es el evento aleatorio que se está estudiando y sobre todo cuál es el resultado objetivo cuya probabilidad se desea conocer en concreto.\n",
    "\n",
    "> Nota: \n",
    "Las bases matemáticas de éste método son la Ley de los Grandes Números y el Teorema del Límite Central. Estos fundamentos garantizan que, al generar suficientes muestras aleatorias, la técnica pueda proporcionar estimaciones precisas y confiables de resultados inciertos."
   ]
  }
 ],
 "metadata": {
  "kernelspec": {
   "display_name": "Python 3",
   "language": "python",
   "name": "python3"
  },
  "language_info": {
   "codemirror_mode": {
    "name": "ipython",
    "version": 3
   },
   "file_extension": ".py",
   "mimetype": "text/x-python",
   "name": "python",
   "nbconvert_exporter": "python",
   "pygments_lexer": "ipython3",
   "version": "3.8.10"
  },
  "orig_nbformat": 4
 },
 "nbformat": 4,
 "nbformat_minor": 2
}
