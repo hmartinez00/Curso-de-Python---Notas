{
 "cells": [
  {
   "cell_type": "code",
   "execution_count": 1,
   "metadata": {},
   "outputs": [],
   "source": [
    "from docx import Document\n",
    "from deep_translator import GoogleTranslator"
   ]
  },
  {
   "cell_type": "code",
   "execution_count": 2,
   "metadata": {},
   "outputs": [],
   "source": [
    "def buscar_parrafo(name_file, var_sub_cadena):\n",
    "\n",
    "    f = open(name_file, 'rb')\n",
    "    document = Document(f)\n",
    "    f.close()\n",
    "\n",
    "    var_parrafos = document.paragraphs\n",
    "    result = {}\n",
    "\n",
    "    j = 0\n",
    "    for i in range(len(var_parrafos)):\n",
    "        if var_sub_cadena in var_parrafos[i].text:\n",
    "            result[j] = (i, var_parrafos[i].text)\n",
    "            j += 1\n",
    "    \n",
    "    return result"
   ]
  },
  {
   "cell_type": "code",
   "execution_count": 3,
   "metadata": {},
   "outputs": [],
   "source": [
    "# name_file = 'Operation User Manual of VRSS-2 OMS-20180126  (7) - copy'\n",
    "name_file = 'Operation User Manual of VRSS-2 OMS-20180126  (7)'"
   ]
  },
  {
   "cell_type": "code",
   "execution_count": 4,
   "metadata": {},
   "outputs": [
    {
     "data": {
      "text/plain": [
       "dict_keys([267, 412, 416, 423, 437, 452, 465, 481, 496, 514, 530, 544, 573, 585, 596, 608, 656, 675, 718, 732, 803, 823, 838, 852, 865, 878, 894, 903, 930, 939, 941, 948, 956, 997, 1025, 1041, 1160, 1163, 1171, 1176, 1182, 1188, 1195, 1216, 1223, 1244, 1251, 1254, 1261, 1279, 1285, 1306, 1313, 1331, 1338, 1359, 1363, 1384, 1391, 1394, 1400, 1421, 1429, 1447, 1454, 1474, 1482, 1503, 1507, 1528, 1534, 1540, 1551, 1569, 1585, 1599, 1613, 1617, 1625, 1631, 1645, 1662, 1678, 1694, 1698, 1711, 1722, 1728, 1731, 1739, 1742, 1748, 1753, 1769, 1780, 1793, 1804, 1815, 1823, 1834, 1848, 1852, 1866, 1877, 1887, 1898, 1911, 1915, 1924, 1934, 1956, 1960, 1963, 1971, 1973, 1981, 1984, 1995, 2005, 2016, 2021, 2025, 2028, 2032, 2035, 2043, 2045, 2050, 2054, 2058, 2064, 2069, 2076, 2083, 2090, 2098, 2102, 2110, 2118, 2121, 2126, 2130, 2132, 2139, 2142, 2146, 2148, 2156, 2171, 2175, 2177, 2186, 2189, 2192, 2205, 2210, 2214, 2216, 2225, 2230, 2234, 2242, 2246, 2252, 2256, 2269, 2272, 2287, 2301, 2320, 2335, 2339, 2357, 2360, 2382, 2388, 2395, 2409, 2414, 2425, 2428, 2440, 2454, 2473, 2480, 2484, 2500, 2504, 2529, 2550, 2562, 2566, 2584, 2589, 2592, 2604, 2609, 2616, 2619, 2623, 2629, 2634, 2638, 2642, 2660, 2670, 2672, 2678, 2682, 2687, 2690, 2701, 2707, 2714, 2720, 2728, 2731, 2739, 2742, 2749, 2755, 2761, 2769, 2773, 2779, 2784, 2790, 2805, 2811, 2818, 2834, 2837, 2854, 2857, 2864, 2877, 2890, 2897, 2922, 2929, 2948, 2955, 2974, 2981, 2997, 3005, 3023, 3030, 3034, 3043, 3052, 3059, 3062, 3071, 3077, 3087, 3104, 3116, 3127, 3133, 3154, 3159, 3166, 3179, 3191, 3208, 3216, 3229, 3247, 3253, 3277, 3292, 3309, 3341, 3346, 3349, 3362, 3365, 3372, 3376, 3386, 3395, 3399, 3405, 3408, 3429, 3450, 3460, 3481, 3506, 3521, 3530, 3545, 3551, 3558, 3576, 3584, 3587, 3590, 3597, 3616, 3623, 3626, 3631, 3637, 3642, 3648, 3655, 3670, 3676, 3682, 3688, 3711, 3728, 3731, 3734, 3737, 3741, 3746, 3749, 3771, 3793, 3798, 3800, 3804, 3809, 3812, 3817, 3819, 3826, 3837, 3842, 3847, 3852, 3867, 3880, 3883, 3885, 3888, 3903, 3909, 3922, 3926, 3941, 3946, 3951, 3955, 3959, 3964, 3974, 3990, 4000, 4015, 4018, 4024, 4039, 4054, 4058, 4062, 4071, 4091, 4098, 4100, 4104, 4113, 4119, 4145, 4149, 4152, 4157, 4182, 4200, 4206, 4211, 4214, 4220, 4224, 4230, 4235, 4238, 4243, 4245, 4251, 4262, 4268, 4272, 4294, 4299, 4318, 4322, 4345, 4350, 4357, 4365, 4371, 4381, 4385, 4392, 4395, 4400, 4415, 4420, 4425, 4436, 4439, 4445, 4450, 4453, 4460, 4469, 4476, 4480, 4486, 4489, 4504, 4510, 4515, 4523, 4541, 4547, 4551, 4557, 4578, 4585, 4587, 4590, 4598, 4616, 4622, 4627, 4638, 4653, 4659, 4664, 4672, 4675, 4681, 4685, 4706, 4727, 4753, 4763, 4770, 4785, 4792, 4796, 4803, 4818, 4823, 4826, 4831, 4834, 4838, 4843, 4845, 4848, 4850, 4856, 4872, 4880, 4896, 4903, 4908, 4914, 4917, 4925, 4940, 4944, 4950, 4953, 4957, 4964, 4978, 4989, 5002, 5021, 5042, 5066, 5073, 5095, 5103, 5121, 5127, 5147, 5154, 5163, 5166, 5170, 5176, 5183, 5193, 5214, 5230, 5251, 5265, 5275, 5294, 5301, 5320, 5324, 5343, 5347, 5369, 5390, 5412, 5432, 5443, 5462, 5466, 5489, 5512, 5530, 5535, 5542, 5545, 5563, 5571, 5582, 5603, 5608, 5612, 5614, 5629, 5633, 5637, 5645, 5664, 5668, 5676, 5696, 5700, 5718, 5746, 5753, 5775, 5782, 5786, 5793, 5811, 5836, 5859, 5869, 5892, 5898, 5908, 5911, 5916, 5939, 5943, 5964, 5968, 5979, 5985, 5999, 6004, 6009, 6027, 6030, 6037, 6047, 6051, 6078, 6084, 6092, 6095, 6099, 6116, 6121, 6140, 6149, 6191, 6206, 6213, 6219, 6226, 6247, 6251, 6257, 6265, 6274, 6283, 6301, 6306, 6309, 6314, 6316, 6337, 6346, 6349, 6354, 6360, 6363, 6369, 6373, 6383, 6408, 6412, 6415, 6419, 6438, 6446, 6457, 6468, 6513, 6518, 6525, 6534, 6546, 6561, 6566, 6573, 6580, 6592, 6615, 6623, 6646, 6661, 6690, 6696, 6725, 6732, 6755, 6761, 6784, 6810, 6819, 6824, 6841, 6848, 6902, 6906, 6927, 6955, 6962, 6972, 6997, 7002, 7006, 7010, 7018, 7032, 7065, 7075, 7088, 7102, 7110, 7122, 7147, 7169, 7177, 7203, 7232, 7242, 7252, 7256, 7264, 7268, 7284, 7299])"
      ]
     },
     "execution_count": 4,
     "metadata": {},
     "output_type": "execute_result"
    }
   ],
   "source": [
    "# var_sub_cadena1 = 'Operating\tInstructions\tfor\tMult-Satellite\tMission\tPlanning Software (MPS)'\n",
    "var_sub_cadena1 = 'Figure'\n",
    "# buscar_parrafo(name_file + '.docx', var_sub_cadena1)[0][0]\n",
    "dict = buscar_parrafo(name_file + '.docx', var_sub_cadena1)\n",
    "t_dict = {}\n",
    "for i in range(len(dict)):\n",
    "    line = dict[i][0]\n",
    "    text = dict[i][1]\n",
    "    pox = text.find(var_sub_cadena1)\n",
    "    if pox < 3:\n",
    "        t_dict[line] = dict[i][1]\n",
    "        # print(line, dict[i][1])\n",
    "t_dict.keys()\n"
   ]
  },
  {
   "cell_type": "code",
   "execution_count": 20,
   "metadata": {},
   "outputs": [
    {
     "data": {
      "text/plain": [
       "4122"
      ]
     },
     "execution_count": 20,
     "metadata": {},
     "output_type": "execute_result"
    }
   ],
   "source": [
    "var_sub_cadena1 = 'Operating Instructions for Process Monitoring Software (PMS)'\n",
    "buscar_parrafo(name_file + '.docx', var_sub_cadena1)[0][0]"
   ]
  },
  {
   "cell_type": "code",
   "execution_count": 9,
   "metadata": {},
   "outputs": [],
   "source": [
    "name_file_input = 'Operation User Manual of VRSS-2 OMS-20180126  (7) - copia'\n",
    "name_file_output = 'Operating Instructions for Mult-Satellite Mission Planning Software (MPS) - Traduccion'\n",
    "\n",
    "f1 = open(name_file_input + '.docx', 'rb')\n",
    "document1 = Document(f1)\n",
    "f1.close()\n",
    "\n",
    "document2 = Document()\n",
    "\n",
    "var_parrafos = document1.paragraphs\n",
    "var_inicio = 3046\n",
    "var_fin = 4122\n",
    "# var_fin = 3058\n",
    "\n"
   ]
  },
  {
   "cell_type": "code",
   "execution_count": 11,
   "metadata": {},
   "outputs": [
    {
     "data": {
      "text/plain": [
       "7393"
      ]
     },
     "execution_count": 11,
     "metadata": {},
     "output_type": "execute_result"
    }
   ],
   "source": [
    "len(var_parrafos)"
   ]
  },
  {
   "cell_type": "code",
   "execution_count": 10,
   "metadata": {},
   "outputs": [
    {
     "name": "stdout",
     "output_type": "stream",
     "text": [
      "Linea de inicio: 3046\n",
      "Linea final: 4122\n",
      "Porcentaje de lineas traducidas: 100%\r"
     ]
    }
   ],
   "source": [
    "print('Linea de inicio: {}'.format(var_inicio))\n",
    "print('Linea final: {}'.format(var_fin))\n",
    "\n",
    "j = 0\n",
    "for i in range(len(var_parrafos)):\n",
    "    if i >= var_inicio and i<= var_fin:\n",
    "        porcentaje = j/(var_fin - var_inicio)*100\n",
    "        print('Porcentaje de lineas traducidas: {0:.0f}%'.format(porcentaje), end='\\r')\n",
    "        j += 1\n",
    "        translated = GoogleTranslator(source='en', target='es').translate(var_parrafos[i].text)\n",
    "        # document.paragraphs[i].text = translated\n",
    "        document2.add_paragraph(translated)\n",
    "        \n",
    "\n",
    "document2.save(name_file_output + '.docx')"
   ]
  },
  {
   "cell_type": "code",
   "execution_count": 21,
   "metadata": {},
   "outputs": [
    {
     "name": "stdout",
     "output_type": "stream",
     "text": [
      "Linea de inicio: 0\n",
      "Linea final: 7393\n",
      "Porcentaje de lineas procesadas: 100%\r"
     ]
    }
   ],
   "source": [
    "name_file_input = 'Operation User Manual of VRSS-2 OMS-20180126  (7) - copia'\n",
    "# name_file_output = 'Operation User Manual of VRSS-2 OMS-20180126  (7) - copia - Traduccion'\n",
    "\n",
    "f1 = open(name_file_input + '.docx', 'rb')\n",
    "document = Document(f1)\n",
    "f1.close()\n",
    "\n",
    "var_parrafos = document.paragraphs\n",
    "var_inicio = 0\n",
    "var_fin = len(var_parrafos)\n",
    "\n",
    "print('Linea de inicio: {}'.format(var_inicio))\n",
    "print('Linea final: {}'.format(var_fin))\n",
    "\n",
    "# try:\n",
    "j = 0\n",
    "k = 0\n",
    "for i in range(len(var_parrafos)):\n",
    "    if i >= var_inicio and i<= var_fin:\n",
    "        # translated = GoogleTranslator(source='en', target='es').translate(var_parrafos[i].text)\n",
    "        # document.paragraphs[i].text = translated\n",
    "        if i in t_dict.keys():\n",
    "            k += 1\n",
    "            document.paragraphs[i].text = '{{ ' + 'Placeholder_{}'.format(k) + ' }}' + '\\n' + document.paragraphs[i].text\n",
    "        porcentaje = j/(var_fin - var_inicio)*100\n",
    "        print('Porcentaje de lineas procesadas: {0:.0f}%'.format(porcentaje), end='\\r')\n",
    "        j += 1\n",
    "\n",
    "document.save(name_file_input + '.docx')\n",
    "\n",
    "# except:\n",
    "\n",
    "#     print('Error de conexion. Se procederan a guardar los cambios')\n",
    "#     document.save(name_file_input + '.docx')"
   ]
  },
  {
   "cell_type": "code",
   "execution_count": 2,
   "metadata": {},
   "outputs": [],
   "source": [
    "import docx2txt"
   ]
  },
  {
   "cell_type": "code",
   "execution_count": 6,
   "metadata": {},
   "outputs": [
    {
     "name": "stdout",
     "output_type": "stream",
     "text": [
      "Document Title\n",
      "\n",
      "A plain paragraph having some bold and some italic.\n",
      "\n",
      "Heading, level 1\n",
      "\n",
      "Intense quote\n",
      "\n",
      "first item in unordered list\n",
      "\n",
      "first item in ordered list\n",
      "\n",
      "\n",
      "\n",
      "Qty\n",
      "\n",
      "Id\n",
      "\n",
      "Desc\n",
      "\n",
      "3\n",
      "\n",
      "101\n",
      "\n",
      "Spam\n",
      "\n",
      "7\n",
      "\n",
      "422\n",
      "\n",
      "Eggs\n",
      "\n",
      "4\n",
      "\n",
      "631\n",
      "\n",
      "Spam, spam, eggs, and spam"
     ]
    },
    {
     "ename": "KeyboardInterrupt",
     "evalue": "",
     "output_type": "error",
     "traceback": [
      "\u001b[1;31m---------------------------------------------------------------------------\u001b[0m",
      "\u001b[1;31mKeyboardInterrupt\u001b[0m                         Traceback (most recent call last)",
      "\u001b[1;32mC:\\Users\\HECTOR~1\\AppData\\Local\\Temp/ipykernel_9616/2016911962.py\u001b[0m in \u001b[0;36m<module>\u001b[1;34m\u001b[0m\n\u001b[0;32m      7\u001b[0m \u001b[0mtext\u001b[0m \u001b[1;33m=\u001b[0m \u001b[0mdocx2txt\u001b[0m\u001b[1;33m.\u001b[0m\u001b[0mprocess\u001b[0m\u001b[1;33m(\u001b[0m\u001b[0mname_file_input\u001b[0m \u001b[1;33m+\u001b[0m \u001b[1;34m'.docx'\u001b[0m\u001b[1;33m,\u001b[0m \u001b[1;34m\"imagenes\"\u001b[0m\u001b[1;33m)\u001b[0m\u001b[1;33m\u001b[0m\u001b[1;33m\u001b[0m\u001b[0m\n\u001b[0;32m      8\u001b[0m \u001b[1;33m\u001b[0m\u001b[0m\n\u001b[1;32m----> 9\u001b[1;33m \u001b[0mprint\u001b[0m\u001b[1;33m(\u001b[0m\u001b[0mtext\u001b[0m\u001b[1;33m)\u001b[0m\u001b[1;33m\u001b[0m\u001b[1;33m\u001b[0m\u001b[0m\n\u001b[0m",
      "\u001b[1;32mc:\\Users\\Hector Martinez\\AppData\\Local\\Programs\\Python\\Python38\\lib\\site-packages\\ipykernel\\iostream.py\u001b[0m in \u001b[0;36mwrite\u001b[1;34m(self, string)\u001b[0m\n\u001b[0;32m    537\u001b[0m                 \u001b[0mself\u001b[0m\u001b[1;33m.\u001b[0m\u001b[0mpub_thread\u001b[0m\u001b[1;33m.\u001b[0m\u001b[0mschedule\u001b[0m\u001b[1;33m(\u001b[0m\u001b[0mself\u001b[0m\u001b[1;33m.\u001b[0m\u001b[0m_flush\u001b[0m\u001b[1;33m)\u001b[0m\u001b[1;33m\u001b[0m\u001b[1;33m\u001b[0m\u001b[0m\n\u001b[0;32m    538\u001b[0m             \u001b[1;32melse\u001b[0m\u001b[1;33m:\u001b[0m\u001b[1;33m\u001b[0m\u001b[1;33m\u001b[0m\u001b[0m\n\u001b[1;32m--> 539\u001b[1;33m                 \u001b[0mself\u001b[0m\u001b[1;33m.\u001b[0m\u001b[0m_schedule_flush\u001b[0m\u001b[1;33m(\u001b[0m\u001b[1;33m)\u001b[0m\u001b[1;33m\u001b[0m\u001b[1;33m\u001b[0m\u001b[0m\n\u001b[0m\u001b[0;32m    540\u001b[0m \u001b[1;33m\u001b[0m\u001b[0m\n\u001b[0;32m    541\u001b[0m         \u001b[1;32mreturn\u001b[0m \u001b[0mlen\u001b[0m\u001b[1;33m(\u001b[0m\u001b[0mstring\u001b[0m\u001b[1;33m)\u001b[0m\u001b[1;33m\u001b[0m\u001b[1;33m\u001b[0m\u001b[0m\n",
      "\u001b[1;32mc:\\Users\\Hector Martinez\\AppData\\Local\\Programs\\Python\\Python38\\lib\\site-packages\\ipykernel\\iostream.py\u001b[0m in \u001b[0;36m_schedule_flush\u001b[1;34m(self)\u001b[0m\n\u001b[0;32m    447\u001b[0m         \u001b[1;32mdef\u001b[0m \u001b[0m_schedule_in_thread\u001b[0m\u001b[1;33m(\u001b[0m\u001b[1;33m)\u001b[0m\u001b[1;33m:\u001b[0m\u001b[1;33m\u001b[0m\u001b[1;33m\u001b[0m\u001b[0m\n\u001b[0;32m    448\u001b[0m             \u001b[0mself\u001b[0m\u001b[1;33m.\u001b[0m\u001b[0m_io_loop\u001b[0m\u001b[1;33m.\u001b[0m\u001b[0mcall_later\u001b[0m\u001b[1;33m(\u001b[0m\u001b[0mself\u001b[0m\u001b[1;33m.\u001b[0m\u001b[0mflush_interval\u001b[0m\u001b[1;33m,\u001b[0m \u001b[0mself\u001b[0m\u001b[1;33m.\u001b[0m\u001b[0m_flush\u001b[0m\u001b[1;33m)\u001b[0m\u001b[1;33m\u001b[0m\u001b[1;33m\u001b[0m\u001b[0m\n\u001b[1;32m--> 449\u001b[1;33m         \u001b[0mself\u001b[0m\u001b[1;33m.\u001b[0m\u001b[0mpub_thread\u001b[0m\u001b[1;33m.\u001b[0m\u001b[0mschedule\u001b[0m\u001b[1;33m(\u001b[0m\u001b[0m_schedule_in_thread\u001b[0m\u001b[1;33m)\u001b[0m\u001b[1;33m\u001b[0m\u001b[1;33m\u001b[0m\u001b[0m\n\u001b[0m\u001b[0;32m    450\u001b[0m \u001b[1;33m\u001b[0m\u001b[0m\n\u001b[0;32m    451\u001b[0m     \u001b[1;32mdef\u001b[0m \u001b[0mflush\u001b[0m\u001b[1;33m(\u001b[0m\u001b[0mself\u001b[0m\u001b[1;33m)\u001b[0m\u001b[1;33m:\u001b[0m\u001b[1;33m\u001b[0m\u001b[1;33m\u001b[0m\u001b[0m\n",
      "\u001b[1;32mc:\\Users\\Hector Martinez\\AppData\\Local\\Programs\\Python\\Python38\\lib\\site-packages\\ipykernel\\iostream.py\u001b[0m in \u001b[0;36mschedule\u001b[1;34m(self, f)\u001b[0m\n\u001b[0;32m    212\u001b[0m             \u001b[0mself\u001b[0m\u001b[1;33m.\u001b[0m\u001b[0m_events\u001b[0m\u001b[1;33m.\u001b[0m\u001b[0mappend\u001b[0m\u001b[1;33m(\u001b[0m\u001b[0mf\u001b[0m\u001b[1;33m)\u001b[0m\u001b[1;33m\u001b[0m\u001b[1;33m\u001b[0m\u001b[0m\n\u001b[0;32m    213\u001b[0m             \u001b[1;31m# wake event thread (message content is ignored)\u001b[0m\u001b[1;33m\u001b[0m\u001b[1;33m\u001b[0m\u001b[1;33m\u001b[0m\u001b[0m\n\u001b[1;32m--> 214\u001b[1;33m             \u001b[0mself\u001b[0m\u001b[1;33m.\u001b[0m\u001b[0m_event_pipe\u001b[0m\u001b[1;33m.\u001b[0m\u001b[0msend\u001b[0m\u001b[1;33m(\u001b[0m\u001b[1;34mb''\u001b[0m\u001b[1;33m)\u001b[0m\u001b[1;33m\u001b[0m\u001b[1;33m\u001b[0m\u001b[0m\n\u001b[0m\u001b[0;32m    215\u001b[0m         \u001b[1;32melse\u001b[0m\u001b[1;33m:\u001b[0m\u001b[1;33m\u001b[0m\u001b[1;33m\u001b[0m\u001b[0m\n\u001b[0;32m    216\u001b[0m             \u001b[0mf\u001b[0m\u001b[1;33m(\u001b[0m\u001b[1;33m)\u001b[0m\u001b[1;33m\u001b[0m\u001b[1;33m\u001b[0m\u001b[0m\n",
      "\u001b[1;32mc:\\Users\\Hector Martinez\\AppData\\Local\\Programs\\Python\\Python38\\lib\\site-packages\\zmq\\sugar\\socket.py\u001b[0m in \u001b[0;36msend\u001b[1;34m(self, data, flags, copy, track, routing_id, group)\u001b[0m\n\u001b[0;32m    545\u001b[0m                 )\n\u001b[0;32m    546\u001b[0m             \u001b[0mdata\u001b[0m\u001b[1;33m.\u001b[0m\u001b[0mgroup\u001b[0m \u001b[1;33m=\u001b[0m \u001b[0mgroup\u001b[0m\u001b[1;33m\u001b[0m\u001b[1;33m\u001b[0m\u001b[0m\n\u001b[1;32m--> 547\u001b[1;33m         \u001b[1;32mreturn\u001b[0m \u001b[0msuper\u001b[0m\u001b[1;33m(\u001b[0m\u001b[0mSocket\u001b[0m\u001b[1;33m,\u001b[0m \u001b[0mself\u001b[0m\u001b[1;33m)\u001b[0m\u001b[1;33m.\u001b[0m\u001b[0msend\u001b[0m\u001b[1;33m(\u001b[0m\u001b[0mdata\u001b[0m\u001b[1;33m,\u001b[0m \u001b[0mflags\u001b[0m\u001b[1;33m=\u001b[0m\u001b[0mflags\u001b[0m\u001b[1;33m,\u001b[0m \u001b[0mcopy\u001b[0m\u001b[1;33m=\u001b[0m\u001b[0mcopy\u001b[0m\u001b[1;33m,\u001b[0m \u001b[0mtrack\u001b[0m\u001b[1;33m=\u001b[0m\u001b[0mtrack\u001b[0m\u001b[1;33m)\u001b[0m\u001b[1;33m\u001b[0m\u001b[1;33m\u001b[0m\u001b[0m\n\u001b[0m\u001b[0;32m    548\u001b[0m \u001b[1;33m\u001b[0m\u001b[0m\n\u001b[0;32m    549\u001b[0m     \u001b[1;32mdef\u001b[0m \u001b[0msend_multipart\u001b[0m\u001b[1;33m(\u001b[0m\u001b[0mself\u001b[0m\u001b[1;33m,\u001b[0m \u001b[0mmsg_parts\u001b[0m\u001b[1;33m,\u001b[0m \u001b[0mflags\u001b[0m\u001b[1;33m=\u001b[0m\u001b[1;36m0\u001b[0m\u001b[1;33m,\u001b[0m \u001b[0mcopy\u001b[0m\u001b[1;33m=\u001b[0m\u001b[1;32mTrue\u001b[0m\u001b[1;33m,\u001b[0m \u001b[0mtrack\u001b[0m\u001b[1;33m=\u001b[0m\u001b[1;32mFalse\u001b[0m\u001b[1;33m,\u001b[0m \u001b[1;33m**\u001b[0m\u001b[0mkwargs\u001b[0m\u001b[1;33m)\u001b[0m\u001b[1;33m:\u001b[0m\u001b[1;33m\u001b[0m\u001b[1;33m\u001b[0m\u001b[0m\n",
      "\u001b[1;32mzmq\\backend\\cython\\socket.pyx\u001b[0m in \u001b[0;36mzmq.backend.cython.socket.Socket.send\u001b[1;34m()\u001b[0m\n",
      "\u001b[1;32mzmq\\backend\\cython\\socket.pyx\u001b[0m in \u001b[0;36mzmq.backend.cython.socket.Socket.send\u001b[1;34m()\u001b[0m\n",
      "\u001b[1;32mzmq\\backend\\cython\\socket.pyx\u001b[0m in \u001b[0;36mzmq.backend.cython.socket._send_copy\u001b[1;34m()\u001b[0m\n",
      "\u001b[1;32mc:\\Users\\Hector Martinez\\AppData\\Local\\Programs\\Python\\Python38\\lib\\site-packages\\zmq\\backend\\cython\\checkrc.pxd\u001b[0m in \u001b[0;36mzmq.backend.cython.checkrc._check_rc\u001b[1;34m()\u001b[0m\n",
      "\u001b[1;31mKeyboardInterrupt\u001b[0m: "
     ]
    }
   ],
   "source": [
    "name_file_input = 'demo'\n",
    "\n",
    "# extract text\n",
    "# text = docx2txt.process(name_file_input + '.docx')\n",
    "\n",
    "# extract text and write images in /tmp/img_dir\n",
    "text = docx2txt.process(name_file_input + '.docx', \"imagenes\") \n",
    "\n",
    "print(text)"
   ]
  },
  {
   "cell_type": "code",
   "execution_count": 1,
   "metadata": {},
   "outputs": [],
   "source": [
    "from docxtpl import DocxTemplate, InlineImage\n",
    "import os, sys"
   ]
  },
  {
   "cell_type": "code",
   "execution_count": 2,
   "metadata": {},
   "outputs": [],
   "source": [
    "from docx.shared import Cm, Inches, Mm, Emu"
   ]
  },
  {
   "cell_type": "code",
   "execution_count": 3,
   "metadata": {},
   "outputs": [],
   "source": [
    "doc = DocxTemplate(\"my_word_template.docx\")\n",
    "# placeholder_1 = InlineImage(doc, image_descriptor='imagenes/image1.jpg', width=Cm(5), height=Cm(5))\n",
    "placeholder_1 = InlineImage(doc, image_descriptor='imagenes/image1.jpg', width=Cm(5))\n",
    "context = { \n",
    "    'company_name' : \"World company\", \n",
    "    'placeholder_1' : placeholder_1,\n",
    "    }\n",
    "doc.render(context)\n",
    "doc.save(\"generated_doc.docx\")"
   ]
  }
 ],
 "metadata": {
  "kernelspec": {
   "display_name": "Python 3.8.10 64-bit",
   "language": "python",
   "name": "python3"
  },
  "language_info": {
   "codemirror_mode": {
    "name": "ipython",
    "version": 3
   },
   "file_extension": ".py",
   "mimetype": "text/x-python",
   "name": "python",
   "nbconvert_exporter": "python",
   "pygments_lexer": "ipython3",
   "version": "3.8.10"
  },
  "orig_nbformat": 4,
  "vscode": {
   "interpreter": {
    "hash": "f899019e40078bba6a192d1b33425237bbe8b1e870f3f4f931213adcabf069ec"
   }
  }
 },
 "nbformat": 4,
 "nbformat_minor": 2
}
