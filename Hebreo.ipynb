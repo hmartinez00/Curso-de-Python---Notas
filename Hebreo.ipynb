{
 "cells": [
  {
   "cell_type": "code",
   "execution_count": 6,
   "metadata": {},
   "outputs": [],
   "source": [
    "from docx import Document\n",
    "from deep_translator import GoogleTranslator\n",
    "import pandas as pd"
   ]
  },
  {
   "cell_type": "code",
   "execution_count": 38,
   "metadata": {},
   "outputs": [
    {
     "name": "stdout",
     "output_type": "stream",
     "text": [
      "100% de 9 lineas\r"
     ]
    },
    {
     "data": {
      "text/html": [
       "<div>\n",
       "<style scoped>\n",
       "    .dataframe tbody tr th:only-of-type {\n",
       "        vertical-align: middle;\n",
       "    }\n",
       "\n",
       "    .dataframe tbody tr th {\n",
       "        vertical-align: top;\n",
       "    }\n",
       "\n",
       "    .dataframe thead th {\n",
       "        text-align: right;\n",
       "    }\n",
       "</style>\n",
       "<table border=\"1\" class=\"dataframe\">\n",
       "  <thead>\n",
       "    <tr style=\"text-align: right;\">\n",
       "      <th></th>\n",
       "      <th>Hebreo</th>\n",
       "      <th>Strong</th>\n",
       "    </tr>\n",
       "  </thead>\n",
       "  <tbody>\n",
       "    <tr>\n",
       "      <th>0</th>\n",
       "      <td>חֲז֖וֹן</td>\n",
       "      <td></td>\n",
       "    </tr>\n",
       "    <tr>\n",
       "      <th>1</th>\n",
       "      <td>עֹֽבַדְיָ֑ה</td>\n",
       "      <td></td>\n",
       "    </tr>\n",
       "    <tr>\n",
       "      <th>2</th>\n",
       "      <td>כֹּֽה־אָמַר֩</td>\n",
       "      <td></td>\n",
       "    </tr>\n",
       "    <tr>\n",
       "      <th>3</th>\n",
       "      <td>אֲדֹנָ֙י</td>\n",
       "      <td></td>\n",
       "    </tr>\n",
       "    <tr>\n",
       "      <th>4</th>\n",
       "      <td>יְהוִ֜ה</td>\n",
       "      <td></td>\n",
       "    </tr>\n",
       "    <tr>\n",
       "      <th>...</th>\n",
       "      <td>...</td>\n",
       "      <td>...</td>\n",
       "    </tr>\n",
       "    <tr>\n",
       "      <th>82</th>\n",
       "      <td>מָזוֹר֙</td>\n",
       "      <td></td>\n",
       "    </tr>\n",
       "    <tr>\n",
       "      <th>83</th>\n",
       "      <td>תַּחְתֶּ֔יךָ</td>\n",
       "      <td></td>\n",
       "    </tr>\n",
       "    <tr>\n",
       "      <th>84</th>\n",
       "      <td>אֵ֥ין</td>\n",
       "      <td></td>\n",
       "    </tr>\n",
       "    <tr>\n",
       "      <th>85</th>\n",
       "      <td>תְּבוּנָ֖ה</td>\n",
       "      <td></td>\n",
       "    </tr>\n",
       "    <tr>\n",
       "      <th>86</th>\n",
       "      <td>בּֽוֹ׃</td>\n",
       "      <td></td>\n",
       "    </tr>\n",
       "  </tbody>\n",
       "</table>\n",
       "<p>87 rows × 2 columns</p>\n",
       "</div>"
      ],
      "text/plain": [
       "          Hebreo Strong\n",
       "0        חֲז֖וֹן       \n",
       "1    עֹֽבַדְיָ֑ה       \n",
       "2   כֹּֽה־אָמַר֩       \n",
       "3       אֲדֹנָ֙י       \n",
       "4        יְהוִ֜ה       \n",
       "..           ...    ...\n",
       "82       מָזוֹר֙       \n",
       "83  תַּחְתֶּ֔יךָ       \n",
       "84         אֵ֥ין       \n",
       "85    תְּבוּנָ֖ה       \n",
       "86        בּֽוֹ׃       \n",
       "\n",
       "[87 rows x 2 columns]"
      ]
     },
     "execution_count": 38,
     "metadata": {},
     "output_type": "execute_result"
    }
   ],
   "source": [
    "f = open('traduccion.docx', 'rb')\n",
    "document = Document(f)\n",
    "f.close()\n",
    "\n",
    "dicc = {}\n",
    "dicc['Hebreo'] = []\n",
    "# dicc['Traduccion'] = []\n",
    "dicc['Strong'] = []\n",
    "\n",
    "parrafos =  document.paragraphs\n",
    "\n",
    "for j in range(len(parrafos)):\n",
    "    procentaje = j / (len(parrafos) - 1) * 100\n",
    "    print('{0:.0f}%'.format(procentaje) + ' de {} lineas'.format(len(parrafos) + 1), end='\\r')\n",
    "    \n",
    "    palabras = parrafos[j].text.split()\n",
    "\n",
    "    for i in range(len(palabras)):\n",
    "        if palabras[i].find('H') > 0:\n",
    "            criptograma = palabras[i].split('H')[0]\n",
    "            strongref = 'H' + palabras[i].split('H')[1]\n",
    "            # cripto_traduccion = GoogleTranslator(source='hebrew', target='es').translate(criptograma)\n",
    "        else:\n",
    "            criptograma = palabras[i]\n",
    "            strongref = ' '\n",
    "            # cripto_traduccion = ' '\n",
    "\n",
    "        dicc['Hebreo'].append(criptograma)\n",
    "        dicc['Strong'].append(strongref)\n",
    "        # dicc['Traduccion'].append(cripto_traduccion)\n",
    "    \n",
    "pd.DataFrame(dicc)"
   ]
  }
 ],
 "metadata": {
  "kernelspec": {
   "display_name": "Python 3.8.10 64-bit",
   "language": "python",
   "name": "python3"
  },
  "language_info": {
   "codemirror_mode": {
    "name": "ipython",
    "version": 3
   },
   "file_extension": ".py",
   "mimetype": "text/x-python",
   "name": "python",
   "nbconvert_exporter": "python",
   "pygments_lexer": "ipython3",
   "version": "3.8.10"
  },
  "orig_nbformat": 4,
  "vscode": {
   "interpreter": {
    "hash": "f899019e40078bba6a192d1b33425237bbe8b1e870f3f4f931213adcabf069ec"
   }
  }
 },
 "nbformat": 4,
 "nbformat_minor": 2
}
