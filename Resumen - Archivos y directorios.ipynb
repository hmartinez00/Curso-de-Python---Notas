{
 "cells": [
  {
   "cell_type": "markdown",
   "metadata": {},
   "source": [
    "# Resumen - Archivos y directorios con Python\n",
    "\n",
    "Esta sección toma información de:\n",
    "\n",
    "* `https://docs.python.org/es/3.8/library/pathlib.html`\n",
    "* `https://docs.python.org/es/3.8/tutorial/inputoutput.html#reading-and-writing-files`"
   ]
  },
  {
   "cell_type": "markdown",
   "metadata": {},
   "source": [
    "## 1.- Creación y lectura de Archivos\n",
    "\n",
    "Con la función [open()](https://docs.python.org/es/3.8/library/functions.html#open) corresponde a una de las [Funciones Built-in](https://docs.python.org/es/3.8/library/functions.html) de Python (funciones y tipos que siempre están disponibles en el lenguaje), podemos crear un archivo. La opción `'w'` significa *abierto para escritura*.\n",
    "\n",
    "Por su parte, con el método [write()](https://docs.python.org/es/3.8/tutorial/inputoutput.html#methods-of-file-objects) podemos sobreescribir el archivo:"
   ]
  },
  {
   "cell_type": "code",
   "execution_count": 1,
   "metadata": {},
   "outputs": [],
   "source": [
    "file = 'workfile.txt'\n",
    "\n",
    "string = '''Mi primera cadena\n",
    "Para escribir mi primer documento con Python\n",
    "'''\n",
    "f = open(file, 'w')\n",
    "f.write(string)\n",
    "f.close()"
   ]
  },
  {
   "cell_type": "markdown",
   "metadata": {},
   "source": [
    "### 1.1 Métodos de los objetos Archivo\n",
    "\n",
    "(Ver: `https://docs.python.org/es/3.8/tutorial/inputoutput.html#methods-of-file-objects`)\n",
    "\n",
    "Algunos metodos ya los hemos visto, como [open()](https://docs.python.org/es/3.8/library/functions.html#open) y [write()](https://docs.python.org/es/3.8/tutorial/inputoutput.html#methods-of-file-objects). Pero podemos encontrar otros como:\n",
    "\n",
    "* `f.read()`\n",
    "* `f.readline()`\n",
    "* `list(f)` o `f.readlines()`\n",
    "* `f.tell()`\n",
    "* `f.seek(offset, whence)`"
   ]
  },
  {
   "cell_type": "markdown",
   "metadata": {},
   "source": [
    "#### 1.1.1 Leyendo archivos con [read()](https://docs.python.org/es/3.8/tutorial/inputoutput.html#methods-of-file-objects)\n",
    "\n",
    "Ahora, para leer el archivo puedo apelar de nuevo a [open()](https://docs.python.org/es/3.8/library/functions.html#open) en su opción `r`, para luego leer en contenido con [read()](https://docs.python.org/es/3.8/tutorial/inputoutput.html#methods-of-file-objects)."
   ]
  },
  {
   "cell_type": "code",
   "execution_count": 2,
   "metadata": {},
   "outputs": [
    {
     "name": "stdout",
     "output_type": "stream",
     "text": [
      "Mi primera cadena\n",
      "Para escribir mi primer documento con Python\n",
      "\n"
     ]
    }
   ],
   "source": [
    "f = open(file, 'r')\n",
    "lectura = f.read()\n",
    "f.close()\n",
    "print(lectura)"
   ]
  },
  {
   "cell_type": "markdown",
   "metadata": {},
   "source": [
    "#### 1.1.2 Leyendo línea por línea con [readline()](https://docs.python.org/es/3.8/tutorial/inputoutput.html#methods-of-file-objects)\n",
    "\n",
    "Apliquemos el método [readline()](https://docs.python.org/es/3.8/tutorial/inputoutput.html#methods-of-file-objects)"
   ]
  },
  {
   "cell_type": "code",
   "execution_count": 3,
   "metadata": {},
   "outputs": [],
   "source": [
    "f = open(file, 'r')\n",
    "lectura1 = f.readline()\n",
    "lectura2 = f.readline()\n",
    "f.close()"
   ]
  },
  {
   "cell_type": "code",
   "execution_count": 4,
   "metadata": {},
   "outputs": [
    {
     "data": {
      "text/plain": [
       "'Mi primera cadena\\n'"
      ]
     },
     "execution_count": 4,
     "metadata": {},
     "output_type": "execute_result"
    }
   ],
   "source": [
    "lectura1"
   ]
  },
  {
   "cell_type": "code",
   "execution_count": 5,
   "metadata": {},
   "outputs": [
    {
     "data": {
      "text/plain": [
       "'Para escribir mi primer documento con Python\\n'"
      ]
     },
     "execution_count": 5,
     "metadata": {},
     "output_type": "execute_result"
    }
   ],
   "source": [
    "lectura2"
   ]
  },
  {
   "cell_type": "markdown",
   "metadata": {},
   "source": [
    "Pero quizá es más óptimo almacenar las líneas del archivo en una lista:"
   ]
  },
  {
   "cell_type": "code",
   "execution_count": 6,
   "metadata": {},
   "outputs": [
    {
     "name": "stdout",
     "output_type": "stream",
     "text": [
      "Mi primera cadena\n",
      "Para escribir mi primer documento con Python\n"
     ]
    }
   ],
   "source": [
    "f = open(file, 'r')\n",
    "for line in f:\n",
    "    print(line, end='')\n",
    "f.close()"
   ]
  },
  {
   "cell_type": "markdown",
   "metadata": {},
   "source": [
    "#### 1.1.3 Separando líneas mediante [readlines()](https://docs.python.org/es/3.8/tutorial/inputoutput.html#methods-of-file-objects)\n",
    "\n",
    "Aun que ya hay métodos diseñados que aligeran ese trabajo como [readlines()](https://docs.python.org/es/3.8/tutorial/inputoutput.html#methods-of-file-objects)"
   ]
  },
  {
   "cell_type": "code",
   "execution_count": 7,
   "metadata": {},
   "outputs": [
    {
     "name": "stdout",
     "output_type": "stream",
     "text": [
      "Para escribir mi primer documento con Python\n",
      "\n"
     ]
    }
   ],
   "source": [
    "f = open(file, 'r')\n",
    "Lista = f.readlines()\n",
    "f.close()\n",
    "print(Lista[1])"
   ]
  },
  {
   "cell_type": "markdown",
   "metadata": {},
   "source": [
    "> Nota: Más información de `open()` y sus opciones en: `https://docs.python.org/es/3.8/library/functions.html#open`"
   ]
  },
  {
   "cell_type": "markdown",
   "metadata": {},
   "source": [
    "Naturalmente se puede obtener el número de líneas de un archivo"
   ]
  },
  {
   "cell_type": "code",
   "execution_count": 8,
   "metadata": {},
   "outputs": [
    {
     "name": "stdout",
     "output_type": "stream",
     "text": [
      "2\n"
     ]
    }
   ],
   "source": [
    "f = open(file, 'r')\n",
    "print(len(f.readlines()))\n",
    "f.close()"
   ]
  },
  {
   "cell_type": "markdown",
   "metadata": {},
   "source": [
    "Así como obtener también el número de caracteres:"
   ]
  },
  {
   "cell_type": "code",
   "execution_count": 9,
   "metadata": {},
   "outputs": [
    {
     "name": "stdout",
     "output_type": "stream",
     "text": [
      "63\n"
     ]
    }
   ],
   "source": [
    "f = open(file, 'r')\n",
    "print(len(f.read()))\n",
    "f.close()"
   ]
  },
  {
   "cell_type": "markdown",
   "metadata": {},
   "source": [
    "Con lo mostrado hasta el momento, el contenido de los archivos se reserva a dos tipos de datos: cadenas de caracteres y listas. De modo que se pueden aplicar todos los métodos asociados a estos tipos de datos. Se recomienda leer el apartado: [Métodos de cadena](https://docs.python.org/3.8/library/stdtypes.html#string-methods) de la documentacion sobre la Biblioteca Estándar de Python."
   ]
  },
  {
   "cell_type": "markdown",
   "metadata": {},
   "source": [
    "### 1.2 Métodos de cadenas aplicada a manipulación de archivos\n",
    "\n",
    "#### 1.2.1 Contando las palabras del archivo con [split()](https://docs.python.org/es/3.8/library/stdtypes.html#str.split)\n",
    "\n",
    "> `str.split(sep=None, maxsplit=-1)`\n",
    "\n",
    "Retorna una lista con las palabras que componen la cadena de caracteres original."
   ]
  },
  {
   "cell_type": "code",
   "execution_count": 10,
   "metadata": {},
   "outputs": [
    {
     "data": {
      "text/plain": [
       "10"
      ]
     },
     "execution_count": 10,
     "metadata": {},
     "output_type": "execute_result"
    }
   ],
   "source": [
    "f = open(file, 'r')\n",
    "palabras = f.read().split()\n",
    "f.close()\n",
    "len(palabras)"
   ]
  },
  {
   "cell_type": "markdown",
   "metadata": {},
   "source": [
    "#### 1.2.2 Separando líneas mediante [splitlines()](https://docs.python.org/es/3.8/library/stdtypes.html#str.splitlines)\n",
    "\n",
    "> `str.splitlines([keepends])`\n",
    "\n",
    "Retorna una lista con las líneas en la cadena, dividiendo por los saltos de línea"
   ]
  },
  {
   "cell_type": "code",
   "execution_count": 11,
   "metadata": {},
   "outputs": [
    {
     "name": "stdout",
     "output_type": "stream",
     "text": [
      "['Mi primera cadena', 'Para escribir mi primer documento con Python']\n"
     ]
    }
   ],
   "source": [
    "f = open(file, 'r')\n",
    "texto = f.read()\n",
    "f.close()\n",
    "\n",
    "print(texto.splitlines())"
   ]
  },
  {
   "cell_type": "markdown",
   "metadata": {},
   "source": [
    "#### 1.2.3 Buscar subcadenas dentro del contenido de un archivos con [find()](https://docs.python.org/es/3.8/library/stdtypes.html#str.find)\n",
    "\n",
    "> `str.find(sub[, start[, end]])`\n",
    "\n",
    "Retornan el menor índice de la cadena donde se puede encontrar la subcadena. El conteo comienza en 0."
   ]
  },
  {
   "cell_type": "code",
   "execution_count": 12,
   "metadata": {},
   "outputs": [
    {
     "name": "stdout",
     "output_type": "stream",
     "text": [
      "Mi primera cadena\n",
      "Para escribir mi primer documento con Python\n",
      "\n",
      "42\n"
     ]
    }
   ],
   "source": [
    "f = open(file, 'r')\n",
    "texto = f.read()\n",
    "f.close()\n",
    "\n",
    "print(texto)\n",
    "print(texto.find(\"documento\"))"
   ]
  },
  {
   "cell_type": "markdown",
   "metadata": {},
   "source": [
    "> Nota: Por otro lado [rfind()](https://docs.python.org/es/3.8/library/stdtypes.html#str.rfind) retorna el mayor índice dentro de la cadena donde se puede encontrar la cadena sub\n",
    "\n",
    "El siguiente código comprueba que la palabra \"documento\" efectivamente se encuentra en la posición 42 del conteo efectuado por el método find sobre el texto completo del archivo inspeccionado."
   ]
  },
  {
   "cell_type": "code",
   "execution_count": 13,
   "metadata": {},
   "outputs": [
    {
     "name": "stdout",
     "output_type": "stream",
     "text": [
      "documento\n"
     ]
    }
   ],
   "source": [
    "f = open(file, 'r')\n",
    "print(f.read()[42:42 + len(\"documento\")])\n",
    "f.close()"
   ]
  },
  {
   "cell_type": "markdown",
   "metadata": {},
   "source": [
    "También hay otras alternativas mas sencillas pero un poco más limitadas como la siguiente:"
   ]
  },
  {
   "cell_type": "code",
   "execution_count": 14,
   "metadata": {},
   "outputs": [
    {
     "data": {
      "text/plain": [
       "True"
      ]
     },
     "execution_count": 14,
     "metadata": {},
     "output_type": "execute_result"
    }
   ],
   "source": [
    "f = open(file, 'r')\n",
    "text = f.read()\n",
    "f.close()\n",
    "\n",
    "\"documento\" in texto"
   ]
  },
  {
   "cell_type": "markdown",
   "metadata": {},
   "source": [
    "Sobre esta base naturalmente se puede desarrollar un código que busque de manera iterativa el número completo de ocurrencias de una palabra dentro del texto. Pero eso es un ejercicio que dejaremos para el lector."
   ]
  },
  {
   "cell_type": "markdown",
   "metadata": {},
   "source": [
    "#### 1.2.4 Reemplazando subcadenas con [replace()](https://docs.python.org/es/3.8/library/stdtypes.html#str.replace)\n",
    "\n",
    "> `str.replace(old, new[, count])`\n",
    "\n",
    "Retorna una copia de la cadena con todas las ocurrencias de la cadena *old* sustituidas por *new*. Si se utiliza el parámetro *count*, solo se cambian las primeras *count* ocurrencias."
   ]
  },
  {
   "cell_type": "code",
   "execution_count": 15,
   "metadata": {},
   "outputs": [
    {
     "name": "stdout",
     "output_type": "stream",
     "text": [
      "Mi primera cadena\n",
      "Para escribir mi primer documento con Python\n",
      "\n"
     ]
    }
   ],
   "source": [
    "subcadenas = ['documento', 'archivo']\n",
    "old = subcadenas[1]\n",
    "new = subcadenas[0]\n",
    "\n",
    "f = open(file, 'r')\n",
    "text = f.read()\n",
    "f.close()\n",
    "\n",
    "nuevo_texto = texto.replace(old, new)\n",
    "\n",
    "f = open(file, 'w')\n",
    "text = f.write(nuevo_texto)\n",
    "f.close()\n",
    "\n",
    "f = open(file, 'r')\n",
    "text = f.read()\n",
    "f.close()\n",
    "\n",
    "print(text)"
   ]
  },
  {
   "cell_type": "markdown",
   "metadata": {},
   "source": [
    "## 2.- Directorios y Archivos con la líbrería [os](https://docs.python.org/es/3.8/library/os.html#module-os)"
   ]
  },
  {
   "cell_type": "code",
   "execution_count": 16,
   "metadata": {},
   "outputs": [],
   "source": [
    "import os"
   ]
  },
  {
   "cell_type": "code",
   "execution_count": 17,
   "metadata": {},
   "outputs": [
    {
     "data": {
      "text/plain": [
       "'c:\\\\JupyterNotebook\\\\Curso de Python - Notas\\\\Acceso a archivos y directorios'"
      ]
     },
     "execution_count": 17,
     "metadata": {},
     "output_type": "execute_result"
    }
   ],
   "source": [
    "os.getcwd()"
   ]
  },
  {
   "cell_type": "code",
   "execution_count": 18,
   "metadata": {},
   "outputs": [
    {
     "data": {
      "text/plain": [
       "['0. Acceso a archivos y directorios.ipynb',\n",
       " '1. pathlib — Object-oriented filesystem paths.ipynb',\n",
       " '10. shutil — Operaciones de archivos de alto nivel.ipynb',\n",
       " '2. os.path — Manipulaciones comunes de nombre de ruta.ipynb',\n",
       " '3. fileinput — Iterar sobre líneas de múltiples flujos de entrada.ipynb',\n",
       " '4. stat — Interpretación de los resultados de stat().ipynb',\n",
       " '5. filecmp— Comparaciones de Archivo y Directorio.ipynb',\n",
       " '6. tempfile — Generar archivos y directorios temporales.ipynb',\n",
       " '7. glob — Expansión del patrón de nombres de ruta de estilo Unix.ipynb',\n",
       " '8. fnmatch — Coincidencia de patrones de nombre de archivos Unix.ipynb',\n",
       " '9. linecache — Acceso aleatorio a líneas de texto.ipynb',\n",
       " 'carpeta de prueba',\n",
       " 'Practicas.ipynb',\n",
       " 'Resumen - Archivos y directorios.ipynb',\n",
       " 'src',\n",
       " 'test.py',\n",
       " 'test.txt',\n",
       " 'workfile.txt']"
      ]
     },
     "execution_count": 18,
     "metadata": {},
     "output_type": "execute_result"
    }
   ],
   "source": [
    "os.listdir('.')"
   ]
  },
  {
   "cell_type": "code",
   "execution_count": 19,
   "metadata": {},
   "outputs": [
    {
     "data": {
      "text/plain": [
       "['.ipynb_checkpoints',\n",
       " 'Curso de Python - Notas',\n",
       " 'Curso de Python - Notas.zip',\n",
       " 'Primera carpeta de Pruebas con Jupyter',\n",
       " 'Untitled.ipynb']"
      ]
     },
     "execution_count": 19,
     "metadata": {},
     "output_type": "execute_result"
    }
   ],
   "source": [
    "directorio = 'c:\\\\JupyterNotebook'\n",
    "os.listdir(directorio)"
   ]
  },
  {
   "cell_type": "code",
   "execution_count": 20,
   "metadata": {},
   "outputs": [
    {
     "data": {
      "text/plain": [
       "'c:\\\\JupyterNotebook'"
      ]
     },
     "execution_count": 20,
     "metadata": {},
     "output_type": "execute_result"
    }
   ],
   "source": [
    "os.chdir(directorio)\n",
    "os.getcwd()"
   ]
  },
  {
   "cell_type": "code",
   "execution_count": 21,
   "metadata": {},
   "outputs": [
    {
     "data": {
      "text/plain": [
       "['.ipynb_checkpoints',\n",
       " 'Curso de Python - Notas',\n",
       " 'Curso de Python - Notas.zip',\n",
       " 'Primera carpeta de Pruebas con Jupyter',\n",
       " 'Untitled.ipynb']"
      ]
     },
     "execution_count": 21,
     "metadata": {},
     "output_type": "execute_result"
    }
   ],
   "source": [
    "os.listdir()"
   ]
  },
  {
   "cell_type": "code",
   "execution_count": 22,
   "metadata": {},
   "outputs": [
    {
     "data": {
      "text/plain": [
       "'C:\\\\JupyterNotebook\\\\Curso de Python - Notas\\\\Acceso a archivos y directorios'"
      ]
     },
     "execution_count": 22,
     "metadata": {},
     "output_type": "execute_result"
    }
   ],
   "source": [
    "directorio_0 = 'C:\\\\JupyterNotebook\\\\Curso de Python - Notas\\\\Acceso a archivos y directorios'\n",
    "os.chdir(directorio_0)\n",
    "os.getcwd()"
   ]
  },
  {
   "cell_type": "code",
   "execution_count": 34,
   "metadata": {},
   "outputs": [],
   "source": [
    "carpeta_0 = 'carpeta de prueba'\n",
    "subcarpeta_0 = 'sub carpeta 1'\n",
    "archivo_0 = 'text.txt'\n",
    "\n",
    "arbol = carpeta_0 + '\\\\' + subcarpeta_0\n",
    "\n",
    "os.makedirs(arbol)\n",
    "\n",
    "file = open(arbol + '\\\\' + archivo_0, 'w')\n",
    "file.close()"
   ]
  },
  {
   "cell_type": "code",
   "execution_count": null,
   "metadata": {},
   "outputs": [],
   "source": [
    "old = arbol + '\\\\' + 'text.txt'\n",
    "new = arbol + '\\\\' + 'test.txt'\n",
    "os.rename(old, new)"
   ]
  },
  {
   "cell_type": "code",
   "execution_count": 36,
   "metadata": {},
   "outputs": [],
   "source": [
    "os.remove(arbol + '\\\\' + archivo_0)"
   ]
  },
  {
   "cell_type": "code",
   "execution_count": 37,
   "metadata": {},
   "outputs": [],
   "source": [
    "os.removedirs(arbol)"
   ]
  },
  {
   "cell_type": "markdown",
   "metadata": {},
   "source": [
    "Es posible obtener los archivos de un directorio cuyo nombre contengan una determinada cadena:"
   ]
  },
  {
   "cell_type": "code",
   "execution_count": 66,
   "metadata": {},
   "outputs": [
    {
     "name": "stdout",
     "output_type": "stream",
     "text": [
      "0. Acceso a archivos y directorios.ipynb\n",
      "1. pathlib — Object-oriented filesystem paths.ipynb\n",
      "10. shutil — Operaciones de archivos de alto nivel.ipynb\n",
      "2. os.path — Manipulaciones comunes de nombre de ruta.ipynb\n",
      "3. fileinput — Iterar sobre líneas de múltiples flujos de entrada.ipynb\n",
      "4. stat — Interpretación de los resultados de stat().ipynb\n",
      "5. filecmp— Comparaciones de Archivo y Directorio.ipynb\n",
      "6. tempfile — Generar archivos y directorios temporales.ipynb\n",
      "7. glob — Expansión del patrón de nombres de ruta de estilo Unix.ipynb\n",
      "8. fnmatch — Coincidencia de patrones de nombre de archivos Unix.ipynb\n",
      "9. linecache — Acceso aleatorio a líneas de texto.ipynb\n",
      "Practicas.ipynb\n",
      "Resumen - Archivos y directorios.ipynb\n",
      "test.py\n"
     ]
    }
   ],
   "source": [
    "Listado = os.listdir()\n",
    "Listado1 = []\n",
    "for x in Listado:\n",
    "    if x.find('py') > 0:\n",
    "        Listado1.append(x)\n",
    "        print(x)"
   ]
  },
  {
   "cell_type": "markdown",
   "metadata": {},
   "source": [
    "Pero quizá resulten convenientes los algoritmos de otras librerías como Pathlib, desarrollados para hacer eficientes estas tareas."
   ]
  },
  {
   "cell_type": "code",
   "execution_count": 74,
   "metadata": {},
   "outputs": [
    {
     "data": {
      "text/plain": [
       "[WindowsPath('0. Acceso a archivos y directorios.ipynb'),\n",
       " WindowsPath('1. pathlib — Object-oriented filesystem paths.ipynb'),\n",
       " WindowsPath('10. shutil — Operaciones de archivos de alto nivel.ipynb'),\n",
       " WindowsPath('2. os.path — Manipulaciones comunes de nombre de ruta.ipynb'),\n",
       " WindowsPath('3. fileinput — Iterar sobre líneas de múltiples flujos de entrada.ipynb'),\n",
       " WindowsPath('4. stat — Interpretación de los resultados de stat().ipynb'),\n",
       " WindowsPath('5. filecmp— Comparaciones de Archivo y Directorio.ipynb'),\n",
       " WindowsPath('6. tempfile — Generar archivos y directorios temporales.ipynb'),\n",
       " WindowsPath('7. glob — Expansión del patrón de nombres de ruta de estilo Unix.ipynb'),\n",
       " WindowsPath('8. fnmatch — Coincidencia de patrones de nombre de archivos Unix.ipynb'),\n",
       " WindowsPath('9. linecache — Acceso aleatorio a líneas de texto.ipynb'),\n",
       " WindowsPath('Practicas.ipynb'),\n",
       " WindowsPath('Resumen - Archivos y directorios.ipynb'),\n",
       " WindowsPath('test.py')]"
      ]
     },
     "execution_count": 74,
     "metadata": {},
     "output_type": "execute_result"
    }
   ],
   "source": [
    "from pathlib import Path\n",
    "Listado2 = list(Path('.').glob('*py*')) # list() es una funcion Build-in\n",
    "Listado2"
   ]
  },
  {
   "cell_type": "code",
   "execution_count": 4,
   "metadata": {},
   "outputs": [],
   "source": [
    "from filecmp import dircmp\n",
    "\n",
    "dir1 = r'C:\\Users\\Hector Martinez\\Downloads\\Telegram Desktop\\Edilis Espinoza 18367802 (updated 20221005)\\20220905\\Estudios\\IMG_20220908_145302.jpg'\n",
    "dir2 = r'C:\\Users\\Hector Martinez\\Documents\\Edilis Espinoza 18367802 (update 20221003)\\20220905\\Estudios\\IMG_20220908_145302.jpg'\n",
    "\n",
    "\n",
    "def print_diff_files(dcmp):\n",
    "    for name in dcmp.diff_files:\n",
    "        print(\"diff_file %s found in %s and %s\" % (name, dcmp.left,\n",
    "              dcmp.right))\n",
    "    for sub_dcmp in dcmp.subdirs.values():\n",
    "        print_diff_files(sub_dcmp)\n",
    "\n",
    "dcmp = dircmp(dir1, dir2)\n",
    "print_diff_files(dcmp) "
   ]
  }
 ],
 "metadata": {
  "interpreter": {
   "hash": "f899019e40078bba6a192d1b33425237bbe8b1e870f3f4f931213adcabf069ec"
  },
  "kernelspec": {
   "display_name": "Python 3.8.10 64-bit",
   "language": "python",
   "name": "python3"
  },
  "language_info": {
   "codemirror_mode": {
    "name": "ipython",
    "version": 3
   },
   "file_extension": ".py",
   "mimetype": "text/x-python",
   "name": "python",
   "nbconvert_exporter": "python",
   "pygments_lexer": "ipython3",
   "version": "3.8.10"
  },
  "orig_nbformat": 4
 },
 "nbformat": 4,
 "nbformat_minor": 2
}
