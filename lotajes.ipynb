{
 "cells": [
  {
   "cell_type": "markdown",
   "metadata": {},
   "source": [
    "# Calcular valor de pips por lotaje\n",
    "\n",
    "Si nos regimos por la fórmula aproximada:\n",
    "\n",
    "$$\\bold{Lotaje} = 1 \\longleftrightarrow 1\\bold{pip} = \\$10 $$\n",
    "\n",
    "Esto nos indica que podemos hacer la siguiente proporción de cálculo:\n",
    "\n",
    "$$ \\frac{1 \\bold{pip}}{\\bold{Lotaje}} = \\frac{\\$10}{1} $$\n",
    "\n",
    "Lo que nos arrojará directamente el valor de un pip como una simple multiplicación y nada más místico que eso:\n",
    "\n",
    "$$ 1 \\bold{pip} = \\$10 \\cdot \\bold{Lotaje} $$\n",
    "\n",
    "Sólo bastaría con incorporar el valor del lotaje para determinar el valor del pip."
   ]
  },
  {
   "cell_type": "code",
   "execution_count": 6,
   "metadata": {},
   "outputs": [
    {
     "data": {
      "text/plain": [
       "0.1"
      ]
     },
     "execution_count": 6,
     "metadata": {},
     "output_type": "execute_result"
    }
   ],
   "source": [
    "10*0.01"
   ]
  },
  {
   "cell_type": "markdown",
   "metadata": {},
   "source": [
    "Ahora, si tenemos una cantidad fija de pips para establecer algún parámetro en nuestras operaciones, habrá que escoger el lotaje para determinar cuanto será el valor de ese parámetros en dólares. Supongamos que establecemos el **Stop Loss en 50 pips** y debemos escoger un lotaje para operar que no exceda el 3% de nuestro capital, entonces:\n",
    "\n",
    "$$ 0.03 \\cdot \\bold{Capital} \\$ = 50 \\bold{pip} $$\n",
    "$$ 0.03 \\cdot \\bold{Capital} \\$ = 50 \\cdot \\$10 \\cdot \\bold{Lotaje} $$\n",
    "$$ \\bold{Lotaje} = \\frac{0.03}{500} \\cdot \\bold{Capital} $$\n",
    "\n",
    "Luego para un Capital del 100$ por ejemplo tendríamos un lotaje equivalente a:"
   ]
  },
  {
   "cell_type": "code",
   "execution_count": 5,
   "metadata": {},
   "outputs": [
    {
     "data": {
      "text/plain": [
       "0.005999999999999999"
      ]
     },
     "execution_count": 5,
     "metadata": {},
     "output_type": "execute_result"
    }
   ],
   "source": [
    "0.03/500 * 100"
   ]
  },
  {
   "cell_type": "markdown",
   "metadata": {},
   "source": [
    "Esto es $\\bold{Lotaje} \\approx 0.006$. Con un Lotaje así cada pip de ganancia serían $ \\$ 10 \\cdot (0.006) \\approx 0.06 \\$ $, de modo que 50 pips serían:"
   ]
  },
  {
   "cell_type": "code",
   "execution_count": 12,
   "metadata": {},
   "outputs": [
    {
     "data": {
      "text/plain": [
       "3.0"
      ]
     },
     "execution_count": 12,
     "metadata": {},
     "output_type": "execute_result"
    }
   ],
   "source": [
    "50*0.06"
   ]
  },
  {
   "attachments": {},
   "cell_type": "markdown",
   "metadata": {},
   "source": [
    "# Calcular el beneficio de una operación\n",
    "\n",
    "Considerando:\n",
    "\n",
    "* _Close_: Precio de cierre\n",
    "* _Open_: Precio de apertura\n",
    "* _F_: Apalancamiento\n",
    "* _I_: Inversión\n",
    "\n",
    "Para las posiciones largas, el beneficio se calcula de acuerdo a la siguiente fórmula:\n",
    "$$ B = I + ( \\frac{Close}{Open} - 1) * F$$\n",
    "\n",
    "Para las posiciones cortas, el beneficio se calcula de acuerdo a la siguiente fórmula:\n",
    "$$ B = I - ( \\frac{Close}{Open} - 1) * F$$"
   ]
  },
  {
   "cell_type": "code",
   "execution_count": 8,
   "metadata": {},
   "outputs": [],
   "source": [
    "def profit(__open__, __close__, __I__, __F__):\n",
    "    __B__ = __I__ + (__close__/__open__ - 1)*__F__\n",
    "\n",
    "    return __B__"
   ]
  },
  {
   "cell_type": "code",
   "execution_count": 7,
   "metadata": {},
   "outputs": [
    {
     "name": "stdout",
     "output_type": "stream",
     "text": [
      "1006.8181818181819\n"
     ]
    }
   ],
   "source": [
    "open    = 12\n",
    "close   = 15\n",
    "I       = 1000\n",
    "F       = 5\n",
    "\n",
    "print(profit(open, close, I, F))"
   ]
  }
 ],
 "metadata": {
  "kernelspec": {
   "display_name": "Python 3",
   "language": "python",
   "name": "python3"
  },
  "language_info": {
   "codemirror_mode": {
    "name": "ipython",
    "version": 3
   },
   "file_extension": ".py",
   "mimetype": "text/x-python",
   "name": "python",
   "nbconvert_exporter": "python",
   "pygments_lexer": "ipython3",
   "version": "3.10.9"
  },
  "orig_nbformat": 4,
  "vscode": {
   "interpreter": {
    "hash": "a5a73f597fcb854980f94a18818b7be73a73b2027b10bc6a050730db2b58fc01"
   }
  }
 },
 "nbformat": 4,
 "nbformat_minor": 2
}
