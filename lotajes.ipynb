{
 "cells": [
  {
   "cell_type": "markdown",
   "metadata": {},
   "source": [
    "# Calcular valor de pips por lotaje\n",
    "\n",
    "Si nos regimos por la fórmula aproximada:\n",
    "\n",
    "$$\\bold{Lotaje} = 1 \\longleftrightarrow 1\\bold{pip} = \\$10 $$\n",
    "\n",
    "Esto nos indica que podemos hacer la siguiente proporción de cálculo:\n",
    "\n",
    "$$ \\frac{1 \\bold{pip}}{\\bold{Lotaje}} = \\frac{\\$10}{1} $$\n",
    "\n",
    "Lo que nos arrojará directamente el valor de un pip como una simple multiplicación y nada más místico que eso:\n",
    "\n",
    "$$ 1 \\bold{pip} = \\$10 \\cdot \\bold{Lotaje} $$\n",
    "\n",
    "Sólo bastaría con incorporar el valor del lotaje para determinar el valor del pip."
   ]
  },
  {
   "cell_type": "code",
   "execution_count": 2,
   "metadata": {},
   "outputs": [
    {
     "data": {
      "text/plain": [
       "0.5"
      ]
     },
     "execution_count": 2,
     "metadata": {},
     "output_type": "execute_result"
    }
   ],
   "source": [
    "10*0.05"
   ]
  },
  {
   "cell_type": "markdown",
   "metadata": {},
   "source": [
    "Ahora, si tenemos una cantidad fija de pips para establecer algún parámetro en nuestras operaciones, habrá que escoger el lotaje para determinar cuanto será el valor de ese parámetros en dólares. Supongamos que establecemos el **Stop Loss en 50 pips** y debemos escoger un lotaje para operar que no exceda el 3% de nuestro capital, entonces:\n",
    "\n"
   ]
  }
 ],
 "metadata": {
  "interpreter": {
   "hash": "8a6378035587bb97055001603ea9d85a2aa377cc6252a50ffca4355a71bc8b90"
  },
  "kernelspec": {
   "display_name": "Python 3.8.10 64-bit",
   "language": "python",
   "name": "python3"
  },
  "language_info": {
   "codemirror_mode": {
    "name": "ipython",
    "version": 3
   },
   "file_extension": ".py",
   "mimetype": "text/x-python",
   "name": "python",
   "nbconvert_exporter": "python",
   "pygments_lexer": "ipython3",
   "version": "3.8.10"
  },
  "orig_nbformat": 4
 },
 "nbformat": 4,
 "nbformat_minor": 2
}
