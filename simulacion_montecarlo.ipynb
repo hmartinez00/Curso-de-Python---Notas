{
 "cells": [
  {
   "attachments": {},
   "cell_type": "markdown",
   "metadata": {},
   "source": [
    "# Método Monte Carlo\n",
    "\n",
    "La simulación de Monte Carlo es una técnica que se utiliza para estimar resultados o analizar escenarios inciertos mediante la generación de múltiples muestras aleatorias. "
   ]
  },
  {
   "attachments": {},
   "cell_type": "markdown",
   "metadata": {},
   "source": [
    "## Ejemplo 1: El dado\n",
    "\n",
    "Un ejemplo común para entender la simulación de Monte Carlo en Python es simular el lanzamiento de un dado y estimar la probabilidad de obtener un número específico. Aquí tienes un ejemplo sencillo de cómo realizar esto en Python:"
   ]
  },
  {
   "cell_type": "code",
   "execution_count": 6,
   "metadata": {},
   "outputs": [],
   "source": [
    "import random"
   ]
  },
  {
   "attachments": {},
   "cell_type": "markdown",
   "metadata": {},
   "source": [
    "Genera un número aleatorio entre 1 y 6 simulando un lanzamiento de dado"
   ]
  },
  {
   "cell_type": "code",
   "execution_count": 3,
   "metadata": {},
   "outputs": [],
   "source": [
    "def lanzamiento_dado():\n",
    "    return random.randint(1, 6) "
   ]
  },
  {
   "attachments": {},
   "cell_type": "markdown",
   "metadata": {},
   "source": [
    "Definimos una funcion para producir la simulacion"
   ]
  },
  {
   "cell_type": "code",
   "execution_count": 4,
   "metadata": {},
   "outputs": [],
   "source": [
    "def simulacion_montecarlo(num_lanzamientos):\n",
    "    conteo_objetivo = 0  # Contador para el número de veces que se obtiene el número objetivo\n",
    "    objetivo = 5  # Número objetivo a obtener\n",
    "    \n",
    "    for _ in range(num_lanzamientos):\n",
    "        resultado = lanzamiento_dado()\n",
    "        if resultado == objetivo:\n",
    "            conteo_objetivo += 1\n",
    "    \n",
    "    probabilidad = conteo_objetivo / num_lanzamientos\n",
    "    return probabilidad"
   ]
  },
  {
   "attachments": {},
   "cell_type": "markdown",
   "metadata": {},
   "source": [
    "Aplicamos"
   ]
  },
  {
   "cell_type": "code",
   "execution_count": 5,
   "metadata": {},
   "outputs": [
    {
     "name": "stdout",
     "output_type": "stream",
     "text": [
      "La probabilidad estimada de obtener el número 5 en un lanzamiento de dado es: 0.1694\n"
     ]
    }
   ],
   "source": [
    "# Ejemplo de uso\n",
    "num_lanzamientos = 10000\n",
    "probabilidad = simulacion_montecarlo(num_lanzamientos)\n",
    "print(f\"La probabilidad estimada de obtener el número 5 en un lanzamiento de dado es: {probabilidad}\")"
   ]
  },
  {
   "attachments": {},
   "cell_type": "markdown",
   "metadata": {},
   "source": [
    "En este ejemplo, la función `lanzamiento_dado()` simula un lanzamiento de dado y devuelve un número aleatorio entre 1 y 6 utilizando la función `randint()` del módulo random. Luego, la función `simulacion_montecarlo()` realiza un número determinado de lanzamientos de dado y cuenta cuántas veces se obtiene el número objetivo _(en este caso, el número 5)_. Finalmente, calcula la probabilidad estimada dividiendo el número de veces que se obtuvo el número objetivo entre el número total de lanzamientos.\n",
    "\n",
    "Al aumentar el valor de **num_lanzamientos**, obtendrás una estimación más precisa de la probabilidad real. Recuerda que, debido a la naturaleza aleatoria de la simulación, la probabilidad estimada puede variar ligeramente en cada ejecución.\n",
    "\n",
    "Este ejemplo simple te permitirá comprender los fundamentos de la simulación de Monte Carlo en Python y cómo se pueden estimar probabilidades utilizando muestras aleatorias. Puedes adaptar este ejemplo a otros escenarios más complejos según tus necesidades."
   ]
  },
  {
   "attachments": {},
   "cell_type": "markdown",
   "metadata": {},
   "source": [
    "## Ejemplo 2: Estimando el valor de π"
   ]
  },
  {
   "attachments": {},
   "cell_type": "markdown",
   "metadata": {},
   "source": [
    "Generamos el evento aleatorio"
   ]
  },
  {
   "cell_type": "code",
   "execution_count": 14,
   "metadata": {},
   "outputs": [],
   "source": [
    "def genera_coordenadas():\n",
    "    x = random.uniform(-1, 1)  # Genera una coordenada x aleatoria entre -1 y 1\n",
    "    y = random.uniform(-1, 1)  # Genera una coordenada y aleatoria entre -1 y 1\n",
    "    distancia = x**2 + y**2  # Calcula la distancia al origen (0, 0)\n",
    "    return distancia\n",
    "\n",
    "# Aca el evento aleatorio es la magnitud de la distancia."
   ]
  },
  {
   "attachments": {},
   "cell_type": "markdown",
   "metadata": {},
   "source": [
    "Definimos una funcion para producir la simulacion"
   ]
  },
  {
   "cell_type": "code",
   "execution_count": 12,
   "metadata": {},
   "outputs": [],
   "source": [
    "def estimar_pi(num_puntos):\n",
    "    conteo_objetivo = 0\n",
    "    objetivo = 1\n",
    "\n",
    "    for _ in range(num_puntos):\n",
    "        resultado = genera_coordenadas()      \n",
    "        if resultado <= objetivo:  # Comprueba si el punto está dentro del círculo unitario\n",
    "            conteo_objetivo += 1\n",
    "\n",
    "    pi_estimado = 4 * (conteo_objetivo / num_puntos)\n",
    "    return pi_estimado"
   ]
  },
  {
   "attachments": {},
   "cell_type": "markdown",
   "metadata": {},
   "source": [
    "Aplicamos"
   ]
  },
  {
   "cell_type": "code",
   "execution_count": 15,
   "metadata": {},
   "outputs": [
    {
     "name": "stdout",
     "output_type": "stream",
     "text": [
      "El valor estimado de pi es: 3.142576\n"
     ]
    }
   ],
   "source": [
    "# Ejemplo de uso\n",
    "num_puntos = 1000000\n",
    "pi_estimado = estimar_pi(num_puntos)\n",
    "print(f\"El valor estimado de pi es: {pi_estimado}\")"
   ]
  },
  {
   "attachments": {},
   "cell_type": "markdown",
   "metadata": {},
   "source": [
    "En este ejemplo, utilizamos la idea de que la relación entre el área de un círculo y un cuadrado circunscrito a él es π/4. Generamos puntos aleatorios dentro de un cuadrado de lado 2 y contamos cuántos de esos puntos caen dentro de un círculo unitario (radio 1). Al estimar la proporción de puntos dentro del círculo, multiplicamos por 4 para obtener una estimación del valor de π.\n",
    "\n",
    "A medida que incrementas el valor de `num_puntos`, obtendrás una estimación más precisa de π. La belleza de este ejemplo es que, aunque no estamos calculando π directamente, estamos utilizando la simulación de Monte Carlo para obtener una estimación de manera probabilística.\n",
    "\n",
    "Recuerda que debido a la naturaleza aleatoria de la simulación, el resultado puede variar en cada ejecución. Sin embargo, a medida que aumentes el número de puntos, la estimación se acercará más al valor real de π.\n",
    "\n",
    "Este ejemplo ilustra cómo se puede utilizar la simulación de Monte Carlo para estimar valores de una constante matemática y cómo los resultados convergen a medida que aumenta el tamaño de la muestra."
   ]
  }
 ],
 "metadata": {
  "kernelspec": {
   "display_name": "Python 3",
   "language": "python",
   "name": "python3"
  },
  "language_info": {
   "codemirror_mode": {
    "name": "ipython",
    "version": 3
   },
   "file_extension": ".py",
   "mimetype": "text/x-python",
   "name": "python",
   "nbconvert_exporter": "python",
   "pygments_lexer": "ipython3",
   "version": "3.8.10"
  },
  "orig_nbformat": 4
 },
 "nbformat": 4,
 "nbformat_minor": 2
}
